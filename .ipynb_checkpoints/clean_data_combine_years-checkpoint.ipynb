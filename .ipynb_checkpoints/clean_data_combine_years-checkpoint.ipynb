{
 "cells": [
  {
   "cell_type": "markdown",
   "metadata": {},
   "source": [
    "# Pull data from each year together and clean/organize it so that I can perform analysis"
   ]
  },
  {
   "cell_type": "code",
   "execution_count": 2,
   "metadata": {},
   "outputs": [],
   "source": [
    "import glob\n",
    "import pandas as pd\n",
    "import numpy as np\n",
    "import matplotlib.pyplot as plt\n",
    "import matplotlib.ticker\n",
    "import seaborn as sns\n",
    "import datetime"
   ]
  },
  {
   "cell_type": "markdown",
   "metadata": {},
   "source": [
    "### 2018 Data "
   ]
  },
  {
   "cell_type": "code",
   "execution_count": 3,
   "metadata": {},
   "outputs": [],
   "source": [
    "# open all 2018 csv files and read them into a dataframe \n",
    "files = glob.glob('data/2018/*.csv')\n",
    "\n",
    "phx_ven_pay_18 = pd.concat([pd.read_csv(f) for f in files], sort=True)"
   ]
  },
  {
   "cell_type": "code",
   "execution_count": 4,
   "metadata": {},
   "outputs": [
    {
     "data": {
      "text/plain": [
       "(554526, 5)"
      ]
     },
     "execution_count": 4,
     "metadata": {},
     "output_type": "execute_result"
    }
   ],
   "source": [
    "phx_ven_pay_18.shape"
   ]
  },
  {
   "cell_type": "code",
   "execution_count": 5,
   "metadata": {},
   "outputs": [
    {
     "data": {
      "text/html": [
       "<div>\n",
       "<style scoped>\n",
       "    .dataframe tbody tr th:only-of-type {\n",
       "        vertical-align: middle;\n",
       "    }\n",
       "\n",
       "    .dataframe tbody tr th {\n",
       "        vertical-align: top;\n",
       "    }\n",
       "\n",
       "    .dataframe thead th {\n",
       "        text-align: right;\n",
       "    }\n",
       "</style>\n",
       "<table border=\"1\" class=\"dataframe\">\n",
       "  <thead>\n",
       "    <tr style=\"text-align: right;\">\n",
       "      <th></th>\n",
       "      <th>Check/Payment Date</th>\n",
       "      <th>Commitmt Item Name</th>\n",
       "      <th>Dept. Descrptn</th>\n",
       "      <th>Invoice Net Amt</th>\n",
       "      <th>Vendor Name</th>\n",
       "    </tr>\n",
       "  </thead>\n",
       "  <tbody>\n",
       "    <tr>\n",
       "      <th>0</th>\n",
       "      <td>4/25/2018</td>\n",
       "      <td>Spec Contractual Svc</td>\n",
       "      <td>Human Services</td>\n",
       "      <td>1166.67</td>\n",
       "      <td>1 N 10 INC</td>\n",
       "    </tr>\n",
       "    <tr>\n",
       "      <th>1</th>\n",
       "      <td>4/25/2018</td>\n",
       "      <td>Spec Contractual Svc</td>\n",
       "      <td>Human Services</td>\n",
       "      <td>4166.66</td>\n",
       "      <td>1 N 10 INC</td>\n",
       "    </tr>\n",
       "    <tr>\n",
       "      <th>2</th>\n",
       "      <td>4/2/2018</td>\n",
       "      <td>Housing Appliances</td>\n",
       "      <td>Housing</td>\n",
       "      <td>1322.86</td>\n",
       "      <td>1 STOP ELECTRONICS CENTER INC</td>\n",
       "    </tr>\n",
       "    <tr>\n",
       "      <th>3</th>\n",
       "      <td>4/2/2018</td>\n",
       "      <td>Housing Appliances</td>\n",
       "      <td>Parks and Recreation</td>\n",
       "      <td>1316.38</td>\n",
       "      <td>1 STOP ELECTRONICS CENTER INC</td>\n",
       "    </tr>\n",
       "    <tr>\n",
       "      <th>4</th>\n",
       "      <td>4/2/2018</td>\n",
       "      <td>Housing Appliances</td>\n",
       "      <td>Housing</td>\n",
       "      <td>661.43</td>\n",
       "      <td>1 STOP ELECTRONICS CENTER INC</td>\n",
       "    </tr>\n",
       "  </tbody>\n",
       "</table>\n",
       "</div>"
      ],
      "text/plain": [
       "  Check/Payment Date    Commitmt Item Name        Dept. Descrptn  \\\n",
       "0          4/25/2018  Spec Contractual Svc        Human Services   \n",
       "1          4/25/2018  Spec Contractual Svc        Human Services   \n",
       "2           4/2/2018    Housing Appliances               Housing   \n",
       "3           4/2/2018    Housing Appliances  Parks and Recreation   \n",
       "4           4/2/2018    Housing Appliances               Housing   \n",
       "\n",
       "  Invoice Net Amt                    Vendor Name  \n",
       "0         1166.67                     1 N 10 INC  \n",
       "1         4166.66                     1 N 10 INC  \n",
       "2         1322.86  1 STOP ELECTRONICS CENTER INC  \n",
       "3         1316.38  1 STOP ELECTRONICS CENTER INC  \n",
       "4          661.43  1 STOP ELECTRONICS CENTER INC  "
      ]
     },
     "execution_count": 5,
     "metadata": {},
     "output_type": "execute_result"
    }
   ],
   "source": [
    "phx_ven_pay_18.head()"
   ]
  },
  {
   "cell_type": "markdown",
   "metadata": {},
   "source": [
    "### 2017 Data"
   ]
  },
  {
   "cell_type": "code",
   "execution_count": 6,
   "metadata": {},
   "outputs": [],
   "source": [
    "# open all 2017 csv files and read them into a dataframe \n",
    "files = glob.glob('data/2017/*.csv')\n",
    "\n",
    "phx_ven_pay_17 = pd.concat([pd.read_csv(f) for f in files], sort=True)"
   ]
  },
  {
   "cell_type": "code",
   "execution_count": 149,
   "metadata": {},
   "outputs": [
    {
     "data": {
      "text/html": [
       "<div>\n",
       "<style scoped>\n",
       "    .dataframe tbody tr th:only-of-type {\n",
       "        vertical-align: middle;\n",
       "    }\n",
       "\n",
       "    .dataframe tbody tr th {\n",
       "        vertical-align: top;\n",
       "    }\n",
       "\n",
       "    .dataframe thead th {\n",
       "        text-align: right;\n",
       "    }\n",
       "</style>\n",
       "<table border=\"1\" class=\"dataframe\">\n",
       "  <thead>\n",
       "    <tr style=\"text-align: right;\">\n",
       "      <th></th>\n",
       "      <th>Invoice Net Amt</th>\n",
       "      <th>Check/Payment Date</th>\n",
       "      <th>Commitmt Item Name</th>\n",
       "      <th>Dept. Descrptn</th>\n",
       "      <th>Vendor Name</th>\n",
       "    </tr>\n",
       "  </thead>\n",
       "  <tbody>\n",
       "    <tr>\n",
       "      <th>0</th>\n",
       "      <td>138.18</td>\n",
       "      <td>12/13/2017</td>\n",
       "      <td>Inventories-Offline</td>\n",
       "      <td>Public Works</td>\n",
       "      <td>1 STOP ELECTRONICS CENTER INC</td>\n",
       "    </tr>\n",
       "    <tr>\n",
       "      <th>1</th>\n",
       "      <td>4001.92</td>\n",
       "      <td>12/29/2017</td>\n",
       "      <td>Com Software&lt;Cap Lmt</td>\n",
       "      <td>Planning and Development</td>\n",
       "      <td>20-20 TECHNOLOGIES</td>\n",
       "    </tr>\n",
       "    <tr>\n",
       "      <th>2</th>\n",
       "      <td>-316.92</td>\n",
       "      <td>12/29/2017</td>\n",
       "      <td>Com Software&lt;Cap Lmt</td>\n",
       "      <td>Planning and Development</td>\n",
       "      <td>20-20 TECHNOLOGIES</td>\n",
       "    </tr>\n",
       "    <tr>\n",
       "      <th>3</th>\n",
       "      <td>2122.04</td>\n",
       "      <td>12/29/2017</td>\n",
       "      <td>Com Software&lt;Cap Lmt</td>\n",
       "      <td>Planning and Development</td>\n",
       "      <td>20-20 TECHNOLOGIES</td>\n",
       "    </tr>\n",
       "    <tr>\n",
       "      <th>4</th>\n",
       "      <td>-168.04</td>\n",
       "      <td>12/29/2017</td>\n",
       "      <td>Com Software&lt;Cap Lmt</td>\n",
       "      <td>Planning and Development</td>\n",
       "      <td>20-20 TECHNOLOGIES</td>\n",
       "    </tr>\n",
       "  </tbody>\n",
       "</table>\n",
       "</div>"
      ],
      "text/plain": [
       "  Invoice Net Amt Check/Payment Date    Commitmt Item Name  \\\n",
       "0          138.18         12/13/2017   Inventories-Offline   \n",
       "1         4001.92         12/29/2017  Com Software<Cap Lmt   \n",
       "2         -316.92         12/29/2017  Com Software<Cap Lmt   \n",
       "3         2122.04         12/29/2017  Com Software<Cap Lmt   \n",
       "4         -168.04         12/29/2017  Com Software<Cap Lmt   \n",
       "\n",
       "             Dept. Descrptn                    Vendor Name  \n",
       "0              Public Works  1 STOP ELECTRONICS CENTER INC  \n",
       "1  Planning and Development             20-20 TECHNOLOGIES  \n",
       "2  Planning and Development             20-20 TECHNOLOGIES  \n",
       "3  Planning and Development             20-20 TECHNOLOGIES  \n",
       "4  Planning and Development             20-20 TECHNOLOGIES  "
      ]
     },
     "execution_count": 149,
     "metadata": {},
     "output_type": "execute_result"
    }
   ],
   "source": [
    "# for whatever reason, this year has a larger number of columns than other years\n",
    "phx_ven_pay_17.head()"
   ]
  },
  {
   "cell_type": "markdown",
   "metadata": {},
   "source": [
    "### To clean up:\n",
    "#### Drop:\n",
    "+ ~~'Invoice Net Amt' shows up twice, for each column that has a value, the other column has NaN, how can I stitch these together into one column?~~\n",
    "+ ~~'Vendor ID Number' isn't included in prior and later years, drop this~~\n",
    "+ ~~'Fund Center' not included in prior and later years, drop this~~\n",
    "+ ~~'Document Nbr' not included in prior and later years, drop this~~\n",
    "+ ~~remove three records that don't have Vendor Name~~"
   ]
  },
  {
   "cell_type": "code",
   "execution_count": 13,
   "metadata": {},
   "outputs": [],
   "source": [
    "# combine two 'Invoice Net Amt' columns into one based on NaN values\n",
    "phx_ven_pay_17.iloc[:,0].fillna(phx_ven_pay_17.iloc[:,6], inplace=True)"
   ]
  },
  {
   "cell_type": "code",
   "execution_count": 14,
   "metadata": {},
   "outputs": [],
   "source": [
    "# delete second 'Invoice Net Amt' column since invoice amounts are now being held in first 'Invoice Net Amt' column\n",
    "phx_ven_pay_17.drop(phx_ven_pay_17.columns[6], axis=1, inplace=True)"
   ]
  },
  {
   "cell_type": "code",
   "execution_count": 15,
   "metadata": {},
   "outputs": [],
   "source": [
    "# drop unnecessary columns\n",
    "excess_columns = [\n",
    "                  'Document Nbr',\n",
    "                  'Fund Center',\n",
    "                  'Vendor ID Number']\n",
    "\n",
    "if set(excess_columns).issubset(phx_ven_pay_17.columns):\n",
    "   phx_ven_pay_17.drop([ \n",
    "                        'Document Nbr', \n",
    "                        'Fund Center', \n",
    "                        'Vendor ID Number'], \n",
    "                       axis=1, inplace=True)\n",
    "\n",
    "# columns in oldest data = Amount, Date, Department, Description, Vendor Display"
   ]
  },
  {
   "cell_type": "code",
   "execution_count": 16,
   "metadata": {},
   "outputs": [],
   "source": [
    "# remove handful of rows that have no vendor name\n",
    "phx_ven_pay_17.dropna(inplace=True)"
   ]
  },
  {
   "cell_type": "code",
   "execution_count": 17,
   "metadata": {},
   "outputs": [],
   "source": [
    "# remove leading and trailing spaces before and after 'Invoice Net Amt' column label\n",
    "phx_ven_pay_17.columns = phx_ven_pay_17.columns.str.strip()"
   ]
  },
  {
   "cell_type": "code",
   "execution_count": 18,
   "metadata": {},
   "outputs": [
    {
     "data": {
      "text/plain": [
       "(487373, 5)"
      ]
     },
     "execution_count": 18,
     "metadata": {},
     "output_type": "execute_result"
    }
   ],
   "source": [
    "phx_ven_pay_17.shape"
   ]
  },
  {
   "cell_type": "code",
   "execution_count": 150,
   "metadata": {},
   "outputs": [
    {
     "data": {
      "text/plain": [
       "Invoice Net Amt       object\n",
       "Check/Payment Date    object\n",
       "Commitmt Item Name    object\n",
       "Dept. Descrptn        object\n",
       "Vendor Name           object\n",
       "dtype: object"
      ]
     },
     "execution_count": 150,
     "metadata": {},
     "output_type": "execute_result"
    }
   ],
   "source": [
    "phx_ven_pay_17.dtypes"
   ]
  },
  {
   "cell_type": "markdown",
   "metadata": {},
   "source": [
    "### 2016 Data"
   ]
  },
  {
   "cell_type": "code",
   "execution_count": 19,
   "metadata": {},
   "outputs": [],
   "source": [
    "files = [\n",
    "    'data/2016/citycheckbookjantojune2016.csv',\n",
    "    'data/2016/citycheckbookjulytodec2016.csv',\n",
    "]\n",
    "\n",
    "phx_ven_pay_16 = pd.concat([pd.read_csv(f) for f in files], sort=True)"
   ]
  },
  {
   "cell_type": "code",
   "execution_count": 20,
   "metadata": {},
   "outputs": [
    {
     "data": {
      "text/html": [
       "<div>\n",
       "<style scoped>\n",
       "    .dataframe tbody tr th:only-of-type {\n",
       "        vertical-align: middle;\n",
       "    }\n",
       "\n",
       "    .dataframe tbody tr th {\n",
       "        vertical-align: top;\n",
       "    }\n",
       "\n",
       "    .dataframe thead th {\n",
       "        text-align: right;\n",
       "    }\n",
       "</style>\n",
       "<table border=\"1\" class=\"dataframe\">\n",
       "  <thead>\n",
       "    <tr style=\"text-align: right;\">\n",
       "      <th></th>\n",
       "      <th>Amount</th>\n",
       "      <th>Date</th>\n",
       "      <th>Department</th>\n",
       "      <th>Description</th>\n",
       "      <th>G/L Description</th>\n",
       "      <th>Vendor Display</th>\n",
       "    </tr>\n",
       "  </thead>\n",
       "  <tbody>\n",
       "    <tr>\n",
       "      <th>0</th>\n",
       "      <td>$855</td>\n",
       "      <td>01-04-2016</td>\n",
       "      <td>Community &amp; Economic Development</td>\n",
       "      <td>Other Commodities</td>\n",
       "      <td>NaN</td>\n",
       "      <td>ABM PARKING SERVICES</td>\n",
       "    </tr>\n",
       "    <tr>\n",
       "      <th>1</th>\n",
       "      <td>$471</td>\n",
       "      <td>01-04-2016</td>\n",
       "      <td>Community &amp; Economic Development</td>\n",
       "      <td>Other Commodities</td>\n",
       "      <td>NaN</td>\n",
       "      <td>ABM PARKING SERVICES</td>\n",
       "    </tr>\n",
       "    <tr>\n",
       "      <th>2</th>\n",
       "      <td>$813</td>\n",
       "      <td>01-04-2016</td>\n",
       "      <td>Community &amp; Economic Development</td>\n",
       "      <td>Other Commodities</td>\n",
       "      <td>NaN</td>\n",
       "      <td>ABM PARKING SERVICES</td>\n",
       "    </tr>\n",
       "    <tr>\n",
       "      <th>3</th>\n",
       "      <td>$578.92</td>\n",
       "      <td>01-04-2016</td>\n",
       "      <td>Fire</td>\n",
       "      <td>Plumbing Services</td>\n",
       "      <td>NaN</td>\n",
       "      <td>ABOVE ALL PLUMBING SERVICES INC</td>\n",
       "    </tr>\n",
       "    <tr>\n",
       "      <th>4</th>\n",
       "      <td>$2,712.04</td>\n",
       "      <td>01-04-2016</td>\n",
       "      <td>Fire</td>\n",
       "      <td>Plumbing Services</td>\n",
       "      <td>NaN</td>\n",
       "      <td>ABOVE ALL PLUMBING SERVICES INC</td>\n",
       "    </tr>\n",
       "  </tbody>\n",
       "</table>\n",
       "</div>"
      ],
      "text/plain": [
       "      Amount        Date                        Department        Description  \\\n",
       "0       $855  01-04-2016  Community & Economic Development  Other Commodities   \n",
       "1       $471  01-04-2016  Community & Economic Development  Other Commodities   \n",
       "2       $813  01-04-2016  Community & Economic Development  Other Commodities   \n",
       "3    $578.92  01-04-2016                              Fire  Plumbing Services   \n",
       "4  $2,712.04  01-04-2016                              Fire  Plumbing Services   \n",
       "\n",
       "  G/L Description                   Vendor Display  \n",
       "0             NaN             ABM PARKING SERVICES  \n",
       "1             NaN             ABM PARKING SERVICES  \n",
       "2             NaN             ABM PARKING SERVICES  \n",
       "3             NaN  ABOVE ALL PLUMBING SERVICES INC  \n",
       "4             NaN  ABOVE ALL PLUMBING SERVICES INC  "
      ]
     },
     "execution_count": 20,
     "metadata": {},
     "output_type": "execute_result"
    }
   ],
   "source": [
    "phx_ven_pay_16.head()"
   ]
  },
  {
   "cell_type": "code",
   "execution_count": 22,
   "metadata": {},
   "outputs": [],
   "source": [
    "# rename columns\n",
    "columns_to_rename = ['Department',\n",
    "                    'Description',\n",
    "                    'Amount',\n",
    "                    'Vendor Display',\n",
    "                    'Date']\n",
    "\n",
    "if set(columns_to_rename).issubset(phx_ven_pay_16.columns):\n",
    "   phx_ven_pay_16.rename(columns={'Department': 'Dept. Descrptn',\n",
    "                                  'Description': 'Commitmt Item Name',\n",
    "                                  'Amount': 'Invoice Net Amt',\n",
    "                                  'Vendor Display': 'Vendor Name',\n",
    "                                  'Date': 'Check/Payment Date'\n",
    "                                  }, inplace=True)"
   ]
  },
  {
   "cell_type": "code",
   "execution_count": 23,
   "metadata": {},
   "outputs": [],
   "source": [
    "# remove 'G/L Description' column\n",
    "if 'G/L Description' in phx_ven_pay_16.columns:\n",
    "    phx_ven_pay_16.drop('G/L Description', axis=1, inplace=True)"
   ]
  },
  {
   "cell_type": "code",
   "execution_count": 24,
   "metadata": {},
   "outputs": [
    {
     "data": {
      "text/plain": [
       "(533015, 5)"
      ]
     },
     "execution_count": 24,
     "metadata": {},
     "output_type": "execute_result"
    }
   ],
   "source": [
    "phx_ven_pay_16.shape"
   ]
  },
  {
   "cell_type": "code",
   "execution_count": 148,
   "metadata": {},
   "outputs": [
    {
     "data": {
      "text/plain": [
       "Invoice Net Amt       object\n",
       "Check/Payment Date    object\n",
       "Dept. Descrptn        object\n",
       "Commitmt Item Name    object\n",
       "Vendor Name           object\n",
       "dtype: object"
      ]
     },
     "execution_count": 148,
     "metadata": {},
     "output_type": "execute_result"
    }
   ],
   "source": [
    "phx_ven_pay_16.dtypes"
   ]
  },
  {
   "cell_type": "markdown",
   "metadata": {},
   "source": [
    "### To clean up:\n",
    "+ ~~change 'Description' to 'Dept. Descrptn' to be consistent with later years~~"
   ]
  },
  {
   "cell_type": "markdown",
   "metadata": {},
   "source": [
    "### 2015 Data"
   ]
  },
  {
   "cell_type": "code",
   "execution_count": 25,
   "metadata": {},
   "outputs": [],
   "source": [
    "files = [\n",
    "    'data/2015/citycheckbookjantojune2015.csv',\n",
    "    'data/2015/citycheckbookjulytodec2015.csv',\n",
    "]\n",
    "\n",
    "phx_ven_pay_15 = pd.concat([pd.read_csv(f) for f in files], sort=True)"
   ]
  },
  {
   "cell_type": "code",
   "execution_count": 26,
   "metadata": {},
   "outputs": [
    {
     "data": {
      "text/html": [
       "<div>\n",
       "<style scoped>\n",
       "    .dataframe tbody tr th:only-of-type {\n",
       "        vertical-align: middle;\n",
       "    }\n",
       "\n",
       "    .dataframe tbody tr th {\n",
       "        vertical-align: top;\n",
       "    }\n",
       "\n",
       "    .dataframe thead th {\n",
       "        text-align: right;\n",
       "    }\n",
       "</style>\n",
       "<table border=\"1\" class=\"dataframe\">\n",
       "  <thead>\n",
       "    <tr style=\"text-align: right;\">\n",
       "      <th></th>\n",
       "      <th>Amount</th>\n",
       "      <th>Date</th>\n",
       "      <th>Department</th>\n",
       "      <th>Description</th>\n",
       "      <th>Vendor Display</th>\n",
       "    </tr>\n",
       "  </thead>\n",
       "  <tbody>\n",
       "    <tr>\n",
       "      <th>0</th>\n",
       "      <td>$80</td>\n",
       "      <td>01-02-2015</td>\n",
       "      <td>Municipal Court</td>\n",
       "      <td>Interpreters/Transl</td>\n",
       "      <td>A FOREIGN LANGUAGE SERVICE CORP</td>\n",
       "    </tr>\n",
       "    <tr>\n",
       "      <th>1</th>\n",
       "      <td>$1,888.85</td>\n",
       "      <td>01-02-2015</td>\n",
       "      <td>Aviation</td>\n",
       "      <td>Small Tools/ Equip</td>\n",
       "      <td>A TO Z EQUIPMENT RENTALS</td>\n",
       "    </tr>\n",
       "    <tr>\n",
       "      <th>2</th>\n",
       "      <td>$22.46</td>\n",
       "      <td>01-02-2015</td>\n",
       "      <td>Aviation</td>\n",
       "      <td>Motor Vehicle Parts</td>\n",
       "      <td>A TO Z EQUIPMENT RENTALS</td>\n",
       "    </tr>\n",
       "    <tr>\n",
       "      <th>3</th>\n",
       "      <td>$1,973.6</td>\n",
       "      <td>01-02-2015</td>\n",
       "      <td>Aviation</td>\n",
       "      <td>Small Tools/ Equip</td>\n",
       "      <td>A TO Z EQUIPMENT RENTALS</td>\n",
       "    </tr>\n",
       "    <tr>\n",
       "      <th>4</th>\n",
       "      <td>$17.33</td>\n",
       "      <td>01-02-2015</td>\n",
       "      <td>Public Works</td>\n",
       "      <td>Inventories</td>\n",
       "      <td>A-Z LOCK PRODUCTS CO INC</td>\n",
       "    </tr>\n",
       "  </tbody>\n",
       "</table>\n",
       "</div>"
      ],
      "text/plain": [
       "      Amount        Date       Department          Description  \\\n",
       "0        $80  01-02-2015  Municipal Court  Interpreters/Transl   \n",
       "1  $1,888.85  01-02-2015         Aviation   Small Tools/ Equip   \n",
       "2     $22.46  01-02-2015         Aviation  Motor Vehicle Parts   \n",
       "3   $1,973.6  01-02-2015         Aviation   Small Tools/ Equip   \n",
       "4     $17.33  01-02-2015     Public Works          Inventories   \n",
       "\n",
       "                    Vendor Display  \n",
       "0  A FOREIGN LANGUAGE SERVICE CORP  \n",
       "1         A TO Z EQUIPMENT RENTALS  \n",
       "2         A TO Z EQUIPMENT RENTALS  \n",
       "3         A TO Z EQUIPMENT RENTALS  \n",
       "4         A-Z LOCK PRODUCTS CO INC  "
      ]
     },
     "execution_count": 26,
     "metadata": {},
     "output_type": "execute_result"
    }
   ],
   "source": [
    "phx_ven_pay_15.head()"
   ]
  },
  {
   "cell_type": "markdown",
   "metadata": {},
   "source": [
    "### To clean up:\n",
    "\n",
    "+ ~~change 'Description' to 'Dept. Descrptn' to be consistent with later years~~\n",
    "+ ~~change 'Department' to 'Dept. Descrptn' to be consistent with later years~~"
   ]
  },
  {
   "cell_type": "code",
   "execution_count": 27,
   "metadata": {},
   "outputs": [],
   "source": [
    "# rename columns\n",
    "columns_to_rename = ['Department',\n",
    "                    'Description',\n",
    "                    'Amount',\n",
    "                    'Vendor Display',\n",
    "                    'Date']\n",
    "\n",
    "if set(columns_to_rename).issubset(phx_ven_pay_15.columns):\n",
    "   phx_ven_pay_15.rename(columns={'Department': 'Dept. Descrptn',\n",
    "                                  'Description': 'Commitmt Item Name',\n",
    "                                  'Amount': 'Invoice Net Amt',\n",
    "                                  'Vendor Display': 'Vendor Name',\n",
    "                                  'Date': 'Check/Payment Date'\n",
    "                                  }, inplace=True)"
   ]
  },
  {
   "cell_type": "code",
   "execution_count": 28,
   "metadata": {},
   "outputs": [
    {
     "data": {
      "text/plain": [
       "Invoice Net Amt       object\n",
       "Check/Payment Date    object\n",
       "Dept. Descrptn        object\n",
       "Commitmt Item Name    object\n",
       "Vendor Name           object\n",
       "dtype: object"
      ]
     },
     "execution_count": 28,
     "metadata": {},
     "output_type": "execute_result"
    }
   ],
   "source": [
    "phx_ven_pay_15.dtypes"
   ]
  },
  {
   "cell_type": "code",
   "execution_count": 29,
   "metadata": {},
   "outputs": [
    {
     "data": {
      "text/plain": [
       "(333440, 5)"
      ]
     },
     "execution_count": 29,
     "metadata": {},
     "output_type": "execute_result"
    }
   ],
   "source": [
    "phx_ven_pay_15.shape"
   ]
  },
  {
   "cell_type": "markdown",
   "metadata": {},
   "source": [
    "### 2014 Data"
   ]
  },
  {
   "cell_type": "code",
   "execution_count": 30,
   "metadata": {},
   "outputs": [],
   "source": [
    "files = [\n",
    "    'data/2014/citycheckbookjantojune2014.csv',\n",
    "    'data/2014/citycheckbookjulytodec2014.csv',\n",
    "]\n",
    "\n",
    "phx_ven_pay_14 = pd.concat([pd.read_csv(f) for f in files], sort=True)"
   ]
  },
  {
   "cell_type": "code",
   "execution_count": 31,
   "metadata": {},
   "outputs": [
    {
     "data": {
      "text/html": [
       "<div>\n",
       "<style scoped>\n",
       "    .dataframe tbody tr th:only-of-type {\n",
       "        vertical-align: middle;\n",
       "    }\n",
       "\n",
       "    .dataframe tbody tr th {\n",
       "        vertical-align: top;\n",
       "    }\n",
       "\n",
       "    .dataframe thead th {\n",
       "        text-align: right;\n",
       "    }\n",
       "</style>\n",
       "<table border=\"1\" class=\"dataframe\">\n",
       "  <thead>\n",
       "    <tr style=\"text-align: right;\">\n",
       "      <th></th>\n",
       "      <th>Amount</th>\n",
       "      <th>Date</th>\n",
       "      <th>Department</th>\n",
       "      <th>Description</th>\n",
       "      <th>Vendor Display</th>\n",
       "    </tr>\n",
       "  </thead>\n",
       "  <tbody>\n",
       "    <tr>\n",
       "      <th>0</th>\n",
       "      <td>-$34.78</td>\n",
       "      <td>01-02-2014</td>\n",
       "      <td>Street Transportation</td>\n",
       "      <td>Inventories</td>\n",
       "      <td>3M COMPANY</td>\n",
       "    </tr>\n",
       "    <tr>\n",
       "      <th>1</th>\n",
       "      <td>-$69.55</td>\n",
       "      <td>01-02-2014</td>\n",
       "      <td>Street Transportation</td>\n",
       "      <td>Inventories</td>\n",
       "      <td>3M COMPANY</td>\n",
       "    </tr>\n",
       "    <tr>\n",
       "      <th>2</th>\n",
       "      <td>-$77</td>\n",
       "      <td>01-02-2014</td>\n",
       "      <td>Street Transportation</td>\n",
       "      <td>Inventories</td>\n",
       "      <td>3M COMPANY</td>\n",
       "    </tr>\n",
       "    <tr>\n",
       "      <th>3</th>\n",
       "      <td>$0.01</td>\n",
       "      <td>01-02-2014</td>\n",
       "      <td>Public Works</td>\n",
       "      <td>Inventories</td>\n",
       "      <td>AGS SAFETY &amp; SUPPLY</td>\n",
       "    </tr>\n",
       "    <tr>\n",
       "      <th>4</th>\n",
       "      <td>-$0.79</td>\n",
       "      <td>01-02-2014</td>\n",
       "      <td>Police</td>\n",
       "      <td>Inventories</td>\n",
       "      <td>AMERICAN EUROCOPTER CORPORATION</td>\n",
       "    </tr>\n",
       "  </tbody>\n",
       "</table>\n",
       "</div>"
      ],
      "text/plain": [
       "    Amount        Date             Department  Description  \\\n",
       "0  -$34.78  01-02-2014  Street Transportation  Inventories   \n",
       "1  -$69.55  01-02-2014  Street Transportation  Inventories   \n",
       "2     -$77  01-02-2014  Street Transportation  Inventories   \n",
       "3    $0.01  01-02-2014           Public Works  Inventories   \n",
       "4   -$0.79  01-02-2014                 Police  Inventories   \n",
       "\n",
       "                    Vendor Display  \n",
       "0                       3M COMPANY  \n",
       "1                       3M COMPANY  \n",
       "2                       3M COMPANY  \n",
       "3              AGS SAFETY & SUPPLY  \n",
       "4  AMERICAN EUROCOPTER CORPORATION  "
      ]
     },
     "execution_count": 31,
     "metadata": {},
     "output_type": "execute_result"
    }
   ],
   "source": [
    "phx_ven_pay_14.head()"
   ]
  },
  {
   "cell_type": "markdown",
   "metadata": {},
   "source": [
    "### To clean up:\n",
    "\n",
    "+ ~~change 'Description' to 'Dept. Descrptn' to be consistent with later years~~\n",
    "+ ~~convert 'Date' to datetime from object and rename to 'Check/Payment Date' in order to be consistent with later years~~\n"
   ]
  },
  {
   "cell_type": "code",
   "execution_count": 32,
   "metadata": {},
   "outputs": [],
   "source": [
    "# rename columns\n",
    "columns_to_rename = ['Department',\n",
    "                    'Description',\n",
    "                    'Amount',\n",
    "                    'Vendor Display',\n",
    "                    'Date']\n",
    "\n",
    "if set(columns_to_rename).issubset(phx_ven_pay_14.columns):\n",
    "   phx_ven_pay_14.rename(columns={'Department': 'Dept. Descrptn',\n",
    "                                  'Description': 'Commitmt Item Name',\n",
    "                                  'Amount': 'Invoice Net Amt',\n",
    "                                  'Vendor Display': 'Vendor Name',\n",
    "                                  'Date': 'Check/Payment Date'\n",
    "                                  }, inplace=True)"
   ]
  },
  {
   "cell_type": "code",
   "execution_count": 33,
   "metadata": {},
   "outputs": [
    {
     "data": {
      "text/plain": [
       "Invoice Net Amt       object\n",
       "Check/Payment Date    object\n",
       "Dept. Descrptn        object\n",
       "Commitmt Item Name    object\n",
       "Vendor Name           object\n",
       "dtype: object"
      ]
     },
     "execution_count": 33,
     "metadata": {},
     "output_type": "execute_result"
    }
   ],
   "source": [
    "phx_ven_pay_14.dtypes"
   ]
  },
  {
   "cell_type": "code",
   "execution_count": 34,
   "metadata": {},
   "outputs": [
    {
     "data": {
      "text/plain": [
       "(307110, 5)"
      ]
     },
     "execution_count": 34,
     "metadata": {},
     "output_type": "execute_result"
    }
   ],
   "source": [
    "phx_ven_pay_14.shape"
   ]
  },
  {
   "cell_type": "markdown",
   "metadata": {},
   "source": [
    "## Join Years 2014 - 2018 Together"
   ]
  },
  {
   "cell_type": "code",
   "execution_count": 73,
   "metadata": {},
   "outputs": [],
   "source": [
    "phx_ven_pay_14to18 = pd.concat([phx_ven_pay_14,\n",
    "                               phx_ven_pay_15,\n",
    "                               phx_ven_pay_16,\n",
    "                               phx_ven_pay_17,\n",
    "                               phx_ven_pay_18],\n",
    "                              sort=False)"
   ]
  },
  {
   "cell_type": "code",
   "execution_count": 123,
   "metadata": {},
   "outputs": [
    {
     "data": {
      "text/plain": [
       "(2215460, 5)"
      ]
     },
     "execution_count": 123,
     "metadata": {},
     "output_type": "execute_result"
    }
   ],
   "source": [
    "phx_ven_pay_14to18.shape"
   ]
  },
  {
   "cell_type": "code",
   "execution_count": 125,
   "metadata": {},
   "outputs": [
    {
     "data": {
      "text/plain": [
       "Invoice Net Amt            0\n",
       "Check/Payment Date         0\n",
       "Dept. Descrptn         20787\n",
       "Commitmt Item Name    243642\n",
       "Vendor Name                0\n",
       "dtype: int64"
      ]
     },
     "execution_count": 125,
     "metadata": {},
     "output_type": "execute_result"
    }
   ],
   "source": [
    "# examine for null values in each column\n",
    "phx_ven_pay_14to18.isnull().sum()"
   ]
  },
  {
   "cell_type": "code",
   "execution_count": null,
   "metadata": {},
   "outputs": [],
   "source": [
    "# drop rows with NaN in colums I feel aren't relevant to the analysis I want to do\n",
    "phx_ven_pay_14to18.dropna(subset=['Invoice Net Amt', 'Check/Payment Date', 'Vendor Name'], inplace=True)"
   ]
  },
  {
   "cell_type": "code",
   "execution_count": 163,
   "metadata": {},
   "outputs": [
    {
     "data": {
      "text/plain": [
       "Invoice Net Amt              float64\n",
       "Check/Payment Date    datetime64[ns]\n",
       "Dept. Descrptn                object\n",
       "Commitmt Item Name            object\n",
       "dtype: object"
      ]
     },
     "execution_count": 163,
     "metadata": {},
     "output_type": "execute_result"
    }
   ],
   "source": [
    "# verify datatypes of each column\n",
    "phx_ven_pay_14to18.dtypes"
   ]
  },
  {
   "cell_type": "markdown",
   "metadata": {},
   "source": [
    "## To clean up now that I have all the years together:\n",
    "\n",
    "#### Invoice Net Amt:  \n",
    " + Remove $ signs\n",
    " + Remove commas(,)\n",
    " + Remove open parenthesis '(' used to signify negative values in some years and replace with '-' sign in order to be consistent\n",
    " + Remove close parenthesis ')' used to signify negative values in some years\n",
    " + Convert to numeric format to be able to sort and work with in a quantitative way\n",
    " \n",
    "#### Check/Payment Date:\n",
    " + Replace dash(-) with forward slash(/) so that all dates are consistent\n",
    " + Convert to Datetime format\n",
    " \n",
    "#### All Column Labels:\n",
    " + Remove spaces in column labels, replace with underscore\n",
    " + Convert column names to all lower case characters"
   ]
  },
  {
   "cell_type": "code",
   "execution_count": 164,
   "metadata": {},
   "outputs": [
    {
     "data": {
      "text/html": [
       "<div>\n",
       "<style scoped>\n",
       "    .dataframe tbody tr th:only-of-type {\n",
       "        vertical-align: middle;\n",
       "    }\n",
       "\n",
       "    .dataframe tbody tr th {\n",
       "        vertical-align: top;\n",
       "    }\n",
       "\n",
       "    .dataframe thead th {\n",
       "        text-align: right;\n",
       "    }\n",
       "</style>\n",
       "<table border=\"1\" class=\"dataframe\">\n",
       "  <thead>\n",
       "    <tr style=\"text-align: right;\">\n",
       "      <th></th>\n",
       "      <th>Invoice Net Amt</th>\n",
       "      <th>Check/Payment Date</th>\n",
       "      <th>Dept. Descrptn</th>\n",
       "      <th>Commitmt Item Name</th>\n",
       "    </tr>\n",
       "    <tr>\n",
       "      <th>Vendor Name</th>\n",
       "      <th></th>\n",
       "      <th></th>\n",
       "      <th></th>\n",
       "      <th></th>\n",
       "    </tr>\n",
       "  </thead>\n",
       "  <tbody>\n",
       "    <tr>\n",
       "      <th>3M COMPANY</th>\n",
       "      <td>-34.78</td>\n",
       "      <td>2014-01-02</td>\n",
       "      <td>Street Transportation</td>\n",
       "      <td>Inventories</td>\n",
       "    </tr>\n",
       "    <tr>\n",
       "      <th>3M COMPANY</th>\n",
       "      <td>-69.55</td>\n",
       "      <td>2014-01-02</td>\n",
       "      <td>Street Transportation</td>\n",
       "      <td>Inventories</td>\n",
       "    </tr>\n",
       "    <tr>\n",
       "      <th>3M COMPANY</th>\n",
       "      <td>-77.00</td>\n",
       "      <td>2014-01-02</td>\n",
       "      <td>Street Transportation</td>\n",
       "      <td>Inventories</td>\n",
       "    </tr>\n",
       "    <tr>\n",
       "      <th>AGS SAFETY &amp; SUPPLY</th>\n",
       "      <td>0.01</td>\n",
       "      <td>2014-01-02</td>\n",
       "      <td>Public Works</td>\n",
       "      <td>Inventories</td>\n",
       "    </tr>\n",
       "    <tr>\n",
       "      <th>AMERICAN EUROCOPTER CORPORATION</th>\n",
       "      <td>-0.79</td>\n",
       "      <td>2014-01-02</td>\n",
       "      <td>Police</td>\n",
       "      <td>Inventories</td>\n",
       "    </tr>\n",
       "  </tbody>\n",
       "</table>\n",
       "</div>"
      ],
      "text/plain": [
       "                                 Invoice Net Amt Check/Payment Date  \\\n",
       "Vendor Name                                                           \n",
       "3M COMPANY                                -34.78         2014-01-02   \n",
       "3M COMPANY                                -69.55         2014-01-02   \n",
       "3M COMPANY                                -77.00         2014-01-02   \n",
       "AGS SAFETY & SUPPLY                         0.01         2014-01-02   \n",
       "AMERICAN EUROCOPTER CORPORATION            -0.79         2014-01-02   \n",
       "\n",
       "                                        Dept. Descrptn Commitmt Item Name  \n",
       "Vendor Name                                                                \n",
       "3M COMPANY                       Street Transportation        Inventories  \n",
       "3M COMPANY                       Street Transportation        Inventories  \n",
       "3M COMPANY                       Street Transportation        Inventories  \n",
       "AGS SAFETY & SUPPLY                       Public Works        Inventories  \n",
       "AMERICAN EUROCOPTER CORPORATION                 Police        Inventories  "
      ]
     },
     "execution_count": 164,
     "metadata": {},
     "output_type": "execute_result"
    }
   ],
   "source": [
    "phx_ven_pay_14to18.head()"
   ]
  },
  {
   "cell_type": "markdown",
   "metadata": {},
   "source": [
    "## Remove $ sign"
   ]
  },
  {
   "cell_type": "code",
   "execution_count": 94,
   "metadata": {},
   "outputs": [],
   "source": [
    "phx_ven_pay_14to18.iloc[:,0] = phx_ven_pay_14to18.iloc[:,0].str.replace('$','')"
   ]
  },
  {
   "cell_type": "code",
   "execution_count": 95,
   "metadata": {},
   "outputs": [
    {
     "data": {
      "text/html": [
       "<div>\n",
       "<style scoped>\n",
       "    .dataframe tbody tr th:only-of-type {\n",
       "        vertical-align: middle;\n",
       "    }\n",
       "\n",
       "    .dataframe tbody tr th {\n",
       "        vertical-align: top;\n",
       "    }\n",
       "\n",
       "    .dataframe thead th {\n",
       "        text-align: right;\n",
       "    }\n",
       "</style>\n",
       "<table border=\"1\" class=\"dataframe\">\n",
       "  <thead>\n",
       "    <tr style=\"text-align: right;\">\n",
       "      <th></th>\n",
       "      <th>Invoice Net Amt</th>\n",
       "      <th>Check/Payment Date</th>\n",
       "      <th>Dept. Descrptn</th>\n",
       "      <th>Commitmt Item Name</th>\n",
       "      <th>Vendor Name</th>\n",
       "    </tr>\n",
       "  </thead>\n",
       "  <tbody>\n",
       "  </tbody>\n",
       "</table>\n",
       "</div>"
      ],
      "text/plain": [
       "Empty DataFrame\n",
       "Columns: [Invoice Net Amt, Check/Payment Date, Dept. Descrptn, Commitmt Item Name, Vendor Name]\n",
       "Index: []"
      ]
     },
     "execution_count": 95,
     "metadata": {},
     "output_type": "execute_result"
    }
   ],
   "source": [
    "phx_ven_pay_14to18[phx_ven_pay_14to18['Invoice Net Amt'].apply(lambda x: True if '$' in x else False)].head(50)"
   ]
  },
  {
   "cell_type": "code",
   "execution_count": 97,
   "metadata": {},
   "outputs": [
    {
     "data": {
      "text/plain": [
       "(2215460, 5)"
      ]
     },
     "execution_count": 97,
     "metadata": {},
     "output_type": "execute_result"
    }
   ],
   "source": [
    "phx_ven_pay_14to18.shape"
   ]
  },
  {
   "cell_type": "markdown",
   "metadata": {},
   "source": [
    "## Remove comma ,"
   ]
  },
  {
   "cell_type": "code",
   "execution_count": 113,
   "metadata": {},
   "outputs": [],
   "source": [
    "phx_ven_pay_14to18.iloc[:,0] = phx_ven_pay_14to18.iloc[:,0].str.replace(',','')"
   ]
  },
  {
   "cell_type": "code",
   "execution_count": 114,
   "metadata": {},
   "outputs": [
    {
     "data": {
      "text/html": [
       "<div>\n",
       "<style scoped>\n",
       "    .dataframe tbody tr th:only-of-type {\n",
       "        vertical-align: middle;\n",
       "    }\n",
       "\n",
       "    .dataframe tbody tr th {\n",
       "        vertical-align: top;\n",
       "    }\n",
       "\n",
       "    .dataframe thead th {\n",
       "        text-align: right;\n",
       "    }\n",
       "</style>\n",
       "<table border=\"1\" class=\"dataframe\">\n",
       "  <thead>\n",
       "    <tr style=\"text-align: right;\">\n",
       "      <th></th>\n",
       "      <th>Invoice Net Amt</th>\n",
       "      <th>Check/Payment Date</th>\n",
       "      <th>Dept. Descrptn</th>\n",
       "      <th>Commitmt Item Name</th>\n",
       "      <th>Vendor Name</th>\n",
       "    </tr>\n",
       "  </thead>\n",
       "  <tbody>\n",
       "  </tbody>\n",
       "</table>\n",
       "</div>"
      ],
      "text/plain": [
       "Empty DataFrame\n",
       "Columns: [Invoice Net Amt, Check/Payment Date, Dept. Descrptn, Commitmt Item Name, Vendor Name]\n",
       "Index: []"
      ]
     },
     "execution_count": 114,
     "metadata": {},
     "output_type": "execute_result"
    }
   ],
   "source": [
    "phx_ven_pay_14to18[phx_ven_pay_14to18['Invoice Net Amt'].apply(lambda x: True if ',' in x else False)].head(50)"
   ]
  },
  {
   "cell_type": "markdown",
   "metadata": {},
   "source": [
    "## Remove left bracket ( and replace with -"
   ]
  },
  {
   "cell_type": "code",
   "execution_count": 100,
   "metadata": {},
   "outputs": [],
   "source": [
    "phx_ven_pay_14to18.iloc[:,0] = phx_ven_pay_14to18.iloc[:,0].str.replace('(','-')"
   ]
  },
  {
   "cell_type": "code",
   "execution_count": 101,
   "metadata": {},
   "outputs": [
    {
     "data": {
      "text/html": [
       "<div>\n",
       "<style scoped>\n",
       "    .dataframe tbody tr th:only-of-type {\n",
       "        vertical-align: middle;\n",
       "    }\n",
       "\n",
       "    .dataframe tbody tr th {\n",
       "        vertical-align: top;\n",
       "    }\n",
       "\n",
       "    .dataframe thead th {\n",
       "        text-align: right;\n",
       "    }\n",
       "</style>\n",
       "<table border=\"1\" class=\"dataframe\">\n",
       "  <thead>\n",
       "    <tr style=\"text-align: right;\">\n",
       "      <th></th>\n",
       "      <th>Invoice Net Amt</th>\n",
       "      <th>Check/Payment Date</th>\n",
       "      <th>Dept. Descrptn</th>\n",
       "      <th>Commitmt Item Name</th>\n",
       "      <th>Vendor Name</th>\n",
       "    </tr>\n",
       "  </thead>\n",
       "  <tbody>\n",
       "  </tbody>\n",
       "</table>\n",
       "</div>"
      ],
      "text/plain": [
       "Empty DataFrame\n",
       "Columns: [Invoice Net Amt, Check/Payment Date, Dept. Descrptn, Commitmt Item Name, Vendor Name]\n",
       "Index: []"
      ]
     },
     "execution_count": 101,
     "metadata": {},
     "output_type": "execute_result"
    }
   ],
   "source": [
    "phx_ven_pay_14to18[phx_ven_pay_14to18['Invoice Net Amt'].apply(lambda x: True if '(' in x else False)].head(50)"
   ]
  },
  {
   "cell_type": "markdown",
   "metadata": {},
   "source": [
    "## Remove right bracket )"
   ]
  },
  {
   "cell_type": "code",
   "execution_count": 103,
   "metadata": {},
   "outputs": [],
   "source": [
    "phx_ven_pay_14to18.iloc[:,0] = phx_ven_pay_14to18.iloc[:,0].str.replace(')','')"
   ]
  },
  {
   "cell_type": "code",
   "execution_count": 104,
   "metadata": {},
   "outputs": [
    {
     "data": {
      "text/html": [
       "<div>\n",
       "<style scoped>\n",
       "    .dataframe tbody tr th:only-of-type {\n",
       "        vertical-align: middle;\n",
       "    }\n",
       "\n",
       "    .dataframe tbody tr th {\n",
       "        vertical-align: top;\n",
       "    }\n",
       "\n",
       "    .dataframe thead th {\n",
       "        text-align: right;\n",
       "    }\n",
       "</style>\n",
       "<table border=\"1\" class=\"dataframe\">\n",
       "  <thead>\n",
       "    <tr style=\"text-align: right;\">\n",
       "      <th></th>\n",
       "      <th>Invoice Net Amt</th>\n",
       "      <th>Check/Payment Date</th>\n",
       "      <th>Dept. Descrptn</th>\n",
       "      <th>Commitmt Item Name</th>\n",
       "      <th>Vendor Name</th>\n",
       "    </tr>\n",
       "  </thead>\n",
       "  <tbody>\n",
       "  </tbody>\n",
       "</table>\n",
       "</div>"
      ],
      "text/plain": [
       "Empty DataFrame\n",
       "Columns: [Invoice Net Amt, Check/Payment Date, Dept. Descrptn, Commitmt Item Name, Vendor Name]\n",
       "Index: []"
      ]
     },
     "execution_count": 104,
     "metadata": {},
     "output_type": "execute_result"
    }
   ],
   "source": [
    "phx_ven_pay_14to18[phx_ven_pay_14to18['Invoice Net Amt'].apply(lambda x: True if ')' in x else False)].head(50)"
   ]
  },
  {
   "cell_type": "markdown",
   "metadata": {},
   "source": [
    "## Convert to numeric"
   ]
  },
  {
   "cell_type": "code",
   "execution_count": 119,
   "metadata": {},
   "outputs": [],
   "source": [
    "phx_ven_pay_14to18.iloc[:,0] = pd.to_numeric(phx_ven_pay_14to18.iloc[:,0], errors='raise')"
   ]
  },
  {
   "cell_type": "code",
   "execution_count": 142,
   "metadata": {},
   "outputs": [
    {
     "data": {
      "text/html": [
       "<div>\n",
       "<style scoped>\n",
       "    .dataframe tbody tr th:only-of-type {\n",
       "        vertical-align: middle;\n",
       "    }\n",
       "\n",
       "    .dataframe tbody tr th {\n",
       "        vertical-align: top;\n",
       "    }\n",
       "\n",
       "    .dataframe thead th {\n",
       "        text-align: right;\n",
       "    }\n",
       "</style>\n",
       "<table border=\"1\" class=\"dataframe\">\n",
       "  <thead>\n",
       "    <tr style=\"text-align: right;\">\n",
       "      <th></th>\n",
       "      <th>Invoice Net Amt</th>\n",
       "      <th>Check/Payment Date</th>\n",
       "      <th>Dept. Descrptn</th>\n",
       "      <th>Commitmt Item Name</th>\n",
       "      <th>Vendor Name</th>\n",
       "    </tr>\n",
       "  </thead>\n",
       "  <tbody>\n",
       "    <tr>\n",
       "      <th>45978</th>\n",
       "      <td>55205000.0</td>\n",
       "      <td>2018-06-07</td>\n",
       "      <td>Debt - CIC Lease Purchase</td>\n",
       "      <td>Amt Prv-Lng-Trm Oblg</td>\n",
       "      <td>US BANK TRUST NATIONAL ASSOCIATION</td>\n",
       "    </tr>\n",
       "    <tr>\n",
       "      <th>209743</th>\n",
       "      <td>49865000.0</td>\n",
       "      <td>2017-06-19</td>\n",
       "      <td>Debt - CIC Lease Purchase</td>\n",
       "      <td>Amt Prv-Lng-Trm Oblg</td>\n",
       "      <td>US BANK TRUST NATIONAL ASSOCIATION</td>\n",
       "    </tr>\n",
       "    <tr>\n",
       "      <th>15883</th>\n",
       "      <td>37145000.0</td>\n",
       "      <td>2016-06-06</td>\n",
       "      <td>Debt</td>\n",
       "      <td>Amt Prv-Lng-Trm Oblg</td>\n",
       "      <td>US BANK TRUST NATIONAL ASSOCIATION</td>\n",
       "    </tr>\n",
       "    <tr>\n",
       "      <th>40131</th>\n",
       "      <td>32775000.0</td>\n",
       "      <td>2015-06-09</td>\n",
       "      <td>Debt</td>\n",
       "      <td>Amt Prv-Lng-Trm Oblg</td>\n",
       "      <td>US BANK TRUST NATIONAL ASSOCIATION</td>\n",
       "    </tr>\n",
       "    <tr>\n",
       "      <th>83963</th>\n",
       "      <td>25595000.0</td>\n",
       "      <td>2014-06-18</td>\n",
       "      <td>Debt</td>\n",
       "      <td>Lease Pur Acc-Princp</td>\n",
       "      <td>US BANK TRUST NATIONAL ASSOCIATION</td>\n",
       "    </tr>\n",
       "  </tbody>\n",
       "</table>\n",
       "</div>"
      ],
      "text/plain": [
       "        Invoice Net Amt Check/Payment Date             Dept. Descrptn  \\\n",
       "45978        55205000.0         2018-06-07  Debt - CIC Lease Purchase   \n",
       "209743       49865000.0         2017-06-19  Debt - CIC Lease Purchase   \n",
       "15883        37145000.0         2016-06-06                       Debt   \n",
       "40131        32775000.0         2015-06-09                       Debt   \n",
       "83963        25595000.0         2014-06-18                       Debt   \n",
       "\n",
       "          Commitmt Item Name                         Vendor Name  \n",
       "45978   Amt Prv-Lng-Trm Oblg  US BANK TRUST NATIONAL ASSOCIATION  \n",
       "209743  Amt Prv-Lng-Trm Oblg  US BANK TRUST NATIONAL ASSOCIATION  \n",
       "15883   Amt Prv-Lng-Trm Oblg  US BANK TRUST NATIONAL ASSOCIATION  \n",
       "40131   Amt Prv-Lng-Trm Oblg  US BANK TRUST NATIONAL ASSOCIATION  \n",
       "83963   Lease Pur Acc-Princp  US BANK TRUST NATIONAL ASSOCIATION  "
      ]
     },
     "execution_count": 142,
     "metadata": {},
     "output_type": "execute_result"
    }
   ],
   "source": [
    "# verify that sorting of values works properly\n",
    "phx_ven_pay_14to18.sort_values(by='Invoice Net Amt', ascending=False).head()"
   ]
  },
  {
   "cell_type": "markdown",
   "metadata": {},
   "source": [
    "## Convert Check/Payment Date to datetime"
   ]
  },
  {
   "cell_type": "code",
   "execution_count": 130,
   "metadata": {},
   "outputs": [],
   "source": [
    "# replace dash(-) with forward slash(/) so that all dates are consistent\n",
    "phx_ven_pay_14to18.iloc[:,1] = phx_ven_pay_14to18.iloc[:,1].str.replace('-','/')"
   ]
  },
  {
   "cell_type": "code",
   "execution_count": 131,
   "metadata": {},
   "outputs": [],
   "source": [
    "# convert Check/Payment Date column to datetime format to be able to perform time series analysis with the data\n",
    "phx_ven_pay_14to18.iloc[:,1] = pd.to_datetime(phx_ven_pay_14to18.iloc[:,1], format='%m/%d/%Y')"
   ]
  },
  {
   "cell_type": "code",
   "execution_count": 147,
   "metadata": {},
   "outputs": [
    {
     "name": "stdout",
     "output_type": "stream",
     "text": [
      "2014-01-02 00:00:00\n",
      "2018-12-31 00:00:00\n"
     ]
    }
   ],
   "source": [
    "# verify earliest and latest dates fall within expected ranges\n",
    "print(phx_ven_pay_14to18.iloc[:,1].min())\n",
    "print(phx_ven_pay_14to18.iloc[:,1].max())"
   ]
  },
  {
   "cell_type": "code",
   "execution_count": 197,
   "metadata": {},
   "outputs": [
    {
     "data": {
      "text/html": [
       "<div>\n",
       "<style scoped>\n",
       "    .dataframe tbody tr th:only-of-type {\n",
       "        vertical-align: middle;\n",
       "    }\n",
       "\n",
       "    .dataframe tbody tr th {\n",
       "        vertical-align: top;\n",
       "    }\n",
       "\n",
       "    .dataframe thead th {\n",
       "        text-align: right;\n",
       "    }\n",
       "</style>\n",
       "<table border=\"1\" class=\"dataframe\">\n",
       "  <thead>\n",
       "    <tr style=\"text-align: right;\">\n",
       "      <th></th>\n",
       "      <th>vendor_name</th>\n",
       "      <th>invoice_net_amt</th>\n",
       "      <th>check/payment_date</th>\n",
       "      <th>dept._descrptn</th>\n",
       "      <th>commitmt_item_name</th>\n",
       "    </tr>\n",
       "  </thead>\n",
       "  <tbody>\n",
       "    <tr>\n",
       "      <th>0</th>\n",
       "      <td>3M COMPANY</td>\n",
       "      <td>-34.78</td>\n",
       "      <td>2014-01-02</td>\n",
       "      <td>Street Transportation</td>\n",
       "      <td>Inventories</td>\n",
       "    </tr>\n",
       "    <tr>\n",
       "      <th>1</th>\n",
       "      <td>3M COMPANY</td>\n",
       "      <td>-69.55</td>\n",
       "      <td>2014-01-02</td>\n",
       "      <td>Street Transportation</td>\n",
       "      <td>Inventories</td>\n",
       "    </tr>\n",
       "    <tr>\n",
       "      <th>2</th>\n",
       "      <td>3M COMPANY</td>\n",
       "      <td>-77.00</td>\n",
       "      <td>2014-01-02</td>\n",
       "      <td>Street Transportation</td>\n",
       "      <td>Inventories</td>\n",
       "    </tr>\n",
       "    <tr>\n",
       "      <th>3</th>\n",
       "      <td>AGS SAFETY &amp; SUPPLY</td>\n",
       "      <td>0.01</td>\n",
       "      <td>2014-01-02</td>\n",
       "      <td>Public Works</td>\n",
       "      <td>Inventories</td>\n",
       "    </tr>\n",
       "    <tr>\n",
       "      <th>4</th>\n",
       "      <td>AMERICAN EUROCOPTER CORPORATION</td>\n",
       "      <td>-0.79</td>\n",
       "      <td>2014-01-02</td>\n",
       "      <td>Police</td>\n",
       "      <td>Inventories</td>\n",
       "    </tr>\n",
       "  </tbody>\n",
       "</table>\n",
       "</div>"
      ],
      "text/plain": [
       "                       vendor_name  invoice_net_amt check/payment_date  \\\n",
       "0                       3M COMPANY           -34.78         2014-01-02   \n",
       "1                       3M COMPANY           -69.55         2014-01-02   \n",
       "2                       3M COMPANY           -77.00         2014-01-02   \n",
       "3              AGS SAFETY & SUPPLY             0.01         2014-01-02   \n",
       "4  AMERICAN EUROCOPTER CORPORATION            -0.79         2014-01-02   \n",
       "\n",
       "          dept._descrptn commitmt_item_name  \n",
       "0  Street Transportation        Inventories  \n",
       "1  Street Transportation        Inventories  \n",
       "2  Street Transportation        Inventories  \n",
       "3           Public Works        Inventories  \n",
       "4                 Police        Inventories  "
      ]
     },
     "execution_count": 197,
     "metadata": {},
     "output_type": "execute_result"
    }
   ],
   "source": [
    "phx_ven_pay_14to18.head()"
   ]
  },
  {
   "cell_type": "markdown",
   "metadata": {},
   "source": [
    "## Format column labels to lower case, replace spaces with underscores"
   ]
  },
  {
   "cell_type": "code",
   "execution_count": 189,
   "metadata": {},
   "outputs": [],
   "source": [
    "def setcols(phx_ven_pay_14to18, fn=lambda x: x.columns.map('_'.join), cols=None):\n",
    "    \"\"\"Sets the column of the data frame to the passed column list.\n",
    "    \"\"\"\n",
    "    if cols:\n",
    "        phx_ven_pay_14to18.columns = cols\n",
    "    else:\n",
    "        phx_ven_pay_14to18.columns = fn(phx_ven_pay_14to18)\n",
    "    return phx_ven_pay_14to18\n",
    "\n",
    "phx_ven_pay_14to18 = phx_ven_pay_14to18.pipe(\n",
    "        setcols,\n",
    "        fn=lambda x: x.columns.str.lower()\n",
    "        .str.strip()\n",
    "        .str.replace(\" \", \"_\"))"
   ]
  },
  {
   "cell_type": "markdown",
   "metadata": {},
   "source": [
    "## Data wrangling complete, write each year to .csv file"
   ]
  },
  {
   "cell_type": "code",
   "execution_count": 198,
   "metadata": {},
   "outputs": [],
   "source": [
    "phx_ven_pay_14to18[phx_ven_pay_14to18['check/payment_date'].dt.year == 2014] \\\n",
    "    .to_csv('data/cleaned_data/phoenix_vendor_payments_2014.csv', index=False)"
   ]
  },
  {
   "cell_type": "code",
   "execution_count": 199,
   "metadata": {},
   "outputs": [],
   "source": [
    "phx_ven_pay_14to18[phx_ven_pay_14to18['check/payment_date'].dt.year == 2015] \\\n",
    "    .to_csv('data/cleaned_data/phoenix_vendor_payments_2015.csv', index=False)"
   ]
  },
  {
   "cell_type": "code",
   "execution_count": 200,
   "metadata": {},
   "outputs": [],
   "source": [
    "phx_ven_pay_14to18[phx_ven_pay_14to18['check/payment_date'].dt.year == 2016] \\\n",
    "    .to_csv('data/cleaned_data/phoenix_vendor_payments_2016.csv', index=False)"
   ]
  },
  {
   "cell_type": "code",
   "execution_count": 201,
   "metadata": {},
   "outputs": [],
   "source": [
    "phx_ven_pay_14to18[phx_ven_pay_14to18['check/payment_date'].dt.year == 2017] \\\n",
    "    .to_csv('data/cleaned_data/phoenix_vendor_payments_2017.csv', index=False)"
   ]
  },
  {
   "cell_type": "code",
   "execution_count": 202,
   "metadata": {},
   "outputs": [],
   "source": [
    "phx_ven_pay_14to18[phx_ven_pay_14to18['check/payment_date'].dt.year == 2018] \\\n",
    "    .to_csv('data/cleaned_data/phoenix_vendor_payments_2018.csv', index=False)"
   ]
  }
 ],
 "metadata": {
  "kernelspec": {
   "display_name": "Python 3",
   "language": "python",
   "name": "python3"
  },
  "language_info": {
   "codemirror_mode": {
    "name": "ipython",
    "version": 3
   },
   "file_extension": ".py",
   "mimetype": "text/x-python",
   "name": "python",
   "nbconvert_exporter": "python",
   "pygments_lexer": "ipython3",
   "version": "3.7.1"
  }
 },
 "nbformat": 4,
 "nbformat_minor": 2
}
