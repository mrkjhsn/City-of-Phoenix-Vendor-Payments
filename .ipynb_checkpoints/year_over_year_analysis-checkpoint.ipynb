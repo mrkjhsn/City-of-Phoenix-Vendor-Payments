{
 "cells": [
  {
   "cell_type": "markdown",
   "metadata": {},
   "source": [
    "### Vendor payments made by the City of Phoenix\n",
    "\n",
    "#### The City of Phoenix publishes vendor payment information from 2014 onward. I'm interested in understanding how categories of spending change from year to year.  Each year has about half a million vendor payments, this is a fun opportunity for me to work with data at a larger scale and work through issues that might be associated with this size of data sets."
   ]
  },
  {
   "cell_type": "code",
   "execution_count": 8,
   "metadata": {},
   "outputs": [],
   "source": [
    "import pandas as pd\n",
    "import numpy as np\n",
    "import matplotlib.pyplot as plt\n",
    "import matplotlib.ticker\n",
    "import seaborn as sns\n",
    "import datetime\n",
    "\n",
    "\n",
    "files = [\n",
    "    'data/2017/january-june-2017.csv',\n",
    "    'data/2017/july-september-2017.csv',\n",
    "    'data/2017/november-2017.csv',\n",
    "    'data/2017/october-2017.csv',\n",
    "    'data/2017/december-2017.csv',\n",
    "]\n",
    "\n",
    "phx_ven_pay_17 = pd.concat([pd.read_csv(f) for f in files], sort=True)"
   ]
  },
  {
   "cell_type": "code",
   "execution_count": 9,
   "metadata": {},
   "outputs": [
    {
     "data": {
      "text/plain": [
       "(487380, 9)"
      ]
     },
     "execution_count": 9,
     "metadata": {},
     "output_type": "execute_result"
    }
   ],
   "source": [
    "phx_ven_pay_17.shape"
   ]
  },
  {
   "cell_type": "code",
   "execution_count": 10,
   "metadata": {},
   "outputs": [
    {
     "data": {
      "text/html": [
       "<div>\n",
       "<style scoped>\n",
       "    .dataframe tbody tr th:only-of-type {\n",
       "        vertical-align: middle;\n",
       "    }\n",
       "\n",
       "    .dataframe tbody tr th {\n",
       "        vertical-align: top;\n",
       "    }\n",
       "\n",
       "    .dataframe thead th {\n",
       "        text-align: right;\n",
       "    }\n",
       "</style>\n",
       "<table border=\"1\" class=\"dataframe\">\n",
       "  <thead>\n",
       "    <tr style=\"text-align: right;\">\n",
       "      <th></th>\n",
       "      <th>Invoice Net Amt</th>\n",
       "      <th>Check/Payment Date</th>\n",
       "      <th>Commitmt Item Name</th>\n",
       "      <th>Dept. Descrptn</th>\n",
       "      <th>Document Nbr</th>\n",
       "      <th>Fund Center</th>\n",
       "      <th>Invoice Net Amt</th>\n",
       "      <th>Vendor ID Number</th>\n",
       "      <th>Vendor Name</th>\n",
       "    </tr>\n",
       "  </thead>\n",
       "  <tbody>\n",
       "    <tr>\n",
       "      <th>0</th>\n",
       "      <td>400.00</td>\n",
       "      <td>1/9/2017</td>\n",
       "      <td>Percent Arts-Prf Svc</td>\n",
       "      <td>Office of Arts and Culture</td>\n",
       "      <td>1.905025e+09</td>\n",
       "      <td>AR66000039</td>\n",
       "      <td>NaN</td>\n",
       "      <td>3521555.0</td>\n",
       "      <td>JOHNSON, GARTH W</td>\n",
       "    </tr>\n",
       "    <tr>\n",
       "      <th>1</th>\n",
       "      <td>5,153.60</td>\n",
       "      <td>1/27/2017</td>\n",
       "      <td>Spec Contractual Svc</td>\n",
       "      <td>Human Services</td>\n",
       "      <td>5.200546e+09</td>\n",
       "      <td>8980150005</td>\n",
       "      <td>NaN</td>\n",
       "      <td>3072374.0</td>\n",
       "      <td>1 N 10 INC</td>\n",
       "    </tr>\n",
       "    <tr>\n",
       "      <th>2</th>\n",
       "      <td>2,400.00</td>\n",
       "      <td>1/27/2017</td>\n",
       "      <td>Spec Contractual Svc</td>\n",
       "      <td>Human Services</td>\n",
       "      <td>5.200546e+09</td>\n",
       "      <td>8980150005</td>\n",
       "      <td>NaN</td>\n",
       "      <td>3072374.0</td>\n",
       "      <td>1 N 10 INC</td>\n",
       "    </tr>\n",
       "    <tr>\n",
       "      <th>3</th>\n",
       "      <td>5,153.60</td>\n",
       "      <td>1/27/2017</td>\n",
       "      <td>Spec Contractual Svc</td>\n",
       "      <td>Human Services</td>\n",
       "      <td>5.200546e+09</td>\n",
       "      <td>8980150005</td>\n",
       "      <td>NaN</td>\n",
       "      <td>3072374.0</td>\n",
       "      <td>1 N 10 INC</td>\n",
       "    </tr>\n",
       "    <tr>\n",
       "      <th>4</th>\n",
       "      <td>2,610.61</td>\n",
       "      <td>1/27/2017</td>\n",
       "      <td>Spec Contractual Svc</td>\n",
       "      <td>Human Services</td>\n",
       "      <td>5.200546e+09</td>\n",
       "      <td>8980150005</td>\n",
       "      <td>NaN</td>\n",
       "      <td>3072374.0</td>\n",
       "      <td>1 N 10 INC</td>\n",
       "    </tr>\n",
       "  </tbody>\n",
       "</table>\n",
       "</div>"
      ],
      "text/plain": [
       "   Invoice Net Amt  Check/Payment Date    Commitmt Item Name  \\\n",
       "0           400.00            1/9/2017  Percent Arts-Prf Svc   \n",
       "1         5,153.60           1/27/2017  Spec Contractual Svc   \n",
       "2         2,400.00           1/27/2017  Spec Contractual Svc   \n",
       "3         5,153.60           1/27/2017  Spec Contractual Svc   \n",
       "4         2,610.61           1/27/2017  Spec Contractual Svc   \n",
       "\n",
       "               Dept. Descrptn  Document Nbr Fund Center Invoice Net Amt  \\\n",
       "0  Office of Arts and Culture  1.905025e+09  AR66000039             NaN   \n",
       "1              Human Services  5.200546e+09  8980150005             NaN   \n",
       "2              Human Services  5.200546e+09  8980150005             NaN   \n",
       "3              Human Services  5.200546e+09  8980150005             NaN   \n",
       "4              Human Services  5.200546e+09  8980150005             NaN   \n",
       "\n",
       "   Vendor ID Number       Vendor Name  \n",
       "0         3521555.0  JOHNSON, GARTH W  \n",
       "1         3072374.0        1 N 10 INC  \n",
       "2         3072374.0        1 N 10 INC  \n",
       "3         3072374.0        1 N 10 INC  \n",
       "4         3072374.0        1 N 10 INC  "
      ]
     },
     "execution_count": 10,
     "metadata": {},
     "output_type": "execute_result"
    }
   ],
   "source": [
    "phx_ven_pay_17.head()"
   ]
  },
  {
   "cell_type": "markdown",
   "metadata": {},
   "source": [
    "### 2016 Data"
   ]
  },
  {
   "cell_type": "code",
   "execution_count": 17,
   "metadata": {},
   "outputs": [],
   "source": [
    "files = [\n",
    "    'data/2016/citycheckbookjantojune2016.csv',\n",
    "    'data/2016/citycheckbookjulytodec2016.csv',\n",
    "]\n",
    "\n",
    "phx_ven_pay_16 = pd.concat([pd.read_csv(f) for f in files], sort=True)"
   ]
  },
  {
   "cell_type": "code",
   "execution_count": 18,
   "metadata": {},
   "outputs": [
    {
     "data": {
      "text/html": [
       "<div>\n",
       "<style scoped>\n",
       "    .dataframe tbody tr th:only-of-type {\n",
       "        vertical-align: middle;\n",
       "    }\n",
       "\n",
       "    .dataframe tbody tr th {\n",
       "        vertical-align: top;\n",
       "    }\n",
       "\n",
       "    .dataframe thead th {\n",
       "        text-align: right;\n",
       "    }\n",
       "</style>\n",
       "<table border=\"1\" class=\"dataframe\">\n",
       "  <thead>\n",
       "    <tr style=\"text-align: right;\">\n",
       "      <th></th>\n",
       "      <th>Amount</th>\n",
       "      <th>Date</th>\n",
       "      <th>Department</th>\n",
       "      <th>Description</th>\n",
       "      <th>G/L Description</th>\n",
       "      <th>Vendor Display</th>\n",
       "    </tr>\n",
       "  </thead>\n",
       "  <tbody>\n",
       "    <tr>\n",
       "      <th>0</th>\n",
       "      <td>$855</td>\n",
       "      <td>01-04-2016</td>\n",
       "      <td>Community &amp; Economic Development</td>\n",
       "      <td>Other Commodities</td>\n",
       "      <td>NaN</td>\n",
       "      <td>ABM PARKING SERVICES</td>\n",
       "    </tr>\n",
       "    <tr>\n",
       "      <th>1</th>\n",
       "      <td>$471</td>\n",
       "      <td>01-04-2016</td>\n",
       "      <td>Community &amp; Economic Development</td>\n",
       "      <td>Other Commodities</td>\n",
       "      <td>NaN</td>\n",
       "      <td>ABM PARKING SERVICES</td>\n",
       "    </tr>\n",
       "    <tr>\n",
       "      <th>2</th>\n",
       "      <td>$813</td>\n",
       "      <td>01-04-2016</td>\n",
       "      <td>Community &amp; Economic Development</td>\n",
       "      <td>Other Commodities</td>\n",
       "      <td>NaN</td>\n",
       "      <td>ABM PARKING SERVICES</td>\n",
       "    </tr>\n",
       "    <tr>\n",
       "      <th>3</th>\n",
       "      <td>$578.92</td>\n",
       "      <td>01-04-2016</td>\n",
       "      <td>Fire</td>\n",
       "      <td>Plumbing Services</td>\n",
       "      <td>NaN</td>\n",
       "      <td>ABOVE ALL PLUMBING SERVICES INC</td>\n",
       "    </tr>\n",
       "    <tr>\n",
       "      <th>4</th>\n",
       "      <td>$2,712.04</td>\n",
       "      <td>01-04-2016</td>\n",
       "      <td>Fire</td>\n",
       "      <td>Plumbing Services</td>\n",
       "      <td>NaN</td>\n",
       "      <td>ABOVE ALL PLUMBING SERVICES INC</td>\n",
       "    </tr>\n",
       "  </tbody>\n",
       "</table>\n",
       "</div>"
      ],
      "text/plain": [
       "      Amount        Date                        Department        Description  \\\n",
       "0       $855  01-04-2016  Community & Economic Development  Other Commodities   \n",
       "1       $471  01-04-2016  Community & Economic Development  Other Commodities   \n",
       "2       $813  01-04-2016  Community & Economic Development  Other Commodities   \n",
       "3    $578.92  01-04-2016                              Fire  Plumbing Services   \n",
       "4  $2,712.04  01-04-2016                              Fire  Plumbing Services   \n",
       "\n",
       "  G/L Description                   Vendor Display  \n",
       "0             NaN             ABM PARKING SERVICES  \n",
       "1             NaN             ABM PARKING SERVICES  \n",
       "2             NaN             ABM PARKING SERVICES  \n",
       "3             NaN  ABOVE ALL PLUMBING SERVICES INC  \n",
       "4             NaN  ABOVE ALL PLUMBING SERVICES INC  "
      ]
     },
     "execution_count": 18,
     "metadata": {},
     "output_type": "execute_result"
    }
   ],
   "source": [
    "phx_ven_pay_16.head()"
   ]
  },
  {
   "cell_type": "code",
   "execution_count": 20,
   "metadata": {},
   "outputs": [
    {
     "data": {
      "text/plain": [
       "Amount             object\n",
       "Date               object\n",
       "Department         object\n",
       "Description        object\n",
       "G/L Description    object\n",
       "Vendor Display     object\n",
       "dtype: object"
      ]
     },
     "execution_count": 20,
     "metadata": {},
     "output_type": "execute_result"
    }
   ],
   "source": [
    "phx_ven_pay_16.dtypes"
   ]
  },
  {
   "cell_type": "code",
   "execution_count": 26,
   "metadata": {},
   "outputs": [
    {
     "data": {
      "text/plain": [
       "(533015, 6)"
      ]
     },
     "execution_count": 26,
     "metadata": {},
     "output_type": "execute_result"
    }
   ],
   "source": [
    "phx_ven_pay_16.shape"
   ]
  },
  {
   "cell_type": "markdown",
   "metadata": {},
   "source": [
    "### To clean up:\n",
    "+ 'Amount' column has dollar sign in front of it, must remove this in order to work with the values as numbers\n",
    "+ convert 'Date' to datetime from object\n",
    "+ 'Commitmt Item Name' does not show up in this dataset, however it is present in the following year(2017) and beyond"
   ]
  },
  {
   "cell_type": "markdown",
   "metadata": {},
   "source": [
    "### 2015 Data"
   ]
  },
  {
   "cell_type": "code",
   "execution_count": 21,
   "metadata": {},
   "outputs": [],
   "source": [
    "files = [\n",
    "    'data/2015/citycheckbookjantojune2015.csv',\n",
    "    'data/2015/citycheckbookjulytodec2015.csv',\n",
    "]\n",
    "\n",
    "phx_ven_pay_15 = pd.concat([pd.read_csv(f) for f in files], sort=True)"
   ]
  },
  {
   "cell_type": "code",
   "execution_count": 22,
   "metadata": {},
   "outputs": [
    {
     "data": {
      "text/html": [
       "<div>\n",
       "<style scoped>\n",
       "    .dataframe tbody tr th:only-of-type {\n",
       "        vertical-align: middle;\n",
       "    }\n",
       "\n",
       "    .dataframe tbody tr th {\n",
       "        vertical-align: top;\n",
       "    }\n",
       "\n",
       "    .dataframe thead th {\n",
       "        text-align: right;\n",
       "    }\n",
       "</style>\n",
       "<table border=\"1\" class=\"dataframe\">\n",
       "  <thead>\n",
       "    <tr style=\"text-align: right;\">\n",
       "      <th></th>\n",
       "      <th>Amount</th>\n",
       "      <th>Date</th>\n",
       "      <th>Department</th>\n",
       "      <th>Description</th>\n",
       "      <th>Vendor Display</th>\n",
       "    </tr>\n",
       "  </thead>\n",
       "  <tbody>\n",
       "    <tr>\n",
       "      <th>0</th>\n",
       "      <td>$80</td>\n",
       "      <td>01-02-2015</td>\n",
       "      <td>Municipal Court</td>\n",
       "      <td>Interpreters/Transl</td>\n",
       "      <td>A FOREIGN LANGUAGE SERVICE CORP</td>\n",
       "    </tr>\n",
       "    <tr>\n",
       "      <th>1</th>\n",
       "      <td>$1,888.85</td>\n",
       "      <td>01-02-2015</td>\n",
       "      <td>Aviation</td>\n",
       "      <td>Small Tools/ Equip</td>\n",
       "      <td>A TO Z EQUIPMENT RENTALS</td>\n",
       "    </tr>\n",
       "    <tr>\n",
       "      <th>2</th>\n",
       "      <td>$22.46</td>\n",
       "      <td>01-02-2015</td>\n",
       "      <td>Aviation</td>\n",
       "      <td>Motor Vehicle Parts</td>\n",
       "      <td>A TO Z EQUIPMENT RENTALS</td>\n",
       "    </tr>\n",
       "    <tr>\n",
       "      <th>3</th>\n",
       "      <td>$1,973.6</td>\n",
       "      <td>01-02-2015</td>\n",
       "      <td>Aviation</td>\n",
       "      <td>Small Tools/ Equip</td>\n",
       "      <td>A TO Z EQUIPMENT RENTALS</td>\n",
       "    </tr>\n",
       "    <tr>\n",
       "      <th>4</th>\n",
       "      <td>$17.33</td>\n",
       "      <td>01-02-2015</td>\n",
       "      <td>Public Works</td>\n",
       "      <td>Inventories</td>\n",
       "      <td>A-Z LOCK PRODUCTS CO INC</td>\n",
       "    </tr>\n",
       "  </tbody>\n",
       "</table>\n",
       "</div>"
      ],
      "text/plain": [
       "      Amount        Date       Department          Description  \\\n",
       "0        $80  01-02-2015  Municipal Court  Interpreters/Transl   \n",
       "1  $1,888.85  01-02-2015         Aviation   Small Tools/ Equip   \n",
       "2     $22.46  01-02-2015         Aviation  Motor Vehicle Parts   \n",
       "3   $1,973.6  01-02-2015         Aviation   Small Tools/ Equip   \n",
       "4     $17.33  01-02-2015     Public Works          Inventories   \n",
       "\n",
       "                    Vendor Display  \n",
       "0  A FOREIGN LANGUAGE SERVICE CORP  \n",
       "1         A TO Z EQUIPMENT RENTALS  \n",
       "2         A TO Z EQUIPMENT RENTALS  \n",
       "3         A TO Z EQUIPMENT RENTALS  \n",
       "4         A-Z LOCK PRODUCTS CO INC  "
      ]
     },
     "execution_count": 22,
     "metadata": {},
     "output_type": "execute_result"
    }
   ],
   "source": [
    "phx_ven_pay_15.head()"
   ]
  },
  {
   "cell_type": "code",
   "execution_count": 23,
   "metadata": {},
   "outputs": [
    {
     "data": {
      "text/plain": [
       "Amount            object\n",
       "Date              object\n",
       "Department        object\n",
       "Description       object\n",
       "Vendor Display    object\n",
       "dtype: object"
      ]
     },
     "execution_count": 23,
     "metadata": {},
     "output_type": "execute_result"
    }
   ],
   "source": [
    "phx_ven_pay_15.dtypes"
   ]
  },
  {
   "cell_type": "code",
   "execution_count": 24,
   "metadata": {},
   "outputs": [
    {
     "data": {
      "text/plain": [
       "(333440, 5)"
      ]
     },
     "execution_count": 24,
     "metadata": {},
     "output_type": "execute_result"
    }
   ],
   "source": [
    "phx_ven_pay_15.shape"
   ]
  }
 ],
 "metadata": {
  "kernelspec": {
   "display_name": "Python 3",
   "language": "python",
   "name": "python3"
  },
  "language_info": {
   "codemirror_mode": {
    "name": "ipython",
    "version": 3
   },
   "file_extension": ".py",
   "mimetype": "text/x-python",
   "name": "python",
   "nbconvert_exporter": "python",
   "pygments_lexer": "ipython3",
   "version": "3.7.1"
  }
 },
 "nbformat": 4,
 "nbformat_minor": 2
}
