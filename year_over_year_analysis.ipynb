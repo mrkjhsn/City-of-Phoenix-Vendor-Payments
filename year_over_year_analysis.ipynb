{
 "cells": [
  {
   "cell_type": "markdown",
   "metadata": {},
   "source": [
    "### Review data from each year"
   ]
  },
  {
   "cell_type": "code",
   "execution_count": 27,
   "metadata": {},
   "outputs": [],
   "source": [
    "import pandas as pd\n",
    "import numpy as np\n",
    "import matplotlib.pyplot as plt\n",
    "import matplotlib.ticker\n",
    "import seaborn as sns\n",
    "import datetime"
   ]
  },
  {
   "cell_type": "markdown",
   "metadata": {},
   "source": [
    "### 2017 Data"
   ]
  },
  {
   "cell_type": "code",
   "execution_count": 97,
   "metadata": {},
   "outputs": [],
   "source": [
    "files = [\n",
    "    'data/2017/january-june-2017.csv',\n",
    "    'data/2017/july-september-2017.csv',\n",
    "    'data/2017/november-2017.csv',\n",
    "    'data/2017/october-2017.csv',\n",
    "    'data/2017/december-2017.csv',\n",
    "]\n",
    "\n",
    "phx_ven_pay_17 = pd.concat([pd.read_csv(f) for f in files], sort=True)"
   ]
  },
  {
   "cell_type": "code",
   "execution_count": 110,
   "metadata": {},
   "outputs": [
    {
     "data": {
      "text/html": [
       "<div>\n",
       "<style scoped>\n",
       "    .dataframe tbody tr th:only-of-type {\n",
       "        vertical-align: middle;\n",
       "    }\n",
       "\n",
       "    .dataframe tbody tr th {\n",
       "        vertical-align: top;\n",
       "    }\n",
       "\n",
       "    .dataframe thead th {\n",
       "        text-align: right;\n",
       "    }\n",
       "</style>\n",
       "<table border=\"1\" class=\"dataframe\">\n",
       "  <thead>\n",
       "    <tr style=\"text-align: right;\">\n",
       "      <th></th>\n",
       "      <th>Invoice Net Amt</th>\n",
       "      <th>Check/Payment Date</th>\n",
       "      <th>Description</th>\n",
       "      <th>Department</th>\n",
       "      <th>Vendor Name</th>\n",
       "    </tr>\n",
       "  </thead>\n",
       "  <tbody>\n",
       "    <tr>\n",
       "      <th>0</th>\n",
       "      <td>400.00</td>\n",
       "      <td>1/9/2017</td>\n",
       "      <td>Percent Arts-Prf Svc</td>\n",
       "      <td>Office of Arts and Culture</td>\n",
       "      <td>JOHNSON, GARTH W</td>\n",
       "    </tr>\n",
       "    <tr>\n",
       "      <th>1</th>\n",
       "      <td>5,153.60</td>\n",
       "      <td>1/27/2017</td>\n",
       "      <td>Spec Contractual Svc</td>\n",
       "      <td>Human Services</td>\n",
       "      <td>1 N 10 INC</td>\n",
       "    </tr>\n",
       "    <tr>\n",
       "      <th>2</th>\n",
       "      <td>2,400.00</td>\n",
       "      <td>1/27/2017</td>\n",
       "      <td>Spec Contractual Svc</td>\n",
       "      <td>Human Services</td>\n",
       "      <td>1 N 10 INC</td>\n",
       "    </tr>\n",
       "    <tr>\n",
       "      <th>3</th>\n",
       "      <td>5,153.60</td>\n",
       "      <td>1/27/2017</td>\n",
       "      <td>Spec Contractual Svc</td>\n",
       "      <td>Human Services</td>\n",
       "      <td>1 N 10 INC</td>\n",
       "    </tr>\n",
       "    <tr>\n",
       "      <th>4</th>\n",
       "      <td>2,610.61</td>\n",
       "      <td>1/27/2017</td>\n",
       "      <td>Spec Contractual Svc</td>\n",
       "      <td>Human Services</td>\n",
       "      <td>1 N 10 INC</td>\n",
       "    </tr>\n",
       "  </tbody>\n",
       "</table>\n",
       "</div>"
      ],
      "text/plain": [
       "   Invoice Net Amt  Check/Payment Date           Description  \\\n",
       "0           400.00            1/9/2017  Percent Arts-Prf Svc   \n",
       "1         5,153.60           1/27/2017  Spec Contractual Svc   \n",
       "2         2,400.00           1/27/2017  Spec Contractual Svc   \n",
       "3         5,153.60           1/27/2017  Spec Contractual Svc   \n",
       "4         2,610.61           1/27/2017  Spec Contractual Svc   \n",
       "\n",
       "                   Department       Vendor Name  \n",
       "0  Office of Arts and Culture  JOHNSON, GARTH W  \n",
       "1              Human Services        1 N 10 INC  \n",
       "2              Human Services        1 N 10 INC  \n",
       "3              Human Services        1 N 10 INC  \n",
       "4              Human Services        1 N 10 INC  "
      ]
     },
     "execution_count": 110,
     "metadata": {},
     "output_type": "execute_result"
    }
   ],
   "source": [
    "phx_ven_pay_17.head()"
   ]
  },
  {
   "cell_type": "code",
   "execution_count": 119,
   "metadata": {},
   "outputs": [
    {
     "data": {
      "text/plain": [
       " Invoice Net Amt      0\n",
       "Check/Payment Date    0\n",
       "Description           0\n",
       "Department            0\n",
       "Vendor Name           0\n",
       "dtype: int64"
      ]
     },
     "execution_count": 119,
     "metadata": {},
     "output_type": "execute_result"
    }
   ],
   "source": [
    "phx_ven_pay_17.isnull().sum()"
   ]
  },
  {
   "cell_type": "markdown",
   "metadata": {},
   "source": [
    "### To clean up:\n",
    "#### Drop:\n",
    "+ ~~'Invoice Net Amt' shows up twice, for each column that has a value, the other column has NaN, how can I stitch these together into one column?~~\n",
    "+ ~~'Vendor ID Number' isn't included in prior and later years, drop this~~\n",
    "+ ~~'Fund Center' not included in prior and later years, drop this~~\n",
    "+ ~~'Document Nbr' not included in prior and later years, drop this~~\n",
    "+ ~~remove three records that don't have Vendor Name~~\n",
    "\n",
    "#### Modify:\n",
    "+ change 'Check/Payment Date' to datetime from object\n",
    "+ change 'Dept. Descrptn' to 'Department' to be consistent with prior years\n",
    "+ change 'Commitmt Item Name' to 'Description' to be consistent with prior years"
   ]
  },
  {
   "cell_type": "code",
   "execution_count": 112,
   "metadata": {},
   "outputs": [
    {
     "data": {
      "text/plain": [
       " Invoice Net Amt      object\n",
       "Check/Payment Date    object\n",
       "Description           object\n",
       "Department            object\n",
       "Vendor Name           object\n",
       "dtype: object"
      ]
     },
     "execution_count": 112,
     "metadata": {},
     "output_type": "execute_result"
    }
   ],
   "source": [
    "phx_ven_pay_17.dtypes"
   ]
  },
  {
   "cell_type": "code",
   "execution_count": 121,
   "metadata": {},
   "outputs": [],
   "source": [
    "# remove handful of rows that have no vendor name\n",
    "phx_ven_pay_17.dropna(inplace=True)"
   ]
  },
  {
   "cell_type": "code",
   "execution_count": 100,
   "metadata": {},
   "outputs": [],
   "source": [
    "# combine two 'Invoice Net Amt' columns into one based on NaN values\n",
    "phx_ven_pay_17.iloc[:,0].fillna(phx_ven_pay_17.iloc[:,6], inplace=True)"
   ]
  },
  {
   "cell_type": "code",
   "execution_count": 105,
   "metadata": {},
   "outputs": [],
   "source": [
    "# delete second 'Invoice Net Amt' column since invoice amounts are now being held in first 'Invoice Net Amt' column\n",
    "phx_ven_pay_17.drop(phx_ven_pay_17.columns[6], axis=1, inplace=True)"
   ]
  },
  {
   "cell_type": "code",
   "execution_count": 107,
   "metadata": {},
   "outputs": [],
   "source": [
    "# rename columns\n",
    "columns_to_rename = ['Dept. Descrptn',\n",
    "                    'Commitmt Item Name']\n",
    "\n",
    "if set(columns_to_rename).issubset(phx_ven_pay_17.columns):\n",
    "   phx_ven_pay_17.rename(columns={'Dept. Descrptn': 'Department',\n",
    "                                  'Commitmt Item Name': 'Description'},\n",
    "                         inplace=True)"
   ]
  },
  {
   "cell_type": "code",
   "execution_count": 108,
   "metadata": {},
   "outputs": [],
   "source": [
    "# drop unnecessary columns\n",
    "excess_columns = [\n",
    "                  'Document Nbr',\n",
    "                  'Fund Center',\n",
    "                  'Vendor ID Number']\n",
    "\n",
    "if set(excess_columns).issubset(phx_ven_pay_17.columns):\n",
    "   phx_ven_pay_17.drop([ \n",
    "                        'Document Nbr', \n",
    "                        'Fund Center', \n",
    "                        'Vendor ID Number'], \n",
    "                       axis=1, inplace=True)\n",
    "\n",
    "# columns in oldest data = Amount, Date, Department, Description, Vendor Display"
   ]
  },
  {
   "cell_type": "code",
   "execution_count": 120,
   "metadata": {},
   "outputs": [
    {
     "data": {
      "text/plain": [
       "(487373, 5)"
      ]
     },
     "execution_count": 120,
     "metadata": {},
     "output_type": "execute_result"
    }
   ],
   "source": [
    "phx_ven_pay_17.shape"
   ]
  },
  {
   "cell_type": "code",
   "execution_count": 36,
   "metadata": {},
   "outputs": [
    {
     "data": {
      "text/plain": [
       "Fund Center\n",
       "1000000000    157\n",
       "1100000000     20\n",
       "1101000000     44\n",
       "1102000000     30\n",
       "1103000000     36\n",
       "Name: Fund Center, dtype: int64"
      ]
     },
     "execution_count": 36,
     "metadata": {},
     "output_type": "execute_result"
    }
   ],
   "source": [
    "phx_ven_pay_17.groupby('Fund Center')['Fund Center'].count().head()"
   ]
  },
  {
   "cell_type": "markdown",
   "metadata": {},
   "source": [
    "### 2016 Data"
   ]
  },
  {
   "cell_type": "code",
   "execution_count": 17,
   "metadata": {},
   "outputs": [],
   "source": [
    "files = [\n",
    "    'data/2016/citycheckbookjantojune2016.csv',\n",
    "    'data/2016/citycheckbookjulytodec2016.csv',\n",
    "]\n",
    "\n",
    "phx_ven_pay_16 = pd.concat([pd.read_csv(f) for f in files], sort=True)"
   ]
  },
  {
   "cell_type": "code",
   "execution_count": 51,
   "metadata": {},
   "outputs": [
    {
     "data": {
      "text/html": [
       "<div>\n",
       "<style scoped>\n",
       "    .dataframe tbody tr th:only-of-type {\n",
       "        vertical-align: middle;\n",
       "    }\n",
       "\n",
       "    .dataframe tbody tr th {\n",
       "        vertical-align: top;\n",
       "    }\n",
       "\n",
       "    .dataframe thead th {\n",
       "        text-align: right;\n",
       "    }\n",
       "</style>\n",
       "<table border=\"1\" class=\"dataframe\">\n",
       "  <thead>\n",
       "    <tr style=\"text-align: right;\">\n",
       "      <th></th>\n",
       "      <th>Amount</th>\n",
       "      <th>Date</th>\n",
       "      <th>Department</th>\n",
       "      <th>Description</th>\n",
       "      <th>Vendor Display</th>\n",
       "    </tr>\n",
       "  </thead>\n",
       "  <tbody>\n",
       "    <tr>\n",
       "      <th>0</th>\n",
       "      <td>$855</td>\n",
       "      <td>01-04-2016</td>\n",
       "      <td>Community &amp; Economic Development</td>\n",
       "      <td>Other Commodities</td>\n",
       "      <td>ABM PARKING SERVICES</td>\n",
       "    </tr>\n",
       "    <tr>\n",
       "      <th>1</th>\n",
       "      <td>$471</td>\n",
       "      <td>01-04-2016</td>\n",
       "      <td>Community &amp; Economic Development</td>\n",
       "      <td>Other Commodities</td>\n",
       "      <td>ABM PARKING SERVICES</td>\n",
       "    </tr>\n",
       "    <tr>\n",
       "      <th>2</th>\n",
       "      <td>$813</td>\n",
       "      <td>01-04-2016</td>\n",
       "      <td>Community &amp; Economic Development</td>\n",
       "      <td>Other Commodities</td>\n",
       "      <td>ABM PARKING SERVICES</td>\n",
       "    </tr>\n",
       "    <tr>\n",
       "      <th>3</th>\n",
       "      <td>$578.92</td>\n",
       "      <td>01-04-2016</td>\n",
       "      <td>Fire</td>\n",
       "      <td>Plumbing Services</td>\n",
       "      <td>ABOVE ALL PLUMBING SERVICES INC</td>\n",
       "    </tr>\n",
       "    <tr>\n",
       "      <th>4</th>\n",
       "      <td>$2,712.04</td>\n",
       "      <td>01-04-2016</td>\n",
       "      <td>Fire</td>\n",
       "      <td>Plumbing Services</td>\n",
       "      <td>ABOVE ALL PLUMBING SERVICES INC</td>\n",
       "    </tr>\n",
       "  </tbody>\n",
       "</table>\n",
       "</div>"
      ],
      "text/plain": [
       "      Amount        Date                        Department        Description  \\\n",
       "0       $855  01-04-2016  Community & Economic Development  Other Commodities   \n",
       "1       $471  01-04-2016  Community & Economic Development  Other Commodities   \n",
       "2       $813  01-04-2016  Community & Economic Development  Other Commodities   \n",
       "3    $578.92  01-04-2016                              Fire  Plumbing Services   \n",
       "4  $2,712.04  01-04-2016                              Fire  Plumbing Services   \n",
       "\n",
       "                    Vendor Display  \n",
       "0             ABM PARKING SERVICES  \n",
       "1             ABM PARKING SERVICES  \n",
       "2             ABM PARKING SERVICES  \n",
       "3  ABOVE ALL PLUMBING SERVICES INC  \n",
       "4  ABOVE ALL PLUMBING SERVICES INC  "
      ]
     },
     "execution_count": 51,
     "metadata": {},
     "output_type": "execute_result"
    }
   ],
   "source": [
    "phx_ven_pay_16.head()"
   ]
  },
  {
   "cell_type": "code",
   "execution_count": 20,
   "metadata": {},
   "outputs": [
    {
     "data": {
      "text/plain": [
       "Amount             object\n",
       "Date               object\n",
       "Department         object\n",
       "Description        object\n",
       "G/L Description    object\n",
       "Vendor Display     object\n",
       "dtype: object"
      ]
     },
     "execution_count": 20,
     "metadata": {},
     "output_type": "execute_result"
    }
   ],
   "source": [
    "phx_ven_pay_16.dtypes"
   ]
  },
  {
   "cell_type": "code",
   "execution_count": 49,
   "metadata": {},
   "outputs": [],
   "source": [
    "# remove 'G/L Description' column\n",
    "# phx_ven_pay_16.drop('G/L Description', axis=1, inplace=True)"
   ]
  },
  {
   "cell_type": "code",
   "execution_count": 50,
   "metadata": {},
   "outputs": [
    {
     "data": {
      "text/plain": [
       "(533015, 5)"
      ]
     },
     "execution_count": 50,
     "metadata": {},
     "output_type": "execute_result"
    }
   ],
   "source": [
    "phx_ven_pay_16.shape"
   ]
  },
  {
   "cell_type": "markdown",
   "metadata": {},
   "source": [
    "### To clean up:\n",
    "+ 'Amount' column has dollar sign in front of it, must remove this in order to work with the values as numbers\n",
    "+ convert 'Date' to datetime from object and rename to 'Check/Payment Date' in order to be consistent with later years\n",
    "+ 'Commitmt Item Name' does not show up in this dataset, however it is present in the following year(2017) and beyond\n",
    "+ 'GL Description' shows up this year, however it is not included in preceding years, and it is not included in following years(at least not under this name), since I don't have plants to use this, I will remove it.\n",
    "+ change 'Description' to 'Dept. Descrptn' to be consistent with later years"
   ]
  },
  {
   "cell_type": "markdown",
   "metadata": {},
   "source": [
    "### 2015 Data"
   ]
  },
  {
   "cell_type": "code",
   "execution_count": 21,
   "metadata": {},
   "outputs": [],
   "source": [
    "files = [\n",
    "    'data/2015/citycheckbookjantojune2015.csv',\n",
    "    'data/2015/citycheckbookjulytodec2015.csv',\n",
    "]\n",
    "\n",
    "phx_ven_pay_15 = pd.concat([pd.read_csv(f) for f in files], sort=True)"
   ]
  },
  {
   "cell_type": "code",
   "execution_count": 22,
   "metadata": {},
   "outputs": [
    {
     "data": {
      "text/html": [
       "<div>\n",
       "<style scoped>\n",
       "    .dataframe tbody tr th:only-of-type {\n",
       "        vertical-align: middle;\n",
       "    }\n",
       "\n",
       "    .dataframe tbody tr th {\n",
       "        vertical-align: top;\n",
       "    }\n",
       "\n",
       "    .dataframe thead th {\n",
       "        text-align: right;\n",
       "    }\n",
       "</style>\n",
       "<table border=\"1\" class=\"dataframe\">\n",
       "  <thead>\n",
       "    <tr style=\"text-align: right;\">\n",
       "      <th></th>\n",
       "      <th>Amount</th>\n",
       "      <th>Date</th>\n",
       "      <th>Department</th>\n",
       "      <th>Description</th>\n",
       "      <th>Vendor Display</th>\n",
       "    </tr>\n",
       "  </thead>\n",
       "  <tbody>\n",
       "    <tr>\n",
       "      <th>0</th>\n",
       "      <td>$80</td>\n",
       "      <td>01-02-2015</td>\n",
       "      <td>Municipal Court</td>\n",
       "      <td>Interpreters/Transl</td>\n",
       "      <td>A FOREIGN LANGUAGE SERVICE CORP</td>\n",
       "    </tr>\n",
       "    <tr>\n",
       "      <th>1</th>\n",
       "      <td>$1,888.85</td>\n",
       "      <td>01-02-2015</td>\n",
       "      <td>Aviation</td>\n",
       "      <td>Small Tools/ Equip</td>\n",
       "      <td>A TO Z EQUIPMENT RENTALS</td>\n",
       "    </tr>\n",
       "    <tr>\n",
       "      <th>2</th>\n",
       "      <td>$22.46</td>\n",
       "      <td>01-02-2015</td>\n",
       "      <td>Aviation</td>\n",
       "      <td>Motor Vehicle Parts</td>\n",
       "      <td>A TO Z EQUIPMENT RENTALS</td>\n",
       "    </tr>\n",
       "    <tr>\n",
       "      <th>3</th>\n",
       "      <td>$1,973.6</td>\n",
       "      <td>01-02-2015</td>\n",
       "      <td>Aviation</td>\n",
       "      <td>Small Tools/ Equip</td>\n",
       "      <td>A TO Z EQUIPMENT RENTALS</td>\n",
       "    </tr>\n",
       "    <tr>\n",
       "      <th>4</th>\n",
       "      <td>$17.33</td>\n",
       "      <td>01-02-2015</td>\n",
       "      <td>Public Works</td>\n",
       "      <td>Inventories</td>\n",
       "      <td>A-Z LOCK PRODUCTS CO INC</td>\n",
       "    </tr>\n",
       "  </tbody>\n",
       "</table>\n",
       "</div>"
      ],
      "text/plain": [
       "      Amount        Date       Department          Description  \\\n",
       "0        $80  01-02-2015  Municipal Court  Interpreters/Transl   \n",
       "1  $1,888.85  01-02-2015         Aviation   Small Tools/ Equip   \n",
       "2     $22.46  01-02-2015         Aviation  Motor Vehicle Parts   \n",
       "3   $1,973.6  01-02-2015         Aviation   Small Tools/ Equip   \n",
       "4     $17.33  01-02-2015     Public Works          Inventories   \n",
       "\n",
       "                    Vendor Display  \n",
       "0  A FOREIGN LANGUAGE SERVICE CORP  \n",
       "1         A TO Z EQUIPMENT RENTALS  \n",
       "2         A TO Z EQUIPMENT RENTALS  \n",
       "3         A TO Z EQUIPMENT RENTALS  \n",
       "4         A-Z LOCK PRODUCTS CO INC  "
      ]
     },
     "execution_count": 22,
     "metadata": {},
     "output_type": "execute_result"
    }
   ],
   "source": [
    "phx_ven_pay_15.head()"
   ]
  },
  {
   "cell_type": "markdown",
   "metadata": {},
   "source": [
    "### To clean up:\n",
    "\n",
    "+ change 'Description' to 'Dept. Descrptn' to be consistent with later years\n",
    "+ convert 'Date' to datetime from object and rename to 'Check/Payment Date' in order to be consistent with later years\n",
    "+ change '\n"
   ]
  },
  {
   "cell_type": "code",
   "execution_count": 23,
   "metadata": {},
   "outputs": [
    {
     "data": {
      "text/plain": [
       "Amount            object\n",
       "Date              object\n",
       "Department        object\n",
       "Description       object\n",
       "Vendor Display    object\n",
       "dtype: object"
      ]
     },
     "execution_count": 23,
     "metadata": {},
     "output_type": "execute_result"
    }
   ],
   "source": [
    "phx_ven_pay_15.dtypes"
   ]
  },
  {
   "cell_type": "code",
   "execution_count": 24,
   "metadata": {},
   "outputs": [
    {
     "data": {
      "text/plain": [
       "(333440, 5)"
      ]
     },
     "execution_count": 24,
     "metadata": {},
     "output_type": "execute_result"
    }
   ],
   "source": [
    "phx_ven_pay_15.shape"
   ]
  },
  {
   "cell_type": "markdown",
   "metadata": {},
   "source": [
    "### 2014 Data"
   ]
  },
  {
   "cell_type": "code",
   "execution_count": 28,
   "metadata": {},
   "outputs": [],
   "source": [
    "files = [\n",
    "    'data/2014/citycheckbookjantojune2014.csv',\n",
    "    'data/2014/citycheckbookjulytodec2014.csv',\n",
    "]\n",
    "\n",
    "phx_ven_pay_14 = pd.concat([pd.read_csv(f) for f in files], sort=True)"
   ]
  },
  {
   "cell_type": "code",
   "execution_count": 29,
   "metadata": {},
   "outputs": [
    {
     "data": {
      "text/html": [
       "<div>\n",
       "<style scoped>\n",
       "    .dataframe tbody tr th:only-of-type {\n",
       "        vertical-align: middle;\n",
       "    }\n",
       "\n",
       "    .dataframe tbody tr th {\n",
       "        vertical-align: top;\n",
       "    }\n",
       "\n",
       "    .dataframe thead th {\n",
       "        text-align: right;\n",
       "    }\n",
       "</style>\n",
       "<table border=\"1\" class=\"dataframe\">\n",
       "  <thead>\n",
       "    <tr style=\"text-align: right;\">\n",
       "      <th></th>\n",
       "      <th>Amount</th>\n",
       "      <th>Date</th>\n",
       "      <th>Department</th>\n",
       "      <th>Description</th>\n",
       "      <th>Vendor Display</th>\n",
       "    </tr>\n",
       "  </thead>\n",
       "  <tbody>\n",
       "    <tr>\n",
       "      <th>0</th>\n",
       "      <td>-$34.78</td>\n",
       "      <td>01-02-2014</td>\n",
       "      <td>Street Transportation</td>\n",
       "      <td>Inventories</td>\n",
       "      <td>3M COMPANY</td>\n",
       "    </tr>\n",
       "    <tr>\n",
       "      <th>1</th>\n",
       "      <td>-$69.55</td>\n",
       "      <td>01-02-2014</td>\n",
       "      <td>Street Transportation</td>\n",
       "      <td>Inventories</td>\n",
       "      <td>3M COMPANY</td>\n",
       "    </tr>\n",
       "    <tr>\n",
       "      <th>2</th>\n",
       "      <td>-$77</td>\n",
       "      <td>01-02-2014</td>\n",
       "      <td>Street Transportation</td>\n",
       "      <td>Inventories</td>\n",
       "      <td>3M COMPANY</td>\n",
       "    </tr>\n",
       "    <tr>\n",
       "      <th>3</th>\n",
       "      <td>$0.01</td>\n",
       "      <td>01-02-2014</td>\n",
       "      <td>Public Works</td>\n",
       "      <td>Inventories</td>\n",
       "      <td>AGS SAFETY &amp; SUPPLY</td>\n",
       "    </tr>\n",
       "    <tr>\n",
       "      <th>4</th>\n",
       "      <td>-$0.79</td>\n",
       "      <td>01-02-2014</td>\n",
       "      <td>Police</td>\n",
       "      <td>Inventories</td>\n",
       "      <td>AMERICAN EUROCOPTER CORPORATION</td>\n",
       "    </tr>\n",
       "  </tbody>\n",
       "</table>\n",
       "</div>"
      ],
      "text/plain": [
       "    Amount        Date             Department  Description  \\\n",
       "0  -$34.78  01-02-2014  Street Transportation  Inventories   \n",
       "1  -$69.55  01-02-2014  Street Transportation  Inventories   \n",
       "2     -$77  01-02-2014  Street Transportation  Inventories   \n",
       "3    $0.01  01-02-2014           Public Works  Inventories   \n",
       "4   -$0.79  01-02-2014                 Police  Inventories   \n",
       "\n",
       "                    Vendor Display  \n",
       "0                       3M COMPANY  \n",
       "1                       3M COMPANY  \n",
       "2                       3M COMPANY  \n",
       "3              AGS SAFETY & SUPPLY  \n",
       "4  AMERICAN EUROCOPTER CORPORATION  "
      ]
     },
     "execution_count": 29,
     "metadata": {},
     "output_type": "execute_result"
    }
   ],
   "source": [
    "phx_ven_pay_14.head()"
   ]
  },
  {
   "cell_type": "markdown",
   "metadata": {},
   "source": [
    "### To clean up:\n",
    "\n",
    "+ change 'Description' to 'Dept. Descrptn' to be consistent with later years\n",
    "+ convert 'Date' to datetime from object and rename to 'Check/Payment Date' in order to be consistent with later years\n"
   ]
  },
  {
   "cell_type": "code",
   "execution_count": 31,
   "metadata": {},
   "outputs": [
    {
     "data": {
      "text/plain": [
       "Amount            object\n",
       "Date              object\n",
       "Department        object\n",
       "Description       object\n",
       "Vendor Display    object\n",
       "dtype: object"
      ]
     },
     "execution_count": 31,
     "metadata": {},
     "output_type": "execute_result"
    }
   ],
   "source": [
    "phx_ven_pay_14.dtypes"
   ]
  },
  {
   "cell_type": "code",
   "execution_count": 30,
   "metadata": {},
   "outputs": [
    {
     "data": {
      "text/plain": [
       "(307110, 5)"
      ]
     },
     "execution_count": 30,
     "metadata": {},
     "output_type": "execute_result"
    }
   ],
   "source": [
    "phx_ven_pay_14.shape"
   ]
  }
 ],
 "metadata": {
  "kernelspec": {
   "display_name": "Python 3",
   "language": "python",
   "name": "python3"
  },
  "language_info": {
   "codemirror_mode": {
    "name": "ipython",
    "version": 3
   },
   "file_extension": ".py",
   "mimetype": "text/x-python",
   "name": "python",
   "nbconvert_exporter": "python",
   "pygments_lexer": "ipython3",
   "version": "3.7.1"
  }
 },
 "nbformat": 4,
 "nbformat_minor": 2
}
