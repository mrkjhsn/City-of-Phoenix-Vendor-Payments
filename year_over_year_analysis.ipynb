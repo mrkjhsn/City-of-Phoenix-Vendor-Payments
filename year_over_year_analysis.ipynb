{
 "cells": [
  {
   "cell_type": "markdown",
   "metadata": {},
   "source": [
    "### Review data from each year"
   ]
  },
  {
   "cell_type": "code",
   "execution_count": 253,
   "metadata": {},
   "outputs": [],
   "source": [
    "import glob\n",
    "import pandas as pd\n",
    "import numpy as np\n",
    "import matplotlib.pyplot as plt\n",
    "import matplotlib.ticker\n",
    "import seaborn as sns\n",
    "import datetime"
   ]
  },
  {
   "cell_type": "markdown",
   "metadata": {},
   "source": [
    "### 2018 Data "
   ]
  },
  {
   "cell_type": "code",
   "execution_count": 287,
   "metadata": {},
   "outputs": [],
   "source": [
    "# open all 2018 csv files and read them into a dataframe \n",
    "files = glob.glob('data/2018/*.csv')\n",
    "\n",
    "phx_ven_pay_18 = pd.concat([pd.read_csv(f) for f in files], sort=True)"
   ]
  },
  {
   "cell_type": "code",
   "execution_count": 288,
   "metadata": {},
   "outputs": [
    {
     "data": {
      "text/plain": [
       "(554526, 5)"
      ]
     },
     "execution_count": 288,
     "metadata": {},
     "output_type": "execute_result"
    }
   ],
   "source": [
    "phx_ven_pay_18.shape"
   ]
  },
  {
   "cell_type": "code",
   "execution_count": 289,
   "metadata": {},
   "outputs": [
    {
     "data": {
      "text/html": [
       "<div>\n",
       "<style scoped>\n",
       "    .dataframe tbody tr th:only-of-type {\n",
       "        vertical-align: middle;\n",
       "    }\n",
       "\n",
       "    .dataframe tbody tr th {\n",
       "        vertical-align: top;\n",
       "    }\n",
       "\n",
       "    .dataframe thead th {\n",
       "        text-align: right;\n",
       "    }\n",
       "</style>\n",
       "<table border=\"1\" class=\"dataframe\">\n",
       "  <thead>\n",
       "    <tr style=\"text-align: right;\">\n",
       "      <th></th>\n",
       "      <th>Check/Payment Date</th>\n",
       "      <th>Commitmt Item Name</th>\n",
       "      <th>Dept. Descrptn</th>\n",
       "      <th>Invoice Net Amt</th>\n",
       "      <th>Vendor Name</th>\n",
       "    </tr>\n",
       "  </thead>\n",
       "  <tbody>\n",
       "    <tr>\n",
       "      <th>0</th>\n",
       "      <td>4/25/2018</td>\n",
       "      <td>Spec Contractual Svc</td>\n",
       "      <td>Human Services</td>\n",
       "      <td>1166.67</td>\n",
       "      <td>1 N 10 INC</td>\n",
       "    </tr>\n",
       "    <tr>\n",
       "      <th>1</th>\n",
       "      <td>4/25/2018</td>\n",
       "      <td>Spec Contractual Svc</td>\n",
       "      <td>Human Services</td>\n",
       "      <td>4166.66</td>\n",
       "      <td>1 N 10 INC</td>\n",
       "    </tr>\n",
       "    <tr>\n",
       "      <th>2</th>\n",
       "      <td>4/2/2018</td>\n",
       "      <td>Housing Appliances</td>\n",
       "      <td>Housing</td>\n",
       "      <td>1322.86</td>\n",
       "      <td>1 STOP ELECTRONICS CENTER INC</td>\n",
       "    </tr>\n",
       "    <tr>\n",
       "      <th>3</th>\n",
       "      <td>4/2/2018</td>\n",
       "      <td>Housing Appliances</td>\n",
       "      <td>Parks and Recreation</td>\n",
       "      <td>1316.38</td>\n",
       "      <td>1 STOP ELECTRONICS CENTER INC</td>\n",
       "    </tr>\n",
       "    <tr>\n",
       "      <th>4</th>\n",
       "      <td>4/2/2018</td>\n",
       "      <td>Housing Appliances</td>\n",
       "      <td>Housing</td>\n",
       "      <td>661.43</td>\n",
       "      <td>1 STOP ELECTRONICS CENTER INC</td>\n",
       "    </tr>\n",
       "  </tbody>\n",
       "</table>\n",
       "</div>"
      ],
      "text/plain": [
       "  Check/Payment Date    Commitmt Item Name        Dept. Descrptn  \\\n",
       "0          4/25/2018  Spec Contractual Svc        Human Services   \n",
       "1          4/25/2018  Spec Contractual Svc        Human Services   \n",
       "2           4/2/2018    Housing Appliances               Housing   \n",
       "3           4/2/2018    Housing Appliances  Parks and Recreation   \n",
       "4           4/2/2018    Housing Appliances               Housing   \n",
       "\n",
       "  Invoice Net Amt                    Vendor Name  \n",
       "0         1166.67                     1 N 10 INC  \n",
       "1         4166.66                     1 N 10 INC  \n",
       "2         1322.86  1 STOP ELECTRONICS CENTER INC  \n",
       "3         1316.38  1 STOP ELECTRONICS CENTER INC  \n",
       "4          661.43  1 STOP ELECTRONICS CENTER INC  "
      ]
     },
     "execution_count": 289,
     "metadata": {},
     "output_type": "execute_result"
    }
   ],
   "source": [
    "phx_ven_pay_18.head()"
   ]
  },
  {
   "cell_type": "markdown",
   "metadata": {},
   "source": [
    "### 2017 Data"
   ]
  },
  {
   "cell_type": "code",
   "execution_count": 373,
   "metadata": {},
   "outputs": [],
   "source": [
    "# open all 2017 csv files and read them into a dataframe \n",
    "files = glob.glob('data/2017/*.csv')\n",
    "\n",
    "phx_ven_pay_17 = pd.concat([pd.read_csv(f) for f in files], sort=True)"
   ]
  },
  {
   "cell_type": "code",
   "execution_count": 400,
   "metadata": {},
   "outputs": [
    {
     "data": {
      "text/html": [
       "<div>\n",
       "<style scoped>\n",
       "    .dataframe tbody tr th:only-of-type {\n",
       "        vertical-align: middle;\n",
       "    }\n",
       "\n",
       "    .dataframe tbody tr th {\n",
       "        vertical-align: top;\n",
       "    }\n",
       "\n",
       "    .dataframe thead th {\n",
       "        text-align: right;\n",
       "    }\n",
       "</style>\n",
       "<table border=\"1\" class=\"dataframe\">\n",
       "  <thead>\n",
       "    <tr style=\"text-align: right;\">\n",
       "      <th></th>\n",
       "      <th>Invoice Net Amt</th>\n",
       "      <th>Check/Payment Date</th>\n",
       "      <th>Commitmt Item Name</th>\n",
       "      <th>Dept. Descrptn</th>\n",
       "      <th>Vendor Name</th>\n",
       "    </tr>\n",
       "  </thead>\n",
       "  <tbody>\n",
       "    <tr>\n",
       "      <th>0</th>\n",
       "      <td>138.18</td>\n",
       "      <td>12/13/2017</td>\n",
       "      <td>Inventories-Offline</td>\n",
       "      <td>Public Works</td>\n",
       "      <td>1 STOP ELECTRONICS CENTER INC</td>\n",
       "    </tr>\n",
       "    <tr>\n",
       "      <th>1</th>\n",
       "      <td>4001.92</td>\n",
       "      <td>12/29/2017</td>\n",
       "      <td>Com Software&lt;Cap Lmt</td>\n",
       "      <td>Planning and Development</td>\n",
       "      <td>20-20 TECHNOLOGIES</td>\n",
       "    </tr>\n",
       "    <tr>\n",
       "      <th>2</th>\n",
       "      <td>-316.92</td>\n",
       "      <td>12/29/2017</td>\n",
       "      <td>Com Software&lt;Cap Lmt</td>\n",
       "      <td>Planning and Development</td>\n",
       "      <td>20-20 TECHNOLOGIES</td>\n",
       "    </tr>\n",
       "    <tr>\n",
       "      <th>3</th>\n",
       "      <td>2122.04</td>\n",
       "      <td>12/29/2017</td>\n",
       "      <td>Com Software&lt;Cap Lmt</td>\n",
       "      <td>Planning and Development</td>\n",
       "      <td>20-20 TECHNOLOGIES</td>\n",
       "    </tr>\n",
       "    <tr>\n",
       "      <th>4</th>\n",
       "      <td>-168.04</td>\n",
       "      <td>12/29/2017</td>\n",
       "      <td>Com Software&lt;Cap Lmt</td>\n",
       "      <td>Planning and Development</td>\n",
       "      <td>20-20 TECHNOLOGIES</td>\n",
       "    </tr>\n",
       "  </tbody>\n",
       "</table>\n",
       "</div>"
      ],
      "text/plain": [
       "  Invoice Net Amt Check/Payment Date    Commitmt Item Name  \\\n",
       "0          138.18         12/13/2017   Inventories-Offline   \n",
       "1         4001.92         12/29/2017  Com Software<Cap Lmt   \n",
       "2         -316.92         12/29/2017  Com Software<Cap Lmt   \n",
       "3         2122.04         12/29/2017  Com Software<Cap Lmt   \n",
       "4         -168.04         12/29/2017  Com Software<Cap Lmt   \n",
       "\n",
       "             Dept. Descrptn                    Vendor Name  \n",
       "0              Public Works  1 STOP ELECTRONICS CENTER INC  \n",
       "1  Planning and Development             20-20 TECHNOLOGIES  \n",
       "2  Planning and Development             20-20 TECHNOLOGIES  \n",
       "3  Planning and Development             20-20 TECHNOLOGIES  \n",
       "4  Planning and Development             20-20 TECHNOLOGIES  "
      ]
     },
     "execution_count": 400,
     "metadata": {},
     "output_type": "execute_result"
    }
   ],
   "source": [
    "phx_ven_pay_17.head()"
   ]
  },
  {
   "cell_type": "code",
   "execution_count": 405,
   "metadata": {},
   "outputs": [
    {
     "data": {
      "text/plain": [
       "0    6\n",
       "1    7\n",
       "2    7\n",
       "3    7\n",
       "4    7\n",
       "Name: Invoice Net Amt, dtype: int64"
      ]
     },
     "execution_count": 405,
     "metadata": {},
     "output_type": "execute_result"
    }
   ],
   "source": [
    "phx_ven_pay_17.iloc[:,0].apply(lambda x: len(str(x))).head()"
   ]
  },
  {
   "cell_type": "code",
   "execution_count": 392,
   "metadata": {},
   "outputs": [
    {
     "data": {
      "text/plain": [
       "Index(['Invoice Net Amt', 'Check/Payment Date', 'Commitmt Item Name',\n",
       "       'Dept. Descrptn', 'Vendor Name'],\n",
       "      dtype='object')"
      ]
     },
     "execution_count": 392,
     "metadata": {},
     "output_type": "execute_result"
    }
   ],
   "source": [
    "phx_ven_pay_17.columns"
   ]
  },
  {
   "cell_type": "code",
   "execution_count": 371,
   "metadata": {},
   "outputs": [
    {
     "data": {
      "text/plain": [
       "(487380, 7)"
      ]
     },
     "execution_count": 371,
     "metadata": {},
     "output_type": "execute_result"
    }
   ],
   "source": [
    "phx_ven_pay_17.shape"
   ]
  },
  {
   "cell_type": "code",
   "execution_count": 375,
   "metadata": {},
   "outputs": [
    {
     "data": {
      "text/plain": [
       " Invoice Net Amt      121885\n",
       "Check/Payment Date         3\n",
       "Commitmt Item Name         3\n",
       "Dept. Descrptn             7\n",
       "Document Nbr          236119\n",
       "Fund Center           236119\n",
       "Invoice Net Amt       365496\n",
       "Vendor ID Number      236119\n",
       "Vendor Name                3\n",
       "dtype: int64"
      ]
     },
     "execution_count": 375,
     "metadata": {},
     "output_type": "execute_result"
    }
   ],
   "source": [
    "phx_ven_pay_17.isnull().sum()"
   ]
  },
  {
   "cell_type": "markdown",
   "metadata": {},
   "source": [
    "### To clean up:\n",
    "#### Drop:\n",
    "+ ~~'Invoice Net Amt' shows up twice, for each column that has a value, the other column has NaN, how can I stitch these together into one column?~~\n",
    "+ ~~'Vendor ID Number' isn't included in prior and later years, drop this~~\n",
    "+ ~~'Fund Center' not included in prior and later years, drop this~~\n",
    "+ ~~'Document Nbr' not included in prior and later years, drop this~~\n",
    "+ ~~remove three records that don't have Vendor Name~~\n",
    "\n",
    "#### Modify:\n",
    "+ change 'Check/Payment Date' to datetime from object"
   ]
  },
  {
   "cell_type": "code",
   "execution_count": 395,
   "metadata": {},
   "outputs": [
    {
     "data": {
      "text/plain": [
       "Invoice Net Amt       object\n",
       "Check/Payment Date    object\n",
       "Commitmt Item Name    object\n",
       "Dept. Descrptn        object\n",
       "Vendor Name           object\n",
       "dtype: object"
      ]
     },
     "execution_count": 395,
     "metadata": {},
     "output_type": "execute_result"
    }
   ],
   "source": [
    "phx_ven_pay_17.dtypes"
   ]
  },
  {
   "cell_type": "code",
   "execution_count": 377,
   "metadata": {},
   "outputs": [],
   "source": [
    "# combine two 'Invoice Net Amt' columns into one based on NaN values\n",
    "phx_ven_pay_17.iloc[:,0].fillna(phx_ven_pay_17.iloc[:,6], inplace=True)"
   ]
  },
  {
   "cell_type": "code",
   "execution_count": 378,
   "metadata": {},
   "outputs": [],
   "source": [
    "# delete second 'Invoice Net Amt' column since invoice amounts are now being held in first 'Invoice Net Amt' column\n",
    "phx_ven_pay_17.drop(phx_ven_pay_17.columns[6], axis=1, inplace=True)"
   ]
  },
  {
   "cell_type": "code",
   "execution_count": 381,
   "metadata": {},
   "outputs": [],
   "source": [
    "# drop unnecessary columns\n",
    "excess_columns = [\n",
    "                  'Document Nbr',\n",
    "                  'Fund Center',\n",
    "                  'Vendor ID Number']\n",
    "\n",
    "if set(excess_columns).issubset(phx_ven_pay_17.columns):\n",
    "   phx_ven_pay_17.drop([ \n",
    "                        'Document Nbr', \n",
    "                        'Fund Center', \n",
    "                        'Vendor ID Number'], \n",
    "                       axis=1, inplace=True)\n",
    "\n",
    "# columns in oldest data = Amount, Date, Department, Description, Vendor Display"
   ]
  },
  {
   "cell_type": "code",
   "execution_count": 383,
   "metadata": {},
   "outputs": [],
   "source": [
    "# remove handful of rows that have no vendor name\n",
    "phx_ven_pay_17.dropna(inplace=True)"
   ]
  },
  {
   "cell_type": "code",
   "execution_count": 385,
   "metadata": {},
   "outputs": [],
   "source": [
    "# remove leading and trailing spaces before and after 'Invoice Net Amt' column label\n",
    "phx_ven_pay_17.columns = phx_ven_pay_17.columns.str.strip()"
   ]
  },
  {
   "cell_type": "code",
   "execution_count": 386,
   "metadata": {},
   "outputs": [
    {
     "data": {
      "text/plain": [
       "(487373, 5)"
      ]
     },
     "execution_count": 386,
     "metadata": {},
     "output_type": "execute_result"
    }
   ],
   "source": [
    "phx_ven_pay_17.shape"
   ]
  },
  {
   "cell_type": "markdown",
   "metadata": {},
   "source": [
    "### 2016 Data"
   ]
  },
  {
   "cell_type": "code",
   "execution_count": 304,
   "metadata": {},
   "outputs": [],
   "source": [
    "files = [\n",
    "    'data/2016/citycheckbookjantojune2016.csv',\n",
    "    'data/2016/citycheckbookjulytodec2016.csv',\n",
    "]\n",
    "\n",
    "phx_ven_pay_16 = pd.concat([pd.read_csv(f) for f in files], sort=True)"
   ]
  },
  {
   "cell_type": "code",
   "execution_count": 396,
   "metadata": {},
   "outputs": [
    {
     "data": {
      "text/html": [
       "<div>\n",
       "<style scoped>\n",
       "    .dataframe tbody tr th:only-of-type {\n",
       "        vertical-align: middle;\n",
       "    }\n",
       "\n",
       "    .dataframe tbody tr th {\n",
       "        vertical-align: top;\n",
       "    }\n",
       "\n",
       "    .dataframe thead th {\n",
       "        text-align: right;\n",
       "    }\n",
       "</style>\n",
       "<table border=\"1\" class=\"dataframe\">\n",
       "  <thead>\n",
       "    <tr style=\"text-align: right;\">\n",
       "      <th></th>\n",
       "      <th>Invoice Net Amt</th>\n",
       "      <th>Check/Payment Date</th>\n",
       "      <th>Dept. Descrptn</th>\n",
       "      <th>Commitmt Item Name</th>\n",
       "      <th>Vendor Name</th>\n",
       "    </tr>\n",
       "  </thead>\n",
       "  <tbody>\n",
       "    <tr>\n",
       "      <th>0</th>\n",
       "      <td>$855</td>\n",
       "      <td>01-04-2016</td>\n",
       "      <td>Community &amp; Economic Development</td>\n",
       "      <td>Other Commodities</td>\n",
       "      <td>ABM PARKING SERVICES</td>\n",
       "    </tr>\n",
       "    <tr>\n",
       "      <th>1</th>\n",
       "      <td>$471</td>\n",
       "      <td>01-04-2016</td>\n",
       "      <td>Community &amp; Economic Development</td>\n",
       "      <td>Other Commodities</td>\n",
       "      <td>ABM PARKING SERVICES</td>\n",
       "    </tr>\n",
       "    <tr>\n",
       "      <th>2</th>\n",
       "      <td>$813</td>\n",
       "      <td>01-04-2016</td>\n",
       "      <td>Community &amp; Economic Development</td>\n",
       "      <td>Other Commodities</td>\n",
       "      <td>ABM PARKING SERVICES</td>\n",
       "    </tr>\n",
       "    <tr>\n",
       "      <th>3</th>\n",
       "      <td>$578.92</td>\n",
       "      <td>01-04-2016</td>\n",
       "      <td>Fire</td>\n",
       "      <td>Plumbing Services</td>\n",
       "      <td>ABOVE ALL PLUMBING SERVICES INC</td>\n",
       "    </tr>\n",
       "    <tr>\n",
       "      <th>4</th>\n",
       "      <td>$2,712.04</td>\n",
       "      <td>01-04-2016</td>\n",
       "      <td>Fire</td>\n",
       "      <td>Plumbing Services</td>\n",
       "      <td>ABOVE ALL PLUMBING SERVICES INC</td>\n",
       "    </tr>\n",
       "  </tbody>\n",
       "</table>\n",
       "</div>"
      ],
      "text/plain": [
       "  Invoice Net Amt Check/Payment Date                    Dept. Descrptn  \\\n",
       "0            $855         01-04-2016  Community & Economic Development   \n",
       "1            $471         01-04-2016  Community & Economic Development   \n",
       "2            $813         01-04-2016  Community & Economic Development   \n",
       "3         $578.92         01-04-2016                              Fire   \n",
       "4       $2,712.04         01-04-2016                              Fire   \n",
       "\n",
       "  Commitmt Item Name                      Vendor Name  \n",
       "0  Other Commodities             ABM PARKING SERVICES  \n",
       "1  Other Commodities             ABM PARKING SERVICES  \n",
       "2  Other Commodities             ABM PARKING SERVICES  \n",
       "3  Plumbing Services  ABOVE ALL PLUMBING SERVICES INC  \n",
       "4  Plumbing Services  ABOVE ALL PLUMBING SERVICES INC  "
      ]
     },
     "execution_count": 396,
     "metadata": {},
     "output_type": "execute_result"
    }
   ],
   "source": [
    "phx_ven_pay_16.head()"
   ]
  },
  {
   "cell_type": "code",
   "execution_count": 306,
   "metadata": {},
   "outputs": [
    {
     "data": {
      "text/plain": [
       "Amount             object\n",
       "Date               object\n",
       "Department         object\n",
       "Description        object\n",
       "G/L Description    object\n",
       "Vendor Display     object\n",
       "dtype: object"
      ]
     },
     "execution_count": 306,
     "metadata": {},
     "output_type": "execute_result"
    }
   ],
   "source": [
    "phx_ven_pay_16.dtypes"
   ]
  },
  {
   "cell_type": "code",
   "execution_count": 307,
   "metadata": {},
   "outputs": [],
   "source": [
    "# rename columns\n",
    "columns_to_rename = ['Department',\n",
    "                    'Description',\n",
    "                    'Amount',\n",
    "                    'Vendor Display',\n",
    "                    'Date']\n",
    "\n",
    "if set(columns_to_rename).issubset(phx_ven_pay_16.columns):\n",
    "   phx_ven_pay_16.rename(columns={'Department': 'Dept. Descrptn',\n",
    "                                  'Description': 'Commitmt Item Name',\n",
    "                                  'Amount': 'Invoice Net Amt',\n",
    "                                  'Vendor Display': 'Vendor Name',\n",
    "                                  'Date': 'Check/Payment Date'\n",
    "                                  }, inplace=True)"
   ]
  },
  {
   "cell_type": "code",
   "execution_count": 308,
   "metadata": {},
   "outputs": [],
   "source": [
    "# remove 'G/L Description' column\n",
    "if 'G/L Description' in phx_ven_pay_16.columns:\n",
    "    phx_ven_pay_16.drop('G/L Description', axis=1, inplace=True)"
   ]
  },
  {
   "cell_type": "code",
   "execution_count": 309,
   "metadata": {},
   "outputs": [
    {
     "data": {
      "text/plain": [
       "(533015, 5)"
      ]
     },
     "execution_count": 309,
     "metadata": {},
     "output_type": "execute_result"
    }
   ],
   "source": [
    "phx_ven_pay_16.shape"
   ]
  },
  {
   "cell_type": "markdown",
   "metadata": {},
   "source": [
    "### To clean up:\n",
    "+ 'Amount' column has dollar sign in front of it, must remove this in order to work with the values as numbers\n",
    "+ convert 'Date' to datetime from object and rename to 'Check/Payment Date' in order to be consistent with later years\n",
    "+ ~~change 'Description' to 'Dept. Descrptn' to be consistent with later years~~"
   ]
  },
  {
   "cell_type": "markdown",
   "metadata": {},
   "source": [
    "### 2015 Data"
   ]
  },
  {
   "cell_type": "code",
   "execution_count": 310,
   "metadata": {},
   "outputs": [],
   "source": [
    "files = [\n",
    "    'data/2015/citycheckbookjantojune2015.csv',\n",
    "    'data/2015/citycheckbookjulytodec2015.csv',\n",
    "]\n",
    "\n",
    "phx_ven_pay_15 = pd.concat([pd.read_csv(f) for f in files], sort=True)"
   ]
  },
  {
   "cell_type": "code",
   "execution_count": 397,
   "metadata": {},
   "outputs": [
    {
     "data": {
      "text/html": [
       "<div>\n",
       "<style scoped>\n",
       "    .dataframe tbody tr th:only-of-type {\n",
       "        vertical-align: middle;\n",
       "    }\n",
       "\n",
       "    .dataframe tbody tr th {\n",
       "        vertical-align: top;\n",
       "    }\n",
       "\n",
       "    .dataframe thead th {\n",
       "        text-align: right;\n",
       "    }\n",
       "</style>\n",
       "<table border=\"1\" class=\"dataframe\">\n",
       "  <thead>\n",
       "    <tr style=\"text-align: right;\">\n",
       "      <th></th>\n",
       "      <th>Invoice Net Amt</th>\n",
       "      <th>Check/Payment Date</th>\n",
       "      <th>Dept. Descrptn</th>\n",
       "      <th>Commitmt Item Name</th>\n",
       "      <th>Vendor Name</th>\n",
       "    </tr>\n",
       "  </thead>\n",
       "  <tbody>\n",
       "    <tr>\n",
       "      <th>0</th>\n",
       "      <td>$80</td>\n",
       "      <td>01-02-2015</td>\n",
       "      <td>Municipal Court</td>\n",
       "      <td>Interpreters/Transl</td>\n",
       "      <td>A FOREIGN LANGUAGE SERVICE CORP</td>\n",
       "    </tr>\n",
       "    <tr>\n",
       "      <th>1</th>\n",
       "      <td>$1,888.85</td>\n",
       "      <td>01-02-2015</td>\n",
       "      <td>Aviation</td>\n",
       "      <td>Small Tools/ Equip</td>\n",
       "      <td>A TO Z EQUIPMENT RENTALS</td>\n",
       "    </tr>\n",
       "    <tr>\n",
       "      <th>2</th>\n",
       "      <td>$22.46</td>\n",
       "      <td>01-02-2015</td>\n",
       "      <td>Aviation</td>\n",
       "      <td>Motor Vehicle Parts</td>\n",
       "      <td>A TO Z EQUIPMENT RENTALS</td>\n",
       "    </tr>\n",
       "    <tr>\n",
       "      <th>3</th>\n",
       "      <td>$1,973.6</td>\n",
       "      <td>01-02-2015</td>\n",
       "      <td>Aviation</td>\n",
       "      <td>Small Tools/ Equip</td>\n",
       "      <td>A TO Z EQUIPMENT RENTALS</td>\n",
       "    </tr>\n",
       "    <tr>\n",
       "      <th>4</th>\n",
       "      <td>$17.33</td>\n",
       "      <td>01-02-2015</td>\n",
       "      <td>Public Works</td>\n",
       "      <td>Inventories</td>\n",
       "      <td>A-Z LOCK PRODUCTS CO INC</td>\n",
       "    </tr>\n",
       "  </tbody>\n",
       "</table>\n",
       "</div>"
      ],
      "text/plain": [
       "  Invoice Net Amt Check/Payment Date   Dept. Descrptn   Commitmt Item Name  \\\n",
       "0             $80         01-02-2015  Municipal Court  Interpreters/Transl   \n",
       "1       $1,888.85         01-02-2015         Aviation   Small Tools/ Equip   \n",
       "2          $22.46         01-02-2015         Aviation  Motor Vehicle Parts   \n",
       "3        $1,973.6         01-02-2015         Aviation   Small Tools/ Equip   \n",
       "4          $17.33         01-02-2015     Public Works          Inventories   \n",
       "\n",
       "                       Vendor Name  \n",
       "0  A FOREIGN LANGUAGE SERVICE CORP  \n",
       "1         A TO Z EQUIPMENT RENTALS  \n",
       "2         A TO Z EQUIPMENT RENTALS  \n",
       "3         A TO Z EQUIPMENT RENTALS  \n",
       "4         A-Z LOCK PRODUCTS CO INC  "
      ]
     },
     "execution_count": 397,
     "metadata": {},
     "output_type": "execute_result"
    }
   ],
   "source": [
    "phx_ven_pay_15.head()"
   ]
  },
  {
   "cell_type": "markdown",
   "metadata": {},
   "source": [
    "### To clean up:\n",
    "\n",
    "+ change 'Description' to 'Dept. Descrptn' to be consistent with later years\n",
    "+ change 'Department' to 'Dept. Descrptn' to be consistent with later years\n",
    "\n",
    "+ convert 'Date' to datetime from object and rename to 'Check/Payment Date' in order to be consistent with later years"
   ]
  },
  {
   "cell_type": "code",
   "execution_count": 312,
   "metadata": {},
   "outputs": [],
   "source": [
    "# rename columns\n",
    "columns_to_rename = ['Department',\n",
    "                    'Description',\n",
    "                    'Amount',\n",
    "                    'Vendor Display',\n",
    "                    'Date']\n",
    "\n",
    "if set(columns_to_rename).issubset(phx_ven_pay_15.columns):\n",
    "   phx_ven_pay_15.rename(columns={'Department': 'Dept. Descrptn',\n",
    "                                  'Description': 'Commitmt Item Name',\n",
    "                                  'Amount': 'Invoice Net Amt',\n",
    "                                  'Vendor Display': 'Vendor Name',\n",
    "                                  'Date': 'Check/Payment Date'\n",
    "                                  }, inplace=True)"
   ]
  },
  {
   "cell_type": "code",
   "execution_count": 313,
   "metadata": {},
   "outputs": [
    {
     "data": {
      "text/plain": [
       "Invoice Net Amt       object\n",
       "Check/Payment Date    object\n",
       "Dept. Descrptn        object\n",
       "Commitmt Item Name    object\n",
       "Vendor Name           object\n",
       "dtype: object"
      ]
     },
     "execution_count": 313,
     "metadata": {},
     "output_type": "execute_result"
    }
   ],
   "source": [
    "phx_ven_pay_15.dtypes"
   ]
  },
  {
   "cell_type": "code",
   "execution_count": 314,
   "metadata": {},
   "outputs": [
    {
     "data": {
      "text/plain": [
       "(333440, 5)"
      ]
     },
     "execution_count": 314,
     "metadata": {},
     "output_type": "execute_result"
    }
   ],
   "source": [
    "phx_ven_pay_15.shape"
   ]
  },
  {
   "cell_type": "markdown",
   "metadata": {},
   "source": [
    "### 2014 Data"
   ]
  },
  {
   "cell_type": "code",
   "execution_count": 315,
   "metadata": {},
   "outputs": [],
   "source": [
    "files = [\n",
    "    'data/2014/citycheckbookjantojune2014.csv',\n",
    "    'data/2014/citycheckbookjulytodec2014.csv',\n",
    "]\n",
    "\n",
    "phx_ven_pay_14 = pd.concat([pd.read_csv(f) for f in files], sort=True)"
   ]
  },
  {
   "cell_type": "code",
   "execution_count": 398,
   "metadata": {},
   "outputs": [
    {
     "data": {
      "text/html": [
       "<div>\n",
       "<style scoped>\n",
       "    .dataframe tbody tr th:only-of-type {\n",
       "        vertical-align: middle;\n",
       "    }\n",
       "\n",
       "    .dataframe tbody tr th {\n",
       "        vertical-align: top;\n",
       "    }\n",
       "\n",
       "    .dataframe thead th {\n",
       "        text-align: right;\n",
       "    }\n",
       "</style>\n",
       "<table border=\"1\" class=\"dataframe\">\n",
       "  <thead>\n",
       "    <tr style=\"text-align: right;\">\n",
       "      <th></th>\n",
       "      <th>Invoice Net Amt</th>\n",
       "      <th>Check/Payment Date</th>\n",
       "      <th>Dept. Descrptn</th>\n",
       "      <th>Commitmt Item Name</th>\n",
       "      <th>Vendor Name</th>\n",
       "    </tr>\n",
       "  </thead>\n",
       "  <tbody>\n",
       "    <tr>\n",
       "      <th>0</th>\n",
       "      <td>-$34.78</td>\n",
       "      <td>01-02-2014</td>\n",
       "      <td>Street Transportation</td>\n",
       "      <td>Inventories</td>\n",
       "      <td>3M COMPANY</td>\n",
       "    </tr>\n",
       "    <tr>\n",
       "      <th>1</th>\n",
       "      <td>-$69.55</td>\n",
       "      <td>01-02-2014</td>\n",
       "      <td>Street Transportation</td>\n",
       "      <td>Inventories</td>\n",
       "      <td>3M COMPANY</td>\n",
       "    </tr>\n",
       "    <tr>\n",
       "      <th>2</th>\n",
       "      <td>-$77</td>\n",
       "      <td>01-02-2014</td>\n",
       "      <td>Street Transportation</td>\n",
       "      <td>Inventories</td>\n",
       "      <td>3M COMPANY</td>\n",
       "    </tr>\n",
       "    <tr>\n",
       "      <th>3</th>\n",
       "      <td>$0.01</td>\n",
       "      <td>01-02-2014</td>\n",
       "      <td>Public Works</td>\n",
       "      <td>Inventories</td>\n",
       "      <td>AGS SAFETY &amp; SUPPLY</td>\n",
       "    </tr>\n",
       "    <tr>\n",
       "      <th>4</th>\n",
       "      <td>-$0.79</td>\n",
       "      <td>01-02-2014</td>\n",
       "      <td>Police</td>\n",
       "      <td>Inventories</td>\n",
       "      <td>AMERICAN EUROCOPTER CORPORATION</td>\n",
       "    </tr>\n",
       "  </tbody>\n",
       "</table>\n",
       "</div>"
      ],
      "text/plain": [
       "  Invoice Net Amt Check/Payment Date         Dept. Descrptn  \\\n",
       "0         -$34.78         01-02-2014  Street Transportation   \n",
       "1         -$69.55         01-02-2014  Street Transportation   \n",
       "2            -$77         01-02-2014  Street Transportation   \n",
       "3           $0.01         01-02-2014           Public Works   \n",
       "4          -$0.79         01-02-2014                 Police   \n",
       "\n",
       "  Commitmt Item Name                      Vendor Name  \n",
       "0        Inventories                       3M COMPANY  \n",
       "1        Inventories                       3M COMPANY  \n",
       "2        Inventories                       3M COMPANY  \n",
       "3        Inventories              AGS SAFETY & SUPPLY  \n",
       "4        Inventories  AMERICAN EUROCOPTER CORPORATION  "
      ]
     },
     "execution_count": 398,
     "metadata": {},
     "output_type": "execute_result"
    }
   ],
   "source": [
    "phx_ven_pay_14.head()"
   ]
  },
  {
   "cell_type": "markdown",
   "metadata": {},
   "source": [
    "### To clean up:\n",
    "\n",
    "+ change 'Description' to 'Dept. Descrptn' to be consistent with later years\n",
    "+ convert 'Date' to datetime from object and rename to 'Check/Payment Date' in order to be consistent with later years\n"
   ]
  },
  {
   "cell_type": "code",
   "execution_count": 317,
   "metadata": {},
   "outputs": [],
   "source": [
    "# rename columns\n",
    "columns_to_rename = ['Department',\n",
    "                    'Description',\n",
    "                    'Amount',\n",
    "                    'Vendor Display',\n",
    "                    'Date']\n",
    "\n",
    "if set(columns_to_rename).issubset(phx_ven_pay_14.columns):\n",
    "   phx_ven_pay_14.rename(columns={'Department': 'Dept. Descrptn',\n",
    "                                  'Description': 'Commitmt Item Name',\n",
    "                                  'Amount': 'Invoice Net Amt',\n",
    "                                  'Vendor Display': 'Vendor Name',\n",
    "                                  'Date': 'Check/Payment Date'\n",
    "                                  }, inplace=True)"
   ]
  },
  {
   "cell_type": "code",
   "execution_count": 318,
   "metadata": {},
   "outputs": [
    {
     "data": {
      "text/plain": [
       "Invoice Net Amt       object\n",
       "Check/Payment Date    object\n",
       "Dept. Descrptn        object\n",
       "Commitmt Item Name    object\n",
       "Vendor Name           object\n",
       "dtype: object"
      ]
     },
     "execution_count": 318,
     "metadata": {},
     "output_type": "execute_result"
    }
   ],
   "source": [
    "phx_ven_pay_14.dtypes"
   ]
  },
  {
   "cell_type": "code",
   "execution_count": 319,
   "metadata": {},
   "outputs": [
    {
     "data": {
      "text/plain": [
       "(307110, 5)"
      ]
     },
     "execution_count": 319,
     "metadata": {},
     "output_type": "execute_result"
    }
   ],
   "source": [
    "phx_ven_pay_14.shape"
   ]
  },
  {
   "cell_type": "markdown",
   "metadata": {},
   "source": [
    "## Join Years 2014 - 2018 Together"
   ]
  },
  {
   "cell_type": "code",
   "execution_count": 440,
   "metadata": {},
   "outputs": [],
   "source": [
    "phx_ven_pay_14to18 = pd.concat([phx_ven_pay_14,\n",
    "                               phx_ven_pay_15,\n",
    "                               phx_ven_pay_16,\n",
    "                               phx_ven_pay_17,\n",
    "                               phx_ven_pay_18],\n",
    "                              sort=False)"
   ]
  },
  {
   "cell_type": "code",
   "execution_count": 441,
   "metadata": {},
   "outputs": [
    {
     "data": {
      "text/plain": [
       "(2215464, 5)"
      ]
     },
     "execution_count": 441,
     "metadata": {},
     "output_type": "execute_result"
    }
   ],
   "source": [
    "phx_ven_pay_14to18.shape"
   ]
  },
  {
   "cell_type": "code",
   "execution_count": 442,
   "metadata": {},
   "outputs": [
    {
     "data": {
      "text/plain": [
       "(3, 5)"
      ]
     },
     "execution_count": 442,
     "metadata": {},
     "output_type": "execute_result"
    }
   ],
   "source": [
    "phx_ven_pay_14to18[phx_ven_pay_14to18['Invoice Net Amt'].apply(lambda x: str(x) == 'nan')].shape\n"
   ]
  },
  {
   "cell_type": "code",
   "execution_count": 445,
   "metadata": {},
   "outputs": [
    {
     "data": {
      "text/html": [
       "<div>\n",
       "<style scoped>\n",
       "    .dataframe tbody tr th:only-of-type {\n",
       "        vertical-align: middle;\n",
       "    }\n",
       "\n",
       "    .dataframe tbody tr th {\n",
       "        vertical-align: top;\n",
       "    }\n",
       "\n",
       "    .dataframe thead th {\n",
       "        text-align: right;\n",
       "    }\n",
       "</style>\n",
       "<table border=\"1\" class=\"dataframe\">\n",
       "  <thead>\n",
       "    <tr style=\"text-align: right;\">\n",
       "      <th></th>\n",
       "      <th>Invoice Net Amt</th>\n",
       "      <th>Check/Payment Date</th>\n",
       "      <th>Dept. Descrptn</th>\n",
       "      <th>Commitmt Item Name</th>\n",
       "      <th>Vendor Name</th>\n",
       "    </tr>\n",
       "  </thead>\n",
       "  <tbody>\n",
       "    <tr>\n",
       "      <th>40668</th>\n",
       "      <td>NaN</td>\n",
       "      <td>NaN</td>\n",
       "      <td>NaN</td>\n",
       "      <td>NaN</td>\n",
       "      <td>NaN</td>\n",
       "    </tr>\n",
       "    <tr>\n",
       "      <th>36771</th>\n",
       "      <td>NaN</td>\n",
       "      <td>NaN</td>\n",
       "      <td>NaN</td>\n",
       "      <td>NaN</td>\n",
       "      <td>NaN</td>\n",
       "    </tr>\n",
       "    <tr>\n",
       "      <th>36771</th>\n",
       "      <td>NaN</td>\n",
       "      <td>NaN</td>\n",
       "      <td>NaN</td>\n",
       "      <td>NaN</td>\n",
       "      <td>NaN</td>\n",
       "    </tr>\n",
       "  </tbody>\n",
       "</table>\n",
       "</div>"
      ],
      "text/plain": [
       "      Invoice Net Amt Check/Payment Date Dept. Descrptn Commitmt Item Name  \\\n",
       "40668             NaN                NaN            NaN                NaN   \n",
       "36771             NaN                NaN            NaN                NaN   \n",
       "36771             NaN                NaN            NaN                NaN   \n",
       "\n",
       "      Vendor Name  \n",
       "40668         NaN  \n",
       "36771         NaN  \n",
       "36771         NaN  "
      ]
     },
     "execution_count": 445,
     "metadata": {},
     "output_type": "execute_result"
    }
   ],
   "source": [
    "phx_ven_pay_14to18[phx_ven_pay_14to18['Invoice Net Amt'].apply(lambda x: str(x) == 'nan')].head()"
   ]
  },
  {
   "cell_type": "code",
   "execution_count": 444,
   "metadata": {},
   "outputs": [
    {
     "name": "stderr",
     "output_type": "stream",
     "text": [
      "C:\\Users\\mrkjh\\Anaconda3\\lib\\site-packages\\ipykernel_launcher.py:1: SettingWithCopyWarning: \n",
      "A value is trying to be set on a copy of a slice from a DataFrame\n",
      "\n",
      "See the caveats in the documentation: http://pandas.pydata.org/pandas-docs/stable/indexing.html#indexing-view-versus-copy\n",
      "  \"\"\"Entry point for launching an IPython kernel.\n"
     ]
    }
   ],
   "source": [
    "phx_ven_pay_14to18[phx_ven_pay_14to18['Invoice Net Amt'].apply(lambda x: str(x) == 'nan')].dropna(inplace=True)"
   ]
  },
  {
   "cell_type": "code",
   "execution_count": 451,
   "metadata": {},
   "outputs": [
    {
     "data": {
      "text/html": [
       "<div>\n",
       "<style scoped>\n",
       "    .dataframe tbody tr th:only-of-type {\n",
       "        vertical-align: middle;\n",
       "    }\n",
       "\n",
       "    .dataframe tbody tr th {\n",
       "        vertical-align: top;\n",
       "    }\n",
       "\n",
       "    .dataframe thead th {\n",
       "        text-align: right;\n",
       "    }\n",
       "</style>\n",
       "<table border=\"1\" class=\"dataframe\">\n",
       "  <thead>\n",
       "    <tr style=\"text-align: right;\">\n",
       "      <th></th>\n",
       "      <th>Invoice Net Amt</th>\n",
       "      <th>Check/Payment Date</th>\n",
       "      <th>Dept. Descrptn</th>\n",
       "      <th>Commitmt Item Name</th>\n",
       "      <th>Vendor Name</th>\n",
       "    </tr>\n",
       "  </thead>\n",
       "  <tbody>\n",
       "    <tr>\n",
       "      <th>0</th>\n",
       "      <td>NaN</td>\n",
       "      <td>12/13/2017</td>\n",
       "      <td>Public Works</td>\n",
       "      <td>Inventories-Offline</td>\n",
       "      <td>1 STOP ELECTRONICS CENTER INC</td>\n",
       "    </tr>\n",
       "    <tr>\n",
       "      <th>1</th>\n",
       "      <td>NaN</td>\n",
       "      <td>12/29/2017</td>\n",
       "      <td>Planning and Development</td>\n",
       "      <td>Com Software&lt;Cap Lmt</td>\n",
       "      <td>20-20 TECHNOLOGIES</td>\n",
       "    </tr>\n",
       "    <tr>\n",
       "      <th>2</th>\n",
       "      <td>NaN</td>\n",
       "      <td>12/29/2017</td>\n",
       "      <td>Planning and Development</td>\n",
       "      <td>Com Software&lt;Cap Lmt</td>\n",
       "      <td>20-20 TECHNOLOGIES</td>\n",
       "    </tr>\n",
       "    <tr>\n",
       "      <th>3</th>\n",
       "      <td>NaN</td>\n",
       "      <td>12/29/2017</td>\n",
       "      <td>Planning and Development</td>\n",
       "      <td>Com Software&lt;Cap Lmt</td>\n",
       "      <td>20-20 TECHNOLOGIES</td>\n",
       "    </tr>\n",
       "    <tr>\n",
       "      <th>4</th>\n",
       "      <td>NaN</td>\n",
       "      <td>12/29/2017</td>\n",
       "      <td>Planning and Development</td>\n",
       "      <td>Com Software&lt;Cap Lmt</td>\n",
       "      <td>20-20 TECHNOLOGIES</td>\n",
       "    </tr>\n",
       "    <tr>\n",
       "      <th>5</th>\n",
       "      <td>NaN</td>\n",
       "      <td>12/29/2017</td>\n",
       "      <td>Planning and Development</td>\n",
       "      <td>Oth Frght/Mvng/Strge</td>\n",
       "      <td>20-20 TECHNOLOGIES</td>\n",
       "    </tr>\n",
       "    <tr>\n",
       "      <th>6</th>\n",
       "      <td>NaN</td>\n",
       "      <td>12/29/2017</td>\n",
       "      <td>Planning and Development</td>\n",
       "      <td>Oth Frght/Mvng/Strge</td>\n",
       "      <td>20-20 TECHNOLOGIES</td>\n",
       "    </tr>\n",
       "    <tr>\n",
       "      <th>7</th>\n",
       "      <td>NaN</td>\n",
       "      <td>12/6/2017</td>\n",
       "      <td>Police</td>\n",
       "      <td>Comp Software Maint</td>\n",
       "      <td>3M COMPANY</td>\n",
       "    </tr>\n",
       "    <tr>\n",
       "      <th>8</th>\n",
       "      <td>NaN</td>\n",
       "      <td>12/6/2017</td>\n",
       "      <td>Police</td>\n",
       "      <td>Comp Software Maint</td>\n",
       "      <td>3M COMPANY</td>\n",
       "    </tr>\n",
       "    <tr>\n",
       "      <th>9</th>\n",
       "      <td>NaN</td>\n",
       "      <td>12/13/2017</td>\n",
       "      <td>Aviation</td>\n",
       "      <td>Interpreters/Transl</td>\n",
       "      <td>911 INTERPRETERS INC</td>\n",
       "    </tr>\n",
       "    <tr>\n",
       "      <th>10</th>\n",
       "      <td>NaN</td>\n",
       "      <td>12/18/2017</td>\n",
       "      <td>Law</td>\n",
       "      <td>Interpreters/Transl</td>\n",
       "      <td>911 INTERPRETERS INC</td>\n",
       "    </tr>\n",
       "    <tr>\n",
       "      <th>11</th>\n",
       "      <td>NaN</td>\n",
       "      <td>12/21/2017</td>\n",
       "      <td>Human Services</td>\n",
       "      <td>Interpreters/Transl</td>\n",
       "      <td>911 INTERPRETERS INC</td>\n",
       "    </tr>\n",
       "    <tr>\n",
       "      <th>12</th>\n",
       "      <td>NaN</td>\n",
       "      <td>12/13/2017</td>\n",
       "      <td>Housing</td>\n",
       "      <td>Painting Services</td>\n",
       "      <td>A &amp; H PAINTING</td>\n",
       "    </tr>\n",
       "    <tr>\n",
       "      <th>13</th>\n",
       "      <td>NaN</td>\n",
       "      <td>12/13/2017</td>\n",
       "      <td>Housing</td>\n",
       "      <td>Painting Services</td>\n",
       "      <td>A &amp; H PAINTING</td>\n",
       "    </tr>\n",
       "    <tr>\n",
       "      <th>14</th>\n",
       "      <td>NaN</td>\n",
       "      <td>12/13/2017</td>\n",
       "      <td>Housing</td>\n",
       "      <td>Painting Services</td>\n",
       "      <td>A &amp; H PAINTING</td>\n",
       "    </tr>\n",
       "    <tr>\n",
       "      <th>15</th>\n",
       "      <td>NaN</td>\n",
       "      <td>12/13/2017</td>\n",
       "      <td>Housing</td>\n",
       "      <td>Painting Services</td>\n",
       "      <td>A &amp; H PAINTING</td>\n",
       "    </tr>\n",
       "    <tr>\n",
       "      <th>16</th>\n",
       "      <td>NaN</td>\n",
       "      <td>12/13/2017</td>\n",
       "      <td>Housing</td>\n",
       "      <td>Painting Services</td>\n",
       "      <td>A &amp; H PAINTING</td>\n",
       "    </tr>\n",
       "    <tr>\n",
       "      <th>17</th>\n",
       "      <td>NaN</td>\n",
       "      <td>12/13/2017</td>\n",
       "      <td>Housing</td>\n",
       "      <td>Painting Services</td>\n",
       "      <td>A &amp; H PAINTING</td>\n",
       "    </tr>\n",
       "    <tr>\n",
       "      <th>18</th>\n",
       "      <td>NaN</td>\n",
       "      <td>12/13/2017</td>\n",
       "      <td>Housing</td>\n",
       "      <td>Painting Services</td>\n",
       "      <td>A &amp; H PAINTING</td>\n",
       "    </tr>\n",
       "    <tr>\n",
       "      <th>19</th>\n",
       "      <td>NaN</td>\n",
       "      <td>12/13/2017</td>\n",
       "      <td>Housing</td>\n",
       "      <td>Painting Services</td>\n",
       "      <td>A &amp; H PAINTING</td>\n",
       "    </tr>\n",
       "  </tbody>\n",
       "</table>\n",
       "</div>"
      ],
      "text/plain": [
       "    Invoice Net Amt Check/Payment Date            Dept. Descrptn  \\\n",
       "0               NaN         12/13/2017              Public Works   \n",
       "1               NaN         12/29/2017  Planning and Development   \n",
       "2               NaN         12/29/2017  Planning and Development   \n",
       "3               NaN         12/29/2017  Planning and Development   \n",
       "4               NaN         12/29/2017  Planning and Development   \n",
       "5               NaN         12/29/2017  Planning and Development   \n",
       "6               NaN         12/29/2017  Planning and Development   \n",
       "7               NaN          12/6/2017                    Police   \n",
       "8               NaN          12/6/2017                    Police   \n",
       "9               NaN         12/13/2017                  Aviation   \n",
       "10              NaN         12/18/2017                       Law   \n",
       "11              NaN         12/21/2017            Human Services   \n",
       "12              NaN         12/13/2017                   Housing   \n",
       "13              NaN         12/13/2017                   Housing   \n",
       "14              NaN         12/13/2017                   Housing   \n",
       "15              NaN         12/13/2017                   Housing   \n",
       "16              NaN         12/13/2017                   Housing   \n",
       "17              NaN         12/13/2017                   Housing   \n",
       "18              NaN         12/13/2017                   Housing   \n",
       "19              NaN         12/13/2017                   Housing   \n",
       "\n",
       "      Commitmt Item Name                    Vendor Name  \n",
       "0    Inventories-Offline  1 STOP ELECTRONICS CENTER INC  \n",
       "1   Com Software<Cap Lmt             20-20 TECHNOLOGIES  \n",
       "2   Com Software<Cap Lmt             20-20 TECHNOLOGIES  \n",
       "3   Com Software<Cap Lmt             20-20 TECHNOLOGIES  \n",
       "4   Com Software<Cap Lmt             20-20 TECHNOLOGIES  \n",
       "5   Oth Frght/Mvng/Strge             20-20 TECHNOLOGIES  \n",
       "6   Oth Frght/Mvng/Strge             20-20 TECHNOLOGIES  \n",
       "7    Comp Software Maint                     3M COMPANY  \n",
       "8    Comp Software Maint                     3M COMPANY  \n",
       "9    Interpreters/Transl           911 INTERPRETERS INC  \n",
       "10   Interpreters/Transl           911 INTERPRETERS INC  \n",
       "11   Interpreters/Transl           911 INTERPRETERS INC  \n",
       "12     Painting Services                 A & H PAINTING  \n",
       "13     Painting Services                 A & H PAINTING  \n",
       "14     Painting Services                 A & H PAINTING  \n",
       "15     Painting Services                 A & H PAINTING  \n",
       "16     Painting Services                 A & H PAINTING  \n",
       "17     Painting Services                 A & H PAINTING  \n",
       "18     Painting Services                 A & H PAINTING  \n",
       "19     Painting Services                 A & H PAINTING  "
      ]
     },
     "execution_count": 451,
     "metadata": {},
     "output_type": "execute_result"
    }
   ],
   "source": [
    "phx_ven_pay_14to18[phx_ven_pay_14to18['Invoice Net Amt'].apply(lambda x: str(x) == 'nan')].head(20)"
   ]
  },
  {
   "cell_type": "markdown",
   "metadata": {},
   "source": [
    "### To clean up now that I have all the years together:\n",
    "\n",
    "#### Invoice Net Amt:  \n",
    " + Remove $ signs\n",
    " + Remove commas(,)\n",
    " \n",
    "#### Check/Payment Date:\n",
    " + Convert to Datetime format\n",
    "\n"
   ]
  },
  {
   "cell_type": "code",
   "execution_count": 447,
   "metadata": {},
   "outputs": [
    {
     "data": {
      "text/plain": [
       "Invoice Net Amt       float64\n",
       "Check/Payment Date     object\n",
       "Dept. Descrptn         object\n",
       "Commitmt Item Name     object\n",
       "Vendor Name            object\n",
       "dtype: object"
      ]
     },
     "execution_count": 447,
     "metadata": {},
     "output_type": "execute_result"
    }
   ],
   "source": [
    "phx_ven_pay_14to18.dtypes"
   ]
  },
  {
   "cell_type": "code",
   "execution_count": 449,
   "metadata": {},
   "outputs": [
    {
     "data": {
      "text/plain": [
       "Invoice Net Amt       289721\n",
       "Check/Payment Date         4\n",
       "Dept. Descrptn         20791\n",
       "Commitmt Item Name    243646\n",
       "Vendor Name                4\n",
       "dtype: int64"
      ]
     },
     "execution_count": 449,
     "metadata": {},
     "output_type": "execute_result"
    }
   ],
   "source": [
    "phx_ven_pay_14to18.isnull().sum()"
   ]
  },
  {
   "cell_type": "code",
   "execution_count": 416,
   "metadata": {},
   "outputs": [],
   "source": [
    "# drop rows with no Vendor Name\n",
    "# how do I drop from all columns based on an NaN in one column?\n",
    "phx_ven_pay_14to18.dropna(inplace=True)"
   ]
  },
  {
   "cell_type": "code",
   "execution_count": 425,
   "metadata": {},
   "outputs": [
    {
     "data": {
      "text/plain": [
       "(2215464, 5)"
      ]
     },
     "execution_count": 425,
     "metadata": {},
     "output_type": "execute_result"
    }
   ],
   "source": [
    "phx_ven_pay_14to18.shape"
   ]
  },
  {
   "cell_type": "code",
   "execution_count": 446,
   "metadata": {},
   "outputs": [],
   "source": [
    "# get the Invoice Net Amount from an object into a float64 format\n",
    "# first, had to convert to type string\n",
    "# phx_ven_pay_14to18.iloc[:,0] = phx_ven_pay_14to18.iloc[:,0].astype(str)\n",
    "\n",
    "# then, find/replace commas\n",
    "phx_ven_pay_14to18.iloc[:,0] = phx_ven_pay_14to18.iloc[:,0].str.replace(',','')\n",
    "phx_ven_pay_14to18.iloc[:,0] = phx_ven_pay_14to18.iloc[:,0].str.replace('$','')\n",
    "\n",
    "phx_ven_pay_14to18.iloc[:,0] = phx_ven_pay_14to18.iloc[:,0].str.replace('(','-')\n",
    "phx_ven_pay_14to18.iloc[:,0] = phx_ven_pay_14to18.iloc[:,0].str.replace(')','')\n",
    "\n",
    "\n",
    "\n",
    "# three vendor payments had NaN values, had to drop these before using to_numeric function below\n",
    "# phx_ven_pay_18.dropna(inplace=True)\n",
    "\n",
    "# finally, used to_numeric function\n",
    "# I need to figure out how to set this to accept exceptions\n",
    "phx_ven_pay_14to18.iloc[:,0] = pd.to_numeric(phx_ven_pay_14to18.iloc[:,0])"
   ]
  },
  {
   "cell_type": "code",
   "execution_count": 448,
   "metadata": {},
   "outputs": [
    {
     "data": {
      "text/html": [
       "<div>\n",
       "<style scoped>\n",
       "    .dataframe tbody tr th:only-of-type {\n",
       "        vertical-align: middle;\n",
       "    }\n",
       "\n",
       "    .dataframe tbody tr th {\n",
       "        vertical-align: top;\n",
       "    }\n",
       "\n",
       "    .dataframe thead th {\n",
       "        text-align: right;\n",
       "    }\n",
       "</style>\n",
       "<table border=\"1\" class=\"dataframe\">\n",
       "  <thead>\n",
       "    <tr style=\"text-align: right;\">\n",
       "      <th></th>\n",
       "      <th>Invoice Net Amt</th>\n",
       "      <th>Check/Payment Date</th>\n",
       "      <th>Dept. Descrptn</th>\n",
       "      <th>Commitmt Item Name</th>\n",
       "      <th>Vendor Name</th>\n",
       "    </tr>\n",
       "  </thead>\n",
       "  <tbody>\n",
       "    <tr>\n",
       "      <th>0</th>\n",
       "      <td>-34.78</td>\n",
       "      <td>01-02-2014</td>\n",
       "      <td>Street Transportation</td>\n",
       "      <td>Inventories</td>\n",
       "      <td>3M COMPANY</td>\n",
       "    </tr>\n",
       "    <tr>\n",
       "      <th>1</th>\n",
       "      <td>-69.55</td>\n",
       "      <td>01-02-2014</td>\n",
       "      <td>Street Transportation</td>\n",
       "      <td>Inventories</td>\n",
       "      <td>3M COMPANY</td>\n",
       "    </tr>\n",
       "    <tr>\n",
       "      <th>2</th>\n",
       "      <td>-77.00</td>\n",
       "      <td>01-02-2014</td>\n",
       "      <td>Street Transportation</td>\n",
       "      <td>Inventories</td>\n",
       "      <td>3M COMPANY</td>\n",
       "    </tr>\n",
       "    <tr>\n",
       "      <th>3</th>\n",
       "      <td>0.01</td>\n",
       "      <td>01-02-2014</td>\n",
       "      <td>Public Works</td>\n",
       "      <td>Inventories</td>\n",
       "      <td>AGS SAFETY &amp; SUPPLY</td>\n",
       "    </tr>\n",
       "    <tr>\n",
       "      <th>4</th>\n",
       "      <td>-0.79</td>\n",
       "      <td>01-02-2014</td>\n",
       "      <td>Police</td>\n",
       "      <td>Inventories</td>\n",
       "      <td>AMERICAN EUROCOPTER CORPORATION</td>\n",
       "    </tr>\n",
       "  </tbody>\n",
       "</table>\n",
       "</div>"
      ],
      "text/plain": [
       "   Invoice Net Amt Check/Payment Date         Dept. Descrptn  \\\n",
       "0           -34.78         01-02-2014  Street Transportation   \n",
       "1           -69.55         01-02-2014  Street Transportation   \n",
       "2           -77.00         01-02-2014  Street Transportation   \n",
       "3             0.01         01-02-2014           Public Works   \n",
       "4            -0.79         01-02-2014                 Police   \n",
       "\n",
       "  Commitmt Item Name                      Vendor Name  \n",
       "0        Inventories                       3M COMPANY  \n",
       "1        Inventories                       3M COMPANY  \n",
       "2        Inventories                       3M COMPANY  \n",
       "3        Inventories              AGS SAFETY & SUPPLY  \n",
       "4        Inventories  AMERICAN EUROCOPTER CORPORATION  "
      ]
     },
     "execution_count": 448,
     "metadata": {},
     "output_type": "execute_result"
    }
   ],
   "source": [
    "phx_ven_pay_14to18.head()"
   ]
  }
 ],
 "metadata": {
  "kernelspec": {
   "display_name": "Python 3",
   "language": "python",
   "name": "python3"
  },
  "language_info": {
   "codemirror_mode": {
    "name": "ipython",
    "version": 3
   },
   "file_extension": ".py",
   "mimetype": "text/x-python",
   "name": "python",
   "nbconvert_exporter": "python",
   "pygments_lexer": "ipython3",
   "version": "3.7.1"
  }
 },
 "nbformat": 4,
 "nbformat_minor": 2
}
