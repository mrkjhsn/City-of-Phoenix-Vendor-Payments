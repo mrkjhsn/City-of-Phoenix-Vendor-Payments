{
 "cells": [
  {
   "cell_type": "markdown",
   "metadata": {},
   "source": [
    "### Vendor payments made by the City of Phoenix\n",
    "\n",
    "#### The City of Phoenix publishes vendor payment information from 2014 onward. I'm interested in understanding how categories of spending change from year to year.  Each year has about half a million vendor payments, this is a fun opportunity for me to work with data at a larger scale and w"
   ]
  },
  {
   "cell_type": "code",
   "execution_count": 8,
   "metadata": {},
   "outputs": [],
   "source": [
    "import pandas as pd\n",
    "import numpy as np\n",
    "import matplotlib.pyplot as plt\n",
    "import matplotlib.ticker\n",
    "import seaborn as sns\n",
    "import datetime\n",
    "\n",
    "\n",
    "files = [\n",
    "    'data/2017/january-june-2017.csv',\n",
    "    'data/2017/july-september-2017.csv',\n",
    "    'data/2017/november-2017.csv',\n",
    "    'data/2017/october-2017.csv',\n",
    "    'data/2017/december-2017.csv',\n",
    "]\n",
    "\n",
    "phx_ven_pay_17 = pd.concat([pd.read_csv(f) for f in files], sort=True)"
   ]
  },
  {
   "cell_type": "code",
   "execution_count": 9,
   "metadata": {},
   "outputs": [
    {
     "data": {
      "text/plain": [
       "(487380, 9)"
      ]
     },
     "execution_count": 9,
     "metadata": {},
     "output_type": "execute_result"
    }
   ],
   "source": [
    "phx_ven_pay_17.shape"
   ]
  }
 ],
 "metadata": {
  "kernelspec": {
   "display_name": "Python 3",
   "language": "python",
   "name": "python3"
  },
  "language_info": {
   "codemirror_mode": {
    "name": "ipython",
    "version": 3
   },
   "file_extension": ".py",
   "mimetype": "text/x-python",
   "name": "python",
   "nbconvert_exporter": "python",
   "pygments_lexer": "ipython3",
   "version": "3.7.1"
  }
 },
 "nbformat": 4,
 "nbformat_minor": 2
}
