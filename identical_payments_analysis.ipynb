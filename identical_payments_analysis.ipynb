{
 "cells": [
  {
   "cell_type": "markdown",
   "metadata": {},
   "source": [
    "### Examining payments (within the vendor payments dataset) of the same amount, to the same vendor, on the same day, with the same committment name, as well as the same department description."
   ]
  },
  {
   "cell_type": "code",
   "execution_count": 70,
   "metadata": {},
   "outputs": [],
   "source": [
    "import glob\n",
    "import pandas as pd\n",
    "import numpy as np\n",
    "import matplotlib.pyplot as plt\n",
    "%matplotlib inline\n",
    "import matplotlib.ticker as ticker\n",
    "import seaborn as sns\n",
    "import datetime\n",
    "import warnings\n",
    "# warnings.simplefilter(action='ignore', category=FutureWarning)\n"
   ]
  },
  {
   "cell_type": "code",
   "execution_count": null,
   "metadata": {},
   "outputs": [],
   "source": [
    "# plt.rcParams.update(plt.rcParamsDefault)"
   ]
  },
  {
   "cell_type": "code",
   "execution_count": null,
   "metadata": {},
   "outputs": [],
   "source": [
    "# import csv data\n",
    "files = glob.glob('data/cleaned_data/*.csv')\n",
    "\n",
    "payments = pd.concat([pd.read_csv(f, dtype={'commitmt_item_name': 'str', 'dept._descrptn': 'str', 'vendor_name': 'str'}) \\\n",
    "                      for f in files], sort=True)"
   ]
  },
  {
   "cell_type": "code",
   "execution_count": null,
   "metadata": {},
   "outputs": [],
   "source": [
    "# examine data types that have been imported\n",
    "payments.dtypes"
   ]
  },
  {
   "cell_type": "code",
   "execution_count": null,
   "metadata": {},
   "outputs": [],
   "source": [
    "payments.head()"
   ]
  },
  {
   "cell_type": "code",
   "execution_count": null,
   "metadata": {},
   "outputs": [],
   "source": [
    "# convert check/payment date into datetime, it was imported as an object\n",
    "payments.iloc[:,0] = pd.to_datetime(payments.iloc[:,0])"
   ]
  },
  {
   "cell_type": "code",
   "execution_count": null,
   "metadata": {},
   "outputs": [],
   "source": [
    "# examine date range of data\n",
    "print(payments.iloc[:,0].min())\n",
    "print(payments.iloc[:,0].max())"
   ]
  },
  {
   "cell_type": "code",
   "execution_count": null,
   "metadata": {},
   "outputs": [],
   "source": [
    "# create Day_of_Year column to perform time series analysis over the year\n",
    "payments['day_of_year'] = payments['check/payment_date'].dt.dayofyear\n",
    "\n",
    "# create Year column to perform annual time series analysis\n",
    "payments['year'] = payments['check/payment_date'].dt.year\n",
    "\n",
    "# create Year/Month column\n",
    "payments['year_month'] = payments['check/payment_date'].apply(lambda x: str(x.year) + '.' + str(x.month).zfill(2))"
   ]
  },
  {
   "cell_type": "code",
   "execution_count": null,
   "metadata": {},
   "outputs": [],
   "source": [
    "payments.head()"
   ]
  },
  {
   "cell_type": "markdown",
   "metadata": {},
   "source": [
    "### Find identical payments that are larger then 5 dollars in amount, and also smaller than 1,000 dollars.  My reasoning being if fraud is take place, it probably is within this range.  Amounts of greater than 1000 dollars often require many levels of approval."
   ]
  },
  {
   "cell_type": "code",
   "execution_count": null,
   "metadata": {},
   "outputs": [],
   "source": [
    "# exclude payments of less than $5\n",
    "# find vendors that have the highest number of identical payments\n",
    "identical_pay_group = payments[payments['invoice_net_amt'] > 5].groupby(['check/payment_date',\n",
    "     'commitmt_item_name',\n",
    "     'dept._descrptn',\n",
    "     'invoice_net_amt',\n",
    "     'vendor_name']).size().reset_index()"
   ]
  },
  {
   "cell_type": "code",
   "execution_count": null,
   "metadata": {},
   "outputs": [],
   "source": [
    "# how many vendors have more than 20 payments of the same amount on the same day?\n",
    "# payment amounts are less than $1,000 (a few extreme outliers were proving troublesome)\n",
    "identical_pay_group[(identical_pay_group[0] > 20) & (identical_pay_group['invoice_net_amt'] < 1000)].shape"
   ]
  },
  {
   "cell_type": "code",
   "execution_count": null,
   "metadata": {},
   "outputs": [],
   "source": [
    "identical_pay_group.head()"
   ]
  },
  {
   "cell_type": "code",
   "execution_count": null,
   "metadata": {},
   "outputs": [],
   "source": []
  },
  {
   "cell_type": "code",
   "execution_count": null,
   "metadata": {},
   "outputs": [],
   "source": []
  },
  {
   "cell_type": "code",
   "execution_count": null,
   "metadata": {},
   "outputs": [],
   "source": [
    "# graph payments as a histogram\n",
    "fig, ax = plt.subplots(figsize=(19, 5))\n",
    "identical_pay_group[(identical_pay_group[0] > 20) & (identical_pay_group['invoice_net_amt'] < 1000)]['invoice_net_amt'].hist(bins=100)"
   ]
  },
  {
   "cell_type": "code",
   "execution_count": null,
   "metadata": {},
   "outputs": [],
   "source": []
  },
  {
   "cell_type": "code",
   "execution_count": null,
   "metadata": {},
   "outputs": [],
   "source": []
  },
  {
   "cell_type": "code",
   "execution_count": null,
   "metadata": {},
   "outputs": [],
   "source": []
  },
  {
   "cell_type": "code",
   "execution_count": null,
   "metadata": {},
   "outputs": [],
   "source": []
  },
  {
   "cell_type": "code",
   "execution_count": null,
   "metadata": {},
   "outputs": [],
   "source": [
    "plt.figure(figsize=(15, 8))\n",
    "# plt.style.use('ggplot')\n",
    "# plt.style.use('seaborn-talk')\n",
    "\n",
    "plt.style.use('bmh')\n",
    "\n",
    "# graph payment amount on y axis\n",
    "# graph payment count on x axis\n",
    "plt.scatter(identical_pay_group[(identical_pay_group[0] > 20) \n",
    "                                & (identical_pay_group['invoice_net_amt'] < 1000)].iloc[:,5],\n",
    "            identical_pay_group[(identical_pay_group[0] > 20) \n",
    "                                & (identical_pay_group['invoice_net_amt'] < 1000)]['invoice_net_amt'],\n",
    "           alpha=.1,\n",
    "           s=250,\n",
    "           color='maroon')\n",
    "\n",
    "plt.xlabel(\"Count of Payments\")\n",
    "plt.ylabel(\"Payment Amount($)\")\n",
    "\n",
    "# plt.savefig(\"visualizations/identical_payments_less_than_1000.png\")"
   ]
  },
  {
   "cell_type": "code",
   "execution_count": null,
   "metadata": {},
   "outputs": [],
   "source": [
    "plt.figure(figsize=(15, 8))\n",
    "plt.style.use('bmh')\n",
    "\n",
    "# graph payment amount on y axis\n",
    "# graph payment count on x axis\n",
    "plt.scatter(identical_pay_group[(identical_pay_group[0] > 20) \n",
    "                                & (identical_pay_group['invoice_net_amt'] < 1000)].iloc[:,5],\n",
    "            identical_pay_group[(identical_pay_group[0] > 20) \n",
    "                                & (identical_pay_group['invoice_net_amt'] < 1000)]['invoice_net_amt'],\n",
    "           alpha=.1,\n",
    "           s=250,\n",
    "           color='maroon')\n",
    "\n",
    "plt.xlabel(\"Count of Payments\")\n",
    "plt.ylabel(\"Payment Amount($)\")\n",
    "\n",
    "plt.ylim(0,450)\n",
    "plt.xlim(20,75)\n",
    "\n",
    "# plt.savefig(\"visualizations/identical_payments_less_than_1000_reduced_$450.png\")"
   ]
  },
  {
   "cell_type": "markdown",
   "metadata": {},
   "source": [
    "### For the top 30 vendors with duplicate payments between 5 and 1000 dollars, how are the duplicate payments distributed?"
   ]
  },
  {
   "cell_type": "code",
   "execution_count": null,
   "metadata": {},
   "outputs": [],
   "source": [
    "top_30 = identical_pay_group[(identical_pay_group[0] > 10) & \\\n",
    "                    (identical_pay_group['invoice_net_amt'] < 1000)]['vendor_name'].value_counts().head(30)"
   ]
  },
  {
   "cell_type": "code",
   "execution_count": null,
   "metadata": {},
   "outputs": [],
   "source": [
    "top_30.index"
   ]
  },
  {
   "cell_type": "code",
   "execution_count": null,
   "metadata": {},
   "outputs": [],
   "source": [
    "# top 15 vendors with identical payments greater than 5 and less than 1000, with groupings greater than 20\n",
    "identical_pay_group[(identical_pay_group[0] > 10) & \\\n",
    "                    (identical_pay_group['invoice_net_amt'] < 1000) & \\\n",
    "                    (identical_pay_group['vendor_name'].isin(top_30.index))].head()"
   ]
  },
  {
   "cell_type": "code",
   "execution_count": null,
   "metadata": {},
   "outputs": [],
   "source": [
    "plt.figure(figsize=(15, 15))\n",
    "# plt.style.use('ggplot')\n",
    "\n",
    "\n",
    "plt.style.use('bmh')\n",
    "plt.style.use('seaborn-talk')\n",
    "# graph payment amount on y axis\n",
    "# graph payment count on x axis\n",
    "plt.scatter(identical_pay_group[(identical_pay_group[0] > 10) & \\\n",
    "                    (identical_pay_group['invoice_net_amt'] < 1000) & \\\n",
    "                    (identical_pay_group['vendor_name'].isin(top_30.index))].iloc[:,3],\n",
    "            identical_pay_group[(identical_pay_group[0] > 10) & \\\n",
    "                    (identical_pay_group['invoice_net_amt'] < 1000) & \\\n",
    "                    (identical_pay_group['vendor_name'].isin(top_30.index))].iloc[:,4],\n",
    "           alpha=.05,\n",
    "           s=500,\n",
    "           color='darkblue')\n",
    "\n",
    "plt.xlabel(\"Payment Amount\")\n",
    "plt.ylabel(\"Vendor Name\")\n",
    "plt.tight_layout()\n",
    "# plt.savefig(\"visualizations/identical_payments_less_than_1000_top_30_vendors.png\")"
   ]
  },
  {
   "cell_type": "markdown",
   "metadata": {},
   "source": [
    "### Find the top 5 vendors, how are their payments distributed?"
   ]
  },
  {
   "cell_type": "code",
   "execution_count": null,
   "metadata": {},
   "outputs": [],
   "source": [
    "# find top 5 vendors within above grouping \n",
    "identical_pay_group[(identical_pay_group[0] > 20) & (identical_pay_group['invoice_net_amt'] < 1000)] \\\n",
    "    ['vendor_name'].value_counts().head(5)"
   ]
  },
  {
   "cell_type": "code",
   "execution_count": null,
   "metadata": {},
   "outputs": [],
   "source": [
    "# extract just the top 5 vendor names\n",
    "identical_pay_group[(identical_pay_group[0] > 20) & (identical_pay_group['invoice_net_amt'] < 1000)] \\\n",
    "    ['vendor_name'].value_counts().head(5).index"
   ]
  },
  {
   "cell_type": "code",
   "execution_count": null,
   "metadata": {},
   "outputs": [],
   "source": [
    "# subset payments data based on the payments of these top 5 vendors\n",
    "id_payments_top_vendors = payments[payments['vendor_name'].isin(identical_pay_group[(identical_pay_group[0] > 20) & (identical_pay_group['invoice_net_amt'] < 1000)] \\\n",
    "    ['vendor_name'].value_counts().head(5).index)]"
   ]
  },
  {
   "cell_type": "code",
   "execution_count": null,
   "metadata": {},
   "outputs": [],
   "source": [
    "# how many rows?\n",
    "id_payments_top_vendors.shape"
   ]
  },
  {
   "cell_type": "markdown",
   "metadata": {},
   "source": [
    "### Use dot plots to show dispersion of all payments for top 5 vendors with idential payments"
   ]
  },
  {
   "cell_type": "code",
   "execution_count": null,
   "metadata": {},
   "outputs": [],
   "source": [
    "fig, ax = plt.subplots(nrows=5, ncols=1, figsize=(15, 17))\n",
    "\n",
    "ax[0].scatter(payments[payments['vendor_name'] == 'CREATIVE COMMUNICATIONS']['invoice_net_amt'],\n",
    "              payments[payments['vendor_name'] == 'CREATIVE COMMUNICATIONS']['invoice_net_amt'].apply(lambda x: x * 0 + 1),\n",
    "              alpha=.1, \n",
    "              s=200)\n",
    "ax[0].set_title('CREATIVE COMMUNICATIONS')\n",
    "\n",
    "ax[1].scatter(payments[payments['vendor_name'] == 'WESTERN TOWING']['invoice_net_amt'],\n",
    "              payments[payments['vendor_name'] == 'WESTERN TOWING']['invoice_net_amt'].apply(lambda x: x * 0 + 1), \n",
    "              c='red',\n",
    "              alpha=.1, \n",
    "              s=200)\n",
    "ax[1].set_title('WESTERN TOWING')\n",
    "\n",
    "ax[2].scatter(payments[payments['vendor_name'] == 'CITY WIDE PEST CONTROL']['invoice_net_amt'],\n",
    "                 payments[payments['vendor_name'] == 'CITY WIDE PEST CONTROL']['invoice_net_amt'].apply(lambda x: x * 0 + 1), \n",
    "              c='green',\n",
    "              alpha=.1, \n",
    "              s=200)\n",
    "ax[2].set_title('CITY WIDE PEST CONTROL')\n",
    "\n",
    "ax[3].scatter(payments[payments['vendor_name'] == 'EUROFINS EATON ANALYTICAL INC']['invoice_net_amt'],\n",
    "                 payments[payments['vendor_name'] == 'EUROFINS EATON ANALYTICAL INC']['invoice_net_amt'].apply(lambda x: x * 0 + 1), \n",
    "              c='brown',alpha=.1, s=200)\n",
    "ax[3].set_title('EUROFINS EATON ANALYTICAL INC')\n",
    "\n",
    "ax[4].scatter(payments[payments['vendor_name'] == 'COMMUNITY TIRE PROS & AUTO REPAIR']['invoice_net_amt'],\n",
    "                 payments[payments['vendor_name'] == 'COMMUNITY TIRE PROS & AUTO REPAIR']['invoice_net_amt'].apply(lambda x: x * 0 + 1), \n",
    "              c='orange',alpha=.1, s=200)\n",
    "ax[4].set_title('COMMUNITY TIRE PROS & AUTO REPAIR')\n",
    "\n",
    "# remove tick marks on the y-axis\n",
    "for axis in ax.flat:\n",
    "    axis.yaxis.set_major_locator(plt.NullLocator())\n",
    "\n",
    "plt.xlabel(\"Payment Amount($)\")\n",
    "plt.tight_layout()\n",
    "\n",
    "# plt.savefig(\"visualizations/identical_payments_top_5_vendors_distributions.png\")"
   ]
  },
  {
   "cell_type": "markdown",
   "metadata": {},
   "source": [
    "### Graph all payments over time to the top 5 vendors who were paid identical payments.  Limit to only payments under 1,000."
   ]
  },
  {
   "cell_type": "code",
   "execution_count": null,
   "metadata": {},
   "outputs": [],
   "source": [
    "plt.figure(figsize=(15, 8))\n",
    "plt.style.use('bmh')\n",
    "\n",
    "ax = sns.scatterplot(x=id_payments_top_vendors.iloc[:,7],\n",
    "           y=id_payments_top_vendors.iloc[:,3],\n",
    "           hue=id_payments_top_vendors.iloc[:,4],\n",
    "           alpha=.1,\n",
    "           s=50)\n",
    "\n",
    "plt.xlabel(\"Year/Month\")\n",
    "plt.ylabel(\"Payment Amount($)\")\n",
    "\n",
    "ax.xaxis.set_major_locator(ticker.MultipleLocator(5))\n",
    "\n",
    "plt.ylim(0, 1000)\n",
    "\n",
    "handles, labels = ax.get_legend_handles_labels()\n",
    "ax.legend(handles=handles[1:], labels=labels[1:], loc='upper center', bbox_to_anchor=(0.5, -0.10), ncol=5)\n",
    "\n",
    "plt.tight_layout()\n",
    "# plt.savefig(\"visualizations/identical_payments_top_5_vendors_all_payments_graph_under_$1000.png\")"
   ]
  },
  {
   "cell_type": "markdown",
   "metadata": {},
   "source": [
    "### Graph count of identical payments under 1,000 against the payment amount - limit to only the top 5 vendors with idential payments."
   ]
  },
  {
   "cell_type": "code",
   "execution_count": null,
   "metadata": {},
   "outputs": [],
   "source": [
    "id_payments_less_1000 = identical_pay_group[(identical_pay_group[0] > 20) & \\\n",
    "                                            (identical_pay_group['invoice_net_amt'] < 1000)]"
   ]
  },
  {
   "cell_type": "code",
   "execution_count": null,
   "metadata": {},
   "outputs": [],
   "source": [
    "id_payments_less_1000.head()"
   ]
  },
  {
   "cell_type": "code",
   "execution_count": null,
   "metadata": {},
   "outputs": [],
   "source": [
    "top_5_id_payments_less_1000 = id_payments_less_1000[id_payments_less_1000['vendor_name'].isin(identical_pay_group[(identical_pay_group[0] > 20) & (identical_pay_group['invoice_net_amt'] < 1000)] \\\n",
    "    ['vendor_name'].value_counts().head(5).index)]"
   ]
  },
  {
   "cell_type": "code",
   "execution_count": null,
   "metadata": {},
   "outputs": [],
   "source": [
    "top_5_id_payments_less_1000.head()"
   ]
  },
  {
   "cell_type": "code",
   "execution_count": null,
   "metadata": {},
   "outputs": [],
   "source": [
    "id_payments_less_1000[id_payments_less_1000['vendor_name'].isin(identical_pay_group[(identical_pay_group[0] > 20) & (identical_pay_group['invoice_net_amt'] < 1000)] \\\n",
    "    ['vendor_name'].value_counts().head(5).index)].shape"
   ]
  },
  {
   "cell_type": "code",
   "execution_count": null,
   "metadata": {},
   "outputs": [],
   "source": [
    "plt.figure(figsize=(15, 8))\n",
    "\n",
    "sns.scatterplot(x=top_5_id_payments_less_1000.iloc[:,5],\n",
    "           y=top_5_id_payments_less_1000.iloc[:,3],\n",
    "           hue=top_5_id_payments_less_1000.iloc[:,4],\n",
    "           alpha=.3,\n",
    "               s=200)\n",
    "\n",
    "plt.xlabel(\"Count of Payments\")\n",
    "plt.ylabel(\"Payment Amount($)\")\n",
    "\n",
    "plt.tight_layout()\n",
    "# plt.savefig(\"visualizations/identical_payments_top_5_vendors_graph_under_$1000.png\")"
   ]
  },
  {
   "cell_type": "code",
   "execution_count": null,
   "metadata": {},
   "outputs": [],
   "source": []
  },
  {
   "cell_type": "code",
   "execution_count": null,
   "metadata": {},
   "outputs": [],
   "source": []
  },
  {
   "cell_type": "markdown",
   "metadata": {},
   "source": [
    "#### next steps\n",
    "~~exclude invoices with leading digit of 0~~\n",
    "1. which departments are most associated with duplicate payments? uniform cleaning?\n",
    "1. are certain time of the year associated with high volumes of payments to certain vendors?\n",
    "1. for vendors with more than 50 payments of the same amount on the same day . . .\n",
    "    - do the leading digits correspond to Benford's law?\n",
    "    - are thy provide similar goods/services?\n",
    "1. for vendors with a high number of negative payments . . .\n",
    "    - year over year, is the volume of negative payments about the same?\n",
    "    - negative payments as a percentage of total payments\n",
    "1. vendors with payments at specific times of the year(similar to what I did with the City of Scottsdale vendor payments).\n",
    "1. vendors with payments within a tight range(essentially a low variance in payment amount).\n",
    "1. group by dept. description and committment item name, within this combination\n",
    "which vendors make up the largest share of the spending?\n",
    "1. "
   ]
  }
 ],
 "metadata": {
  "kernelspec": {
   "display_name": "Python 3",
   "language": "python",
   "name": "python3"
  },
  "language_info": {
   "codemirror_mode": {
    "name": "ipython",
    "version": 3
   },
   "file_extension": ".py",
   "mimetype": "text/x-python",
   "name": "python",
   "nbconvert_exporter": "python",
   "pygments_lexer": "ipython3",
   "version": "3.7.1"
  }
 },
 "nbformat": 4,
 "nbformat_minor": 2
}
