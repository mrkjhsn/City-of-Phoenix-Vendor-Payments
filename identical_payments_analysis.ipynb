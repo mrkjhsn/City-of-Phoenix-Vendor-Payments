{
 "cells": [
  {
   "cell_type": "markdown",
   "metadata": {},
   "source": [
    "### Examining payments (within the vendor payments dataset) of the same amount, to the same vendor, on the same day, with the same committment name, as well as the same department description."
   ]
  },
  {
   "cell_type": "code",
   "execution_count": 2,
   "metadata": {},
   "outputs": [],
   "source": [
    "import glob\n",
    "import pandas as pd\n",
    "import numpy as np\n",
    "import matplotlib.pyplot as plt\n",
    "import matplotlib.ticker as ticker\n",
    "import seaborn as sns\n",
    "import datetime\n",
    "import warnings\n",
    "warnings.simplefilter(action='ignore', category=FutureWarning)\n"
   ]
  },
  {
   "cell_type": "code",
   "execution_count": 3,
   "metadata": {},
   "outputs": [],
   "source": [
    "plt.rcParams.update(plt.rcParamsDefault)"
   ]
  },
  {
   "cell_type": "code",
   "execution_count": 4,
   "metadata": {},
   "outputs": [],
   "source": [
    "# import csv data\n",
    "files = glob.glob('data/cleaned_data/*.csv')\n",
    "\n",
    "payments = pd.concat([pd.read_csv(f, dtype={'commitmt_item_name': 'str', 'dept._descrptn': 'str', 'vendor_name': 'str'}) \\\n",
    "                      for f in files], sort=True)"
   ]
  },
  {
   "cell_type": "code",
   "execution_count": 5,
   "metadata": {},
   "outputs": [
    {
     "data": {
      "text/plain": [
       "check/payment_date     object\n",
       "commitmt_item_name     object\n",
       "dept._descrptn         object\n",
       "invoice_net_amt       float64\n",
       "vendor_name            object\n",
       "dtype: object"
      ]
     },
     "execution_count": 5,
     "metadata": {},
     "output_type": "execute_result"
    }
   ],
   "source": [
    "# examine data types that have been imported\n",
    "payments.dtypes"
   ]
  },
  {
   "cell_type": "code",
   "execution_count": 6,
   "metadata": {},
   "outputs": [
    {
     "data": {
      "text/html": [
       "<div>\n",
       "<style scoped>\n",
       "    .dataframe tbody tr th:only-of-type {\n",
       "        vertical-align: middle;\n",
       "    }\n",
       "\n",
       "    .dataframe tbody tr th {\n",
       "        vertical-align: top;\n",
       "    }\n",
       "\n",
       "    .dataframe thead th {\n",
       "        text-align: right;\n",
       "    }\n",
       "</style>\n",
       "<table border=\"1\" class=\"dataframe\">\n",
       "  <thead>\n",
       "    <tr style=\"text-align: right;\">\n",
       "      <th></th>\n",
       "      <th>check/payment_date</th>\n",
       "      <th>commitmt_item_name</th>\n",
       "      <th>dept._descrptn</th>\n",
       "      <th>invoice_net_amt</th>\n",
       "      <th>vendor_name</th>\n",
       "    </tr>\n",
       "  </thead>\n",
       "  <tbody>\n",
       "    <tr>\n",
       "      <th>0</th>\n",
       "      <td>2014-01-02</td>\n",
       "      <td>Inventories</td>\n",
       "      <td>Street Transportation</td>\n",
       "      <td>-34.78</td>\n",
       "      <td>3M COMPANY</td>\n",
       "    </tr>\n",
       "    <tr>\n",
       "      <th>1</th>\n",
       "      <td>2014-01-02</td>\n",
       "      <td>Inventories</td>\n",
       "      <td>Street Transportation</td>\n",
       "      <td>-69.55</td>\n",
       "      <td>3M COMPANY</td>\n",
       "    </tr>\n",
       "    <tr>\n",
       "      <th>2</th>\n",
       "      <td>2014-01-02</td>\n",
       "      <td>Inventories</td>\n",
       "      <td>Street Transportation</td>\n",
       "      <td>-77.00</td>\n",
       "      <td>3M COMPANY</td>\n",
       "    </tr>\n",
       "    <tr>\n",
       "      <th>3</th>\n",
       "      <td>2014-01-02</td>\n",
       "      <td>Inventories</td>\n",
       "      <td>Public Works</td>\n",
       "      <td>0.01</td>\n",
       "      <td>AGS SAFETY &amp; SUPPLY</td>\n",
       "    </tr>\n",
       "    <tr>\n",
       "      <th>4</th>\n",
       "      <td>2014-01-02</td>\n",
       "      <td>Inventories</td>\n",
       "      <td>Police</td>\n",
       "      <td>-0.79</td>\n",
       "      <td>AMERICAN EUROCOPTER CORPORATION</td>\n",
       "    </tr>\n",
       "  </tbody>\n",
       "</table>\n",
       "</div>"
      ],
      "text/plain": [
       "  check/payment_date commitmt_item_name         dept._descrptn  \\\n",
       "0         2014-01-02        Inventories  Street Transportation   \n",
       "1         2014-01-02        Inventories  Street Transportation   \n",
       "2         2014-01-02        Inventories  Street Transportation   \n",
       "3         2014-01-02        Inventories           Public Works   \n",
       "4         2014-01-02        Inventories                 Police   \n",
       "\n",
       "   invoice_net_amt                      vendor_name  \n",
       "0           -34.78                       3M COMPANY  \n",
       "1           -69.55                       3M COMPANY  \n",
       "2           -77.00                       3M COMPANY  \n",
       "3             0.01              AGS SAFETY & SUPPLY  \n",
       "4            -0.79  AMERICAN EUROCOPTER CORPORATION  "
      ]
     },
     "execution_count": 6,
     "metadata": {},
     "output_type": "execute_result"
    }
   ],
   "source": [
    "payments.head()"
   ]
  },
  {
   "cell_type": "code",
   "execution_count": 7,
   "metadata": {},
   "outputs": [],
   "source": [
    "# convert check/payment date into datetime, it was imported as an object\n",
    "payments.iloc[:,0] = pd.to_datetime(payments.iloc[:,0])"
   ]
  },
  {
   "cell_type": "code",
   "execution_count": 8,
   "metadata": {},
   "outputs": [
    {
     "name": "stdout",
     "output_type": "stream",
     "text": [
      "2014-01-02 00:00:00\n",
      "2018-12-31 00:00:00\n"
     ]
    }
   ],
   "source": [
    "# examine date range of data\n",
    "print(payments.iloc[:,0].min())\n",
    "print(payments.iloc[:,0].max())"
   ]
  },
  {
   "cell_type": "code",
   "execution_count": 9,
   "metadata": {},
   "outputs": [],
   "source": [
    "# create Day_of_Year column to perform time series analysis over the year\n",
    "payments['day_of_year'] = payments['check/payment_date'].dt.dayofyear\n",
    "\n",
    "# create Year column to perform annual time series analysis\n",
    "payments['year'] = payments['check/payment_date'].dt.year\n",
    "\n",
    "# create Year/Month column\n",
    "payments['year_month'] = payments['check/payment_date'].apply(lambda x: str(x.year) + '.' + str(x.month).zfill(2))"
   ]
  },
  {
   "cell_type": "code",
   "execution_count": 10,
   "metadata": {},
   "outputs": [
    {
     "data": {
      "text/html": [
       "<div>\n",
       "<style scoped>\n",
       "    .dataframe tbody tr th:only-of-type {\n",
       "        vertical-align: middle;\n",
       "    }\n",
       "\n",
       "    .dataframe tbody tr th {\n",
       "        vertical-align: top;\n",
       "    }\n",
       "\n",
       "    .dataframe thead th {\n",
       "        text-align: right;\n",
       "    }\n",
       "</style>\n",
       "<table border=\"1\" class=\"dataframe\">\n",
       "  <thead>\n",
       "    <tr style=\"text-align: right;\">\n",
       "      <th></th>\n",
       "      <th>check/payment_date</th>\n",
       "      <th>commitmt_item_name</th>\n",
       "      <th>dept._descrptn</th>\n",
       "      <th>invoice_net_amt</th>\n",
       "      <th>vendor_name</th>\n",
       "      <th>day_of_year</th>\n",
       "      <th>year</th>\n",
       "      <th>year_month</th>\n",
       "    </tr>\n",
       "  </thead>\n",
       "  <tbody>\n",
       "    <tr>\n",
       "      <th>0</th>\n",
       "      <td>2014-01-02</td>\n",
       "      <td>Inventories</td>\n",
       "      <td>Street Transportation</td>\n",
       "      <td>-34.78</td>\n",
       "      <td>3M COMPANY</td>\n",
       "      <td>2</td>\n",
       "      <td>2014</td>\n",
       "      <td>2014.01</td>\n",
       "    </tr>\n",
       "    <tr>\n",
       "      <th>1</th>\n",
       "      <td>2014-01-02</td>\n",
       "      <td>Inventories</td>\n",
       "      <td>Street Transportation</td>\n",
       "      <td>-69.55</td>\n",
       "      <td>3M COMPANY</td>\n",
       "      <td>2</td>\n",
       "      <td>2014</td>\n",
       "      <td>2014.01</td>\n",
       "    </tr>\n",
       "    <tr>\n",
       "      <th>2</th>\n",
       "      <td>2014-01-02</td>\n",
       "      <td>Inventories</td>\n",
       "      <td>Street Transportation</td>\n",
       "      <td>-77.00</td>\n",
       "      <td>3M COMPANY</td>\n",
       "      <td>2</td>\n",
       "      <td>2014</td>\n",
       "      <td>2014.01</td>\n",
       "    </tr>\n",
       "    <tr>\n",
       "      <th>3</th>\n",
       "      <td>2014-01-02</td>\n",
       "      <td>Inventories</td>\n",
       "      <td>Public Works</td>\n",
       "      <td>0.01</td>\n",
       "      <td>AGS SAFETY &amp; SUPPLY</td>\n",
       "      <td>2</td>\n",
       "      <td>2014</td>\n",
       "      <td>2014.01</td>\n",
       "    </tr>\n",
       "    <tr>\n",
       "      <th>4</th>\n",
       "      <td>2014-01-02</td>\n",
       "      <td>Inventories</td>\n",
       "      <td>Police</td>\n",
       "      <td>-0.79</td>\n",
       "      <td>AMERICAN EUROCOPTER CORPORATION</td>\n",
       "      <td>2</td>\n",
       "      <td>2014</td>\n",
       "      <td>2014.01</td>\n",
       "    </tr>\n",
       "  </tbody>\n",
       "</table>\n",
       "</div>"
      ],
      "text/plain": [
       "  check/payment_date commitmt_item_name         dept._descrptn  \\\n",
       "0         2014-01-02        Inventories  Street Transportation   \n",
       "1         2014-01-02        Inventories  Street Transportation   \n",
       "2         2014-01-02        Inventories  Street Transportation   \n",
       "3         2014-01-02        Inventories           Public Works   \n",
       "4         2014-01-02        Inventories                 Police   \n",
       "\n",
       "   invoice_net_amt                      vendor_name  day_of_year  year  \\\n",
       "0           -34.78                       3M COMPANY            2  2014   \n",
       "1           -69.55                       3M COMPANY            2  2014   \n",
       "2           -77.00                       3M COMPANY            2  2014   \n",
       "3             0.01              AGS SAFETY & SUPPLY            2  2014   \n",
       "4            -0.79  AMERICAN EUROCOPTER CORPORATION            2  2014   \n",
       "\n",
       "  year_month  \n",
       "0    2014.01  \n",
       "1    2014.01  \n",
       "2    2014.01  \n",
       "3    2014.01  \n",
       "4    2014.01  "
      ]
     },
     "execution_count": 10,
     "metadata": {},
     "output_type": "execute_result"
    }
   ],
   "source": [
    "payments.head()"
   ]
  },
  {
   "cell_type": "markdown",
   "metadata": {},
   "source": [
    "### Find identical payments that are larger then 5 dollars in amount, and also smaller than 1,000 dollars.  My reasoning being if fraud is take place, it probably is within this range.  Amounts of greater than 1000 dollars often require many levels of approval."
   ]
  },
  {
   "cell_type": "code",
   "execution_count": 11,
   "metadata": {},
   "outputs": [],
   "source": [
    "# exclude payments of less than $5\n",
    "# find vendors that have the highest number of identical payments\n",
    "identical_pay_group = payments[payments['invoice_net_amt'] > 5].groupby(['check/payment_date',\n",
    "     'commitmt_item_name',\n",
    "     'dept._descrptn',\n",
    "     'invoice_net_amt',\n",
    "     'vendor_name']).size().reset_index()"
   ]
  },
  {
   "cell_type": "code",
   "execution_count": 12,
   "metadata": {},
   "outputs": [
    {
     "data": {
      "text/plain": [
       "(929, 6)"
      ]
     },
     "execution_count": 12,
     "metadata": {},
     "output_type": "execute_result"
    }
   ],
   "source": [
    "# how many vendors have more than 20 payments of the same amount on the same day?\n",
    "# payment amounts are less than $1,000 (a few extreme outliers were proving troublesome)\n",
    "identical_pay_group[(identical_pay_group[0] > 20) & (identical_pay_group['invoice_net_amt'] < 1000)].shape"
   ]
  },
  {
   "cell_type": "code",
   "execution_count": 13,
   "metadata": {},
   "outputs": [
    {
     "data": {
      "text/html": [
       "<div>\n",
       "<style scoped>\n",
       "    .dataframe tbody tr th:only-of-type {\n",
       "        vertical-align: middle;\n",
       "    }\n",
       "\n",
       "    .dataframe tbody tr th {\n",
       "        vertical-align: top;\n",
       "    }\n",
       "\n",
       "    .dataframe thead th {\n",
       "        text-align: right;\n",
       "    }\n",
       "</style>\n",
       "<table border=\"1\" class=\"dataframe\">\n",
       "  <thead>\n",
       "    <tr style=\"text-align: right;\">\n",
       "      <th></th>\n",
       "      <th>check/payment_date</th>\n",
       "      <th>commitmt_item_name</th>\n",
       "      <th>dept._descrptn</th>\n",
       "      <th>invoice_net_amt</th>\n",
       "      <th>vendor_name</th>\n",
       "      <th>0</th>\n",
       "    </tr>\n",
       "  </thead>\n",
       "  <tbody>\n",
       "    <tr>\n",
       "      <th>0</th>\n",
       "      <td>2014-01-02</td>\n",
       "      <td>3rd Party Relocation</td>\n",
       "      <td>Aviation</td>\n",
       "      <td>98598.20</td>\n",
       "      <td>SECURITY TITLE AGENCY</td>\n",
       "      <td>1</td>\n",
       "    </tr>\n",
       "    <tr>\n",
       "      <th>1</th>\n",
       "      <td>2014-01-02</td>\n",
       "      <td>A/C Chilled Wtr Svc</td>\n",
       "      <td>Phoenix Convention Center</td>\n",
       "      <td>14038.18</td>\n",
       "      <td>NRG THERMAL LLC</td>\n",
       "      <td>1</td>\n",
       "    </tr>\n",
       "    <tr>\n",
       "      <th>2</th>\n",
       "      <td>2014-01-02</td>\n",
       "      <td>A/C Chilled Wtr Svc</td>\n",
       "      <td>Phoenix Convention Center</td>\n",
       "      <td>39182.73</td>\n",
       "      <td>NRG THERMAL LLC</td>\n",
       "      <td>1</td>\n",
       "    </tr>\n",
       "    <tr>\n",
       "      <th>3</th>\n",
       "      <td>2014-01-02</td>\n",
       "      <td>A/C Chilled Wtr Svc</td>\n",
       "      <td>Phoenix Convention Center</td>\n",
       "      <td>57307.33</td>\n",
       "      <td>NRG THERMAL LLC</td>\n",
       "      <td>1</td>\n",
       "    </tr>\n",
       "    <tr>\n",
       "      <th>4</th>\n",
       "      <td>2014-01-02</td>\n",
       "      <td>A/C Chilled Wtr Svc</td>\n",
       "      <td>Phoenix Convention Center</td>\n",
       "      <td>64578.31</td>\n",
       "      <td>NRG THERMAL LLC</td>\n",
       "      <td>1</td>\n",
       "    </tr>\n",
       "  </tbody>\n",
       "</table>\n",
       "</div>"
      ],
      "text/plain": [
       "  check/payment_date    commitmt_item_name             dept._descrptn  \\\n",
       "0         2014-01-02  3rd Party Relocation                   Aviation   \n",
       "1         2014-01-02   A/C Chilled Wtr Svc  Phoenix Convention Center   \n",
       "2         2014-01-02   A/C Chilled Wtr Svc  Phoenix Convention Center   \n",
       "3         2014-01-02   A/C Chilled Wtr Svc  Phoenix Convention Center   \n",
       "4         2014-01-02   A/C Chilled Wtr Svc  Phoenix Convention Center   \n",
       "\n",
       "   invoice_net_amt            vendor_name  0  \n",
       "0         98598.20  SECURITY TITLE AGENCY  1  \n",
       "1         14038.18        NRG THERMAL LLC  1  \n",
       "2         39182.73        NRG THERMAL LLC  1  \n",
       "3         57307.33        NRG THERMAL LLC  1  \n",
       "4         64578.31        NRG THERMAL LLC  1  "
      ]
     },
     "execution_count": 13,
     "metadata": {},
     "output_type": "execute_result"
    }
   ],
   "source": [
    "identical_pay_group.head()"
   ]
  },
  {
   "cell_type": "code",
   "execution_count": null,
   "metadata": {},
   "outputs": [],
   "source": []
  },
  {
   "cell_type": "code",
   "execution_count": null,
   "metadata": {},
   "outputs": [],
   "source": []
  },
  {
   "cell_type": "code",
   "execution_count": 14,
   "metadata": {},
   "outputs": [
    {
     "data": {
      "text/plain": [
       "<matplotlib.axes._subplots.AxesSubplot at 0x2029ef69be0>"
      ]
     },
     "execution_count": 14,
     "metadata": {},
     "output_type": "execute_result"
    }
   ],
   "source": [
    "# graph payments as a histogram\n",
    "fig, ax = plt.subplots(figsize=(19, 5))\n",
    "identical_pay_group[(identical_pay_group[0] > 20) & (identical_pay_group['invoice_net_amt'] < 1000)]['invoice_net_amt'].hist(bins=100)"
   ]
  },
  {
   "cell_type": "code",
   "execution_count": null,
   "metadata": {},
   "outputs": [],
   "source": []
  },
  {
   "cell_type": "code",
   "execution_count": null,
   "metadata": {},
   "outputs": [],
   "source": []
  },
  {
   "cell_type": "code",
   "execution_count": null,
   "metadata": {},
   "outputs": [],
   "source": []
  },
  {
   "cell_type": "code",
   "execution_count": null,
   "metadata": {},
   "outputs": [],
   "source": []
  },
  {
   "cell_type": "code",
   "execution_count": 15,
   "metadata": {},
   "outputs": [
    {
     "data": {
      "text/plain": [
       "Text(0, 0.5, 'Payment Amount($)')"
      ]
     },
     "execution_count": 15,
     "metadata": {},
     "output_type": "execute_result"
    }
   ],
   "source": [
    "plt.figure(figsize=(15, 8))\n",
    "# plt.style.use('ggplot')\n",
    "# plt.style.use('seaborn-talk')\n",
    "\n",
    "plt.style.use('bmh')\n",
    "\n",
    "# graph payment amount on y axis\n",
    "# graph payment count on x axis\n",
    "plt.scatter(identical_pay_group[(identical_pay_group[0] > 20) \n",
    "                                & (identical_pay_group['invoice_net_amt'] < 1000)].iloc[:,5],\n",
    "            identical_pay_group[(identical_pay_group[0] > 20) \n",
    "                                & (identical_pay_group['invoice_net_amt'] < 1000)]['invoice_net_amt'],\n",
    "           alpha=.1,\n",
    "           s=250,\n",
    "           color='maroon')\n",
    "\n",
    "plt.xlabel(\"Count of Payments\")\n",
    "plt.ylabel(\"Payment Amount($)\")\n",
    "\n",
    "# plt.savefig(\"visualizations/identical_payments_less_than_1000.png\")"
   ]
  },
  {
   "cell_type": "code",
   "execution_count": 16,
   "metadata": {},
   "outputs": [
    {
     "data": {
      "text/plain": [
       "(20, 75)"
      ]
     },
     "execution_count": 16,
     "metadata": {},
     "output_type": "execute_result"
    }
   ],
   "source": [
    "plt.figure(figsize=(15, 8))\n",
    "plt.style.use('bmh')\n",
    "\n",
    "# graph payment amount on y axis\n",
    "# graph payment count on x axis\n",
    "plt.scatter(identical_pay_group[(identical_pay_group[0] > 20) \n",
    "                                & (identical_pay_group['invoice_net_amt'] < 1000)].iloc[:,5],\n",
    "            identical_pay_group[(identical_pay_group[0] > 20) \n",
    "                                & (identical_pay_group['invoice_net_amt'] < 1000)]['invoice_net_amt'],\n",
    "           alpha=.1,\n",
    "           s=250,\n",
    "           color='maroon')\n",
    "\n",
    "plt.xlabel(\"Count of Payments\")\n",
    "plt.ylabel(\"Payment Amount($)\")\n",
    "\n",
    "plt.ylim(0,450)\n",
    "plt.xlim(20,75)\n",
    "\n",
    "# plt.savefig(\"visualizations/identical_payments_less_than_1000_reduced_$450.png\")"
   ]
  },
  {
   "cell_type": "markdown",
   "metadata": {},
   "source": [
    "### For the top 30 vendors with duplicate payments between 5 and 1000 dollars, how are the duplicate payments distributed?"
   ]
  },
  {
   "cell_type": "code",
   "execution_count": 17,
   "metadata": {},
   "outputs": [],
   "source": [
    "top_30 = identical_pay_group[(identical_pay_group[0] > 10) & \\\n",
    "                    (identical_pay_group['invoice_net_amt'] < 1000)]['vendor_name'].value_counts().head(30)"
   ]
  },
  {
   "cell_type": "code",
   "execution_count": 18,
   "metadata": {},
   "outputs": [
    {
     "data": {
      "text/plain": [
       "Index(['CREATIVE COMMUNICATIONS', 'WESTERN TOWING',\n",
       "       'COMMUNITY TIRE PROS & AUTO REPAIR', 'CITY WIDE PEST CONTROL',\n",
       "       'MISSION UNIFORM SERVICES', 'AKERS PEST CONTROL', 'ALL CITY TOWING',\n",
       "       'ARIZONA UNIFORM & APPAREL', 'EUROFINS EATON ANALYTICAL INC',\n",
       "       'THYSSENKRUPP ELEVATOR CORP', 'MARICOPA COUNTY ENVIRONMENTAL',\n",
       "       'EMERGENCY RESTORATION EXPERTS LLC', 'RCI SYSTEMS, INC',\n",
       "       'SOMERSET LANDSCAPE MAINTENANCE', 'FRIENDLY HOUSE INC',\n",
       "       'AUTO GLASS & TINT DIRECT LLC', 'VULCAN MATERIAL CO - WESTERN D',\n",
       "       'MATHESON TRI-GAS INC', 'PHOENIX TIRE INC',\n",
       "       'Court Restitution: Name withheld', 'HEALY'S RED WING SHOE STORES',\n",
       "       'SELECT GLASS INC', 'NEIGHBORHOOD HOUSING SERVICES', 'DELTA BAP INC',\n",
       "       'PHOENIX HISPANIC NETWORK', 'FLUORESCO SERVICES LLC',\n",
       "       'MORALES-SHERMAN LANGUAGES', 'MSE CORPORATE SECURITY INC',\n",
       "       'ALTITUDE LAB SOLUTIONS LLC', 'UNITED FIRE EQUIP CO'],\n",
       "      dtype='object')"
      ]
     },
     "execution_count": 18,
     "metadata": {},
     "output_type": "execute_result"
    }
   ],
   "source": [
    "top_30.index"
   ]
  },
  {
   "cell_type": "code",
   "execution_count": 19,
   "metadata": {},
   "outputs": [
    {
     "data": {
      "text/html": [
       "<div>\n",
       "<style scoped>\n",
       "    .dataframe tbody tr th:only-of-type {\n",
       "        vertical-align: middle;\n",
       "    }\n",
       "\n",
       "    .dataframe tbody tr th {\n",
       "        vertical-align: top;\n",
       "    }\n",
       "\n",
       "    .dataframe thead th {\n",
       "        text-align: right;\n",
       "    }\n",
       "</style>\n",
       "<table border=\"1\" class=\"dataframe\">\n",
       "  <thead>\n",
       "    <tr style=\"text-align: right;\">\n",
       "      <th></th>\n",
       "      <th>check/payment_date</th>\n",
       "      <th>commitmt_item_name</th>\n",
       "      <th>dept._descrptn</th>\n",
       "      <th>invoice_net_amt</th>\n",
       "      <th>vendor_name</th>\n",
       "      <th>0</th>\n",
       "    </tr>\n",
       "  </thead>\n",
       "  <tbody>\n",
       "    <tr>\n",
       "      <th>2769</th>\n",
       "      <td>2014-01-06</td>\n",
       "      <td>Rel Adv Svcs-TrnAsst</td>\n",
       "      <td>Aviation</td>\n",
       "      <td>50.33</td>\n",
       "      <td>NEIGHBORHOOD HOUSING SERVICES</td>\n",
       "      <td>203</td>\n",
       "    </tr>\n",
       "    <tr>\n",
       "      <th>2770</th>\n",
       "      <td>2014-01-06</td>\n",
       "      <td>Rel Adv Svcs-TrnAsst</td>\n",
       "      <td>Aviation</td>\n",
       "      <td>50.34</td>\n",
       "      <td>NEIGHBORHOOD HOUSING SERVICES</td>\n",
       "      <td>71</td>\n",
       "    </tr>\n",
       "    <tr>\n",
       "      <th>3774</th>\n",
       "      <td>2014-01-07</td>\n",
       "      <td>Trust-Court-Prob Res</td>\n",
       "      <td>Municipal Court</td>\n",
       "      <td>100.00</td>\n",
       "      <td>Court Restitution: Name withheld</td>\n",
       "      <td>15</td>\n",
       "    </tr>\n",
       "    <tr>\n",
       "      <th>5155</th>\n",
       "      <td>2014-01-09</td>\n",
       "      <td>Motor Vehicle Repair</td>\n",
       "      <td>Public Works</td>\n",
       "      <td>19.99</td>\n",
       "      <td>AUTO GLASS &amp; TINT DIRECT LLC</td>\n",
       "      <td>22</td>\n",
       "    </tr>\n",
       "    <tr>\n",
       "      <th>5158</th>\n",
       "      <td>2014-01-09</td>\n",
       "      <td>Motor Vehicle Repair</td>\n",
       "      <td>Public Works</td>\n",
       "      <td>45.00</td>\n",
       "      <td>AUTO GLASS &amp; TINT DIRECT LLC</td>\n",
       "      <td>48</td>\n",
       "    </tr>\n",
       "  </tbody>\n",
       "</table>\n",
       "</div>"
      ],
      "text/plain": [
       "     check/payment_date    commitmt_item_name   dept._descrptn  \\\n",
       "2769         2014-01-06  Rel Adv Svcs-TrnAsst         Aviation   \n",
       "2770         2014-01-06  Rel Adv Svcs-TrnAsst         Aviation   \n",
       "3774         2014-01-07  Trust-Court-Prob Res  Municipal Court   \n",
       "5155         2014-01-09  Motor Vehicle Repair     Public Works   \n",
       "5158         2014-01-09  Motor Vehicle Repair     Public Works   \n",
       "\n",
       "      invoice_net_amt                       vendor_name    0  \n",
       "2769            50.33     NEIGHBORHOOD HOUSING SERVICES  203  \n",
       "2770            50.34     NEIGHBORHOOD HOUSING SERVICES   71  \n",
       "3774           100.00  Court Restitution: Name withheld   15  \n",
       "5155            19.99      AUTO GLASS & TINT DIRECT LLC   22  \n",
       "5158            45.00      AUTO GLASS & TINT DIRECT LLC   48  "
      ]
     },
     "execution_count": 19,
     "metadata": {},
     "output_type": "execute_result"
    }
   ],
   "source": [
    "# top 15 vendors with identical payments greater than 5 and less than 1000, with groupings greater than 20\n",
    "identical_pay_group[(identical_pay_group[0] > 10) & \\\n",
    "                    (identical_pay_group['invoice_net_amt'] < 1000) & \\\n",
    "                    (identical_pay_group['vendor_name'].isin(top_30.index))].head()"
   ]
  },
  {
   "cell_type": "code",
   "execution_count": 33,
   "metadata": {},
   "outputs": [],
   "source": [
    "plt.figure(figsize=(15, 15))\n",
    "# plt.style.use('ggplot')\n",
    "\n",
    "\n",
    "plt.style.use('bmh')\n",
    "plt.style.use('seaborn-talk')\n",
    "# graph payment amount on y axis\n",
    "# graph payment count on x axis\n",
    "plt.scatter(identical_pay_group[(identical_pay_group[0] > 10) & \\\n",
    "                    (identical_pay_group['invoice_net_amt'] < 1000) & \\\n",
    "                    (identical_pay_group['vendor_name'].isin(top_30.index))].iloc[:,3],\n",
    "            identical_pay_group[(identical_pay_group[0] > 10) & \\\n",
    "                    (identical_pay_group['invoice_net_amt'] < 1000) & \\\n",
    "                    (identical_pay_group['vendor_name'].isin(top_30.index))].iloc[:,4],\n",
    "           alpha=.05,\n",
    "           s=500,\n",
    "           color='darkblue')\n",
    "\n",
    "plt.xlabel(\"Payment Amount\")\n",
    "plt.ylabel(\"Vendor Name\")\n",
    "plt.tight_layout()\n",
    "# plt.savefig(\"visualizations/identical_payments_less_than_1000_top_30_vendors.png\")"
   ]
  },
  {
   "cell_type": "markdown",
   "metadata": {},
   "source": [
    "### Find the top 5 vendors, how are their payments distributed?"
   ]
  },
  {
   "cell_type": "code",
   "execution_count": 21,
   "metadata": {},
   "outputs": [
    {
     "data": {
      "text/plain": [
       "CREATIVE COMMUNICATIONS              96\n",
       "WESTERN TOWING                       83\n",
       "CITY WIDE PEST CONTROL               55\n",
       "EUROFINS EATON ANALYTICAL INC        48\n",
       "COMMUNITY TIRE PROS & AUTO REPAIR    43\n",
       "Name: vendor_name, dtype: int64"
      ]
     },
     "execution_count": 21,
     "metadata": {},
     "output_type": "execute_result"
    }
   ],
   "source": [
    "# find top 5 vendors within above grouping \n",
    "identical_pay_group[(identical_pay_group[0] > 20) & (identical_pay_group['invoice_net_amt'] < 1000)] \\\n",
    "    ['vendor_name'].value_counts().head(5)"
   ]
  },
  {
   "cell_type": "code",
   "execution_count": 22,
   "metadata": {},
   "outputs": [
    {
     "data": {
      "text/plain": [
       "Index(['CREATIVE COMMUNICATIONS', 'WESTERN TOWING', 'CITY WIDE PEST CONTROL',\n",
       "       'EUROFINS EATON ANALYTICAL INC', 'COMMUNITY TIRE PROS & AUTO REPAIR'],\n",
       "      dtype='object')"
      ]
     },
     "execution_count": 22,
     "metadata": {},
     "output_type": "execute_result"
    }
   ],
   "source": [
    "# extract just the top 5 vendor names\n",
    "identical_pay_group[(identical_pay_group[0] > 20) & (identical_pay_group['invoice_net_amt'] < 1000)] \\\n",
    "    ['vendor_name'].value_counts().head(5).index"
   ]
  },
  {
   "cell_type": "code",
   "execution_count": 23,
   "metadata": {},
   "outputs": [],
   "source": [
    "# subset payments data based on the payments of these top 5 vendors\n",
    "id_payments_top_vendors = payments[payments['vendor_name'].isin(identical_pay_group[(identical_pay_group[0] > 20) & (identical_pay_group['invoice_net_amt'] < 1000)] \\\n",
    "    ['vendor_name'].value_counts().head(5).index)]"
   ]
  },
  {
   "cell_type": "code",
   "execution_count": 24,
   "metadata": {},
   "outputs": [
    {
     "data": {
      "text/plain": [
       "(79833, 8)"
      ]
     },
     "execution_count": 24,
     "metadata": {},
     "output_type": "execute_result"
    }
   ],
   "source": [
    "# how many rows?\n",
    "id_payments_top_vendors.shape"
   ]
  },
  {
   "cell_type": "markdown",
   "metadata": {},
   "source": [
    "### Use dot plots to show dispersion of all payments for top 5 vendors with idential payments"
   ]
  },
  {
   "cell_type": "code",
   "execution_count": 25,
   "metadata": {},
   "outputs": [],
   "source": [
    "fig, ax = plt.subplots(nrows=5, ncols=1, figsize=(15, 17))\n",
    "\n",
    "ax[0].scatter(payments[payments['vendor_name'] == 'CREATIVE COMMUNICATIONS']['invoice_net_amt'],\n",
    "              payments[payments['vendor_name'] == 'CREATIVE COMMUNICATIONS']['invoice_net_amt'].apply(lambda x: x * 0 + 1),\n",
    "              alpha=.1, \n",
    "              s=200)\n",
    "ax[0].set_title('CREATIVE COMMUNICATIONS')\n",
    "\n",
    "ax[1].scatter(payments[payments['vendor_name'] == 'WESTERN TOWING']['invoice_net_amt'],\n",
    "              payments[payments['vendor_name'] == 'WESTERN TOWING']['invoice_net_amt'].apply(lambda x: x * 0 + 1), \n",
    "              c='red',\n",
    "              alpha=.1, \n",
    "              s=200)\n",
    "ax[1].set_title('WESTERN TOWING')\n",
    "\n",
    "ax[2].scatter(payments[payments['vendor_name'] == 'CITY WIDE PEST CONTROL']['invoice_net_amt'],\n",
    "                 payments[payments['vendor_name'] == 'CITY WIDE PEST CONTROL']['invoice_net_amt'].apply(lambda x: x * 0 + 1), \n",
    "              c='green',\n",
    "              alpha=.1, \n",
    "              s=200)\n",
    "ax[2].set_title('CITY WIDE PEST CONTROL')\n",
    "\n",
    "ax[3].scatter(payments[payments['vendor_name'] == 'EUROFINS EATON ANALYTICAL INC']['invoice_net_amt'],\n",
    "                 payments[payments['vendor_name'] == 'EUROFINS EATON ANALYTICAL INC']['invoice_net_amt'].apply(lambda x: x * 0 + 1), \n",
    "              c='brown',alpha=.1, s=200)\n",
    "ax[3].set_title('EUROFINS EATON ANALYTICAL INC')\n",
    "\n",
    "ax[4].scatter(payments[payments['vendor_name'] == 'COMMUNITY TIRE PROS & AUTO REPAIR']['invoice_net_amt'],\n",
    "                 payments[payments['vendor_name'] == 'COMMUNITY TIRE PROS & AUTO REPAIR']['invoice_net_amt'].apply(lambda x: x * 0 + 1), \n",
    "              c='orange',alpha=.1, s=200)\n",
    "ax[4].set_title('COMMUNITY TIRE PROS & AUTO REPAIR')\n",
    "\n",
    "# remove tick marks on the y-axis\n",
    "for axis in ax.flat:\n",
    "    axis.yaxis.set_major_locator(plt.NullLocator())\n",
    "\n",
    "plt.xlabel(\"Payment Amount($)\")\n",
    "plt.tight_layout()\n",
    "\n",
    "# plt.savefig(\"visualizations/identical_payments_top_5_vendors_distributions.png\")"
   ]
  },
  {
   "cell_type": "markdown",
   "metadata": {},
   "source": [
    "### Graph all payments over time to the top 5 vendors who were paid identical payments.  Limit to only payments under 1,000."
   ]
  },
  {
   "cell_type": "code",
   "execution_count": 26,
   "metadata": {},
   "outputs": [],
   "source": [
    "plt.figure(figsize=(15, 8))\n",
    "plt.style.use('bmh')\n",
    "\n",
    "ax = sns.scatterplot(x=id_payments_top_vendors.iloc[:,7],\n",
    "           y=id_payments_top_vendors.iloc[:,3],\n",
    "           hue=id_payments_top_vendors.iloc[:,4],\n",
    "           alpha=.1,\n",
    "           s=50)\n",
    "\n",
    "plt.xlabel(\"Year/Month\")\n",
    "plt.ylabel(\"Payment Amount($)\")\n",
    "\n",
    "ax.xaxis.set_major_locator(ticker.MultipleLocator(5))\n",
    "\n",
    "plt.ylim(0, 1000)\n",
    "\n",
    "handles, labels = ax.get_legend_handles_labels()\n",
    "ax.legend(handles=handles[1:], labels=labels[1:], loc='upper center', bbox_to_anchor=(0.5, -0.10), ncol=5)\n",
    "\n",
    "plt.tight_layout()\n",
    "# plt.savefig(\"visualizations/identical_payments_top_5_vendors_all_payments_graph_under_$1000.png\")"
   ]
  },
  {
   "cell_type": "markdown",
   "metadata": {},
   "source": [
    "### Graph count of identical payments under 1,000 against the payment amount - limit to only the top 5 vendors with idential payments."
   ]
  },
  {
   "cell_type": "code",
   "execution_count": 27,
   "metadata": {},
   "outputs": [],
   "source": [
    "id_payments_less_1000 = identical_pay_group[(identical_pay_group[0] > 20) & \\\n",
    "                                            (identical_pay_group['invoice_net_amt'] < 1000)]"
   ]
  },
  {
   "cell_type": "code",
   "execution_count": 28,
   "metadata": {},
   "outputs": [
    {
     "data": {
      "text/html": [
       "<div>\n",
       "<style scoped>\n",
       "    .dataframe tbody tr th:only-of-type {\n",
       "        vertical-align: middle;\n",
       "    }\n",
       "\n",
       "    .dataframe tbody tr th {\n",
       "        vertical-align: top;\n",
       "    }\n",
       "\n",
       "    .dataframe thead th {\n",
       "        text-align: right;\n",
       "    }\n",
       "</style>\n",
       "<table border=\"1\" class=\"dataframe\">\n",
       "  <thead>\n",
       "    <tr style=\"text-align: right;\">\n",
       "      <th></th>\n",
       "      <th>check/payment_date</th>\n",
       "      <th>commitmt_item_name</th>\n",
       "      <th>dept._descrptn</th>\n",
       "      <th>invoice_net_amt</th>\n",
       "      <th>vendor_name</th>\n",
       "      <th>0</th>\n",
       "    </tr>\n",
       "  </thead>\n",
       "  <tbody>\n",
       "    <tr>\n",
       "      <th>1286</th>\n",
       "      <td>2014-01-02</td>\n",
       "      <td>Prop Management Cost</td>\n",
       "      <td>Aviation</td>\n",
       "      <td>174.39</td>\n",
       "      <td>BERRY REALTY &amp; ASSOC</td>\n",
       "      <td>34</td>\n",
       "    </tr>\n",
       "    <tr>\n",
       "      <th>2769</th>\n",
       "      <td>2014-01-06</td>\n",
       "      <td>Rel Adv Svcs-TrnAsst</td>\n",
       "      <td>Aviation</td>\n",
       "      <td>50.33</td>\n",
       "      <td>NEIGHBORHOOD HOUSING SERVICES</td>\n",
       "      <td>203</td>\n",
       "    </tr>\n",
       "    <tr>\n",
       "      <th>2770</th>\n",
       "      <td>2014-01-06</td>\n",
       "      <td>Rel Adv Svcs-TrnAsst</td>\n",
       "      <td>Aviation</td>\n",
       "      <td>50.34</td>\n",
       "      <td>NEIGHBORHOOD HOUSING SERVICES</td>\n",
       "      <td>71</td>\n",
       "    </tr>\n",
       "    <tr>\n",
       "      <th>5155</th>\n",
       "      <td>2014-01-09</td>\n",
       "      <td>Motor Vehicle Repair</td>\n",
       "      <td>Public Works</td>\n",
       "      <td>19.99</td>\n",
       "      <td>AUTO GLASS &amp; TINT DIRECT LLC</td>\n",
       "      <td>22</td>\n",
       "    </tr>\n",
       "    <tr>\n",
       "      <th>5158</th>\n",
       "      <td>2014-01-09</td>\n",
       "      <td>Motor Vehicle Repair</td>\n",
       "      <td>Public Works</td>\n",
       "      <td>45.00</td>\n",
       "      <td>AUTO GLASS &amp; TINT DIRECT LLC</td>\n",
       "      <td>48</td>\n",
       "    </tr>\n",
       "  </tbody>\n",
       "</table>\n",
       "</div>"
      ],
      "text/plain": [
       "     check/payment_date    commitmt_item_name dept._descrptn  invoice_net_amt  \\\n",
       "1286         2014-01-02  Prop Management Cost       Aviation           174.39   \n",
       "2769         2014-01-06  Rel Adv Svcs-TrnAsst       Aviation            50.33   \n",
       "2770         2014-01-06  Rel Adv Svcs-TrnAsst       Aviation            50.34   \n",
       "5155         2014-01-09  Motor Vehicle Repair   Public Works            19.99   \n",
       "5158         2014-01-09  Motor Vehicle Repair   Public Works            45.00   \n",
       "\n",
       "                        vendor_name    0  \n",
       "1286           BERRY REALTY & ASSOC   34  \n",
       "2769  NEIGHBORHOOD HOUSING SERVICES  203  \n",
       "2770  NEIGHBORHOOD HOUSING SERVICES   71  \n",
       "5155   AUTO GLASS & TINT DIRECT LLC   22  \n",
       "5158   AUTO GLASS & TINT DIRECT LLC   48  "
      ]
     },
     "execution_count": 28,
     "metadata": {},
     "output_type": "execute_result"
    }
   ],
   "source": [
    "id_payments_less_1000.head()"
   ]
  },
  {
   "cell_type": "code",
   "execution_count": 29,
   "metadata": {},
   "outputs": [],
   "source": [
    "top_5_id_payments_less_1000 = id_payments_less_1000[id_payments_less_1000['vendor_name'].isin(identical_pay_group[(identical_pay_group[0] > 20) & (identical_pay_group['invoice_net_amt'] < 1000)] \\\n",
    "    ['vendor_name'].value_counts().head(5).index)]"
   ]
  },
  {
   "cell_type": "code",
   "execution_count": 30,
   "metadata": {},
   "outputs": [
    {
     "data": {
      "text/html": [
       "<div>\n",
       "<style scoped>\n",
       "    .dataframe tbody tr th:only-of-type {\n",
       "        vertical-align: middle;\n",
       "    }\n",
       "\n",
       "    .dataframe tbody tr th {\n",
       "        vertical-align: top;\n",
       "    }\n",
       "\n",
       "    .dataframe thead th {\n",
       "        text-align: right;\n",
       "    }\n",
       "</style>\n",
       "<table border=\"1\" class=\"dataframe\">\n",
       "  <thead>\n",
       "    <tr style=\"text-align: right;\">\n",
       "      <th></th>\n",
       "      <th>check/payment_date</th>\n",
       "      <th>commitmt_item_name</th>\n",
       "      <th>dept._descrptn</th>\n",
       "      <th>invoice_net_amt</th>\n",
       "      <th>vendor_name</th>\n",
       "      <th>0</th>\n",
       "    </tr>\n",
       "  </thead>\n",
       "  <tbody>\n",
       "    <tr>\n",
       "      <th>12257</th>\n",
       "      <td>2014-01-21</td>\n",
       "      <td>Pest Control Service</td>\n",
       "      <td>Parks and Recreation</td>\n",
       "      <td>36.0</td>\n",
       "      <td>CITY WIDE PEST CONTROL</td>\n",
       "      <td>41</td>\n",
       "    </tr>\n",
       "    <tr>\n",
       "      <th>13921</th>\n",
       "      <td>2014-01-23</td>\n",
       "      <td>Motor Vehicle Repair</td>\n",
       "      <td>Public Works</td>\n",
       "      <td>45.0</td>\n",
       "      <td>WESTERN TOWING</td>\n",
       "      <td>37</td>\n",
       "    </tr>\n",
       "    <tr>\n",
       "      <th>13965</th>\n",
       "      <td>2014-01-23</td>\n",
       "      <td>Motor Vehicle Repair</td>\n",
       "      <td>Public Works</td>\n",
       "      <td>125.0</td>\n",
       "      <td>WESTERN TOWING</td>\n",
       "      <td>32</td>\n",
       "    </tr>\n",
       "    <tr>\n",
       "      <th>15127</th>\n",
       "      <td>2014-01-24</td>\n",
       "      <td>Motor Vehicle Repair</td>\n",
       "      <td>Public Works</td>\n",
       "      <td>45.0</td>\n",
       "      <td>WESTERN TOWING</td>\n",
       "      <td>22</td>\n",
       "    </tr>\n",
       "    <tr>\n",
       "      <th>23407</th>\n",
       "      <td>2014-02-06</td>\n",
       "      <td>Pest Control Service</td>\n",
       "      <td>Parks and Recreation</td>\n",
       "      <td>36.0</td>\n",
       "      <td>CITY WIDE PEST CONTROL</td>\n",
       "      <td>40</td>\n",
       "    </tr>\n",
       "  </tbody>\n",
       "</table>\n",
       "</div>"
      ],
      "text/plain": [
       "      check/payment_date    commitmt_item_name        dept._descrptn  \\\n",
       "12257         2014-01-21  Pest Control Service  Parks and Recreation   \n",
       "13921         2014-01-23  Motor Vehicle Repair          Public Works   \n",
       "13965         2014-01-23  Motor Vehicle Repair          Public Works   \n",
       "15127         2014-01-24  Motor Vehicle Repair          Public Works   \n",
       "23407         2014-02-06  Pest Control Service  Parks and Recreation   \n",
       "\n",
       "       invoice_net_amt             vendor_name   0  \n",
       "12257             36.0  CITY WIDE PEST CONTROL  41  \n",
       "13921             45.0          WESTERN TOWING  37  \n",
       "13965            125.0          WESTERN TOWING  32  \n",
       "15127             45.0          WESTERN TOWING  22  \n",
       "23407             36.0  CITY WIDE PEST CONTROL  40  "
      ]
     },
     "execution_count": 30,
     "metadata": {},
     "output_type": "execute_result"
    }
   ],
   "source": [
    "top_5_id_payments_less_1000.head()"
   ]
  },
  {
   "cell_type": "code",
   "execution_count": 31,
   "metadata": {},
   "outputs": [
    {
     "data": {
      "text/plain": [
       "(325, 6)"
      ]
     },
     "execution_count": 31,
     "metadata": {},
     "output_type": "execute_result"
    }
   ],
   "source": [
    "id_payments_less_1000[id_payments_less_1000['vendor_name'].isin(identical_pay_group[(identical_pay_group[0] > 20) & (identical_pay_group['invoice_net_amt'] < 1000)] \\\n",
    "    ['vendor_name'].value_counts().head(5).index)].shape"
   ]
  },
  {
   "cell_type": "code",
   "execution_count": 32,
   "metadata": {},
   "outputs": [],
   "source": [
    "plt.figure(figsize=(15, 8))\n",
    "\n",
    "sns.scatterplot(x=top_5_id_payments_less_1000.iloc[:,5],\n",
    "           y=top_5_id_payments_less_1000.iloc[:,3],\n",
    "           hue=top_5_id_payments_less_1000.iloc[:,4],\n",
    "           alpha=.3,\n",
    "               s=200)\n",
    "\n",
    "plt.xlabel(\"Count of Payments\")\n",
    "plt.ylabel(\"Payment Amount($)\")\n",
    "\n",
    "plt.tight_layout()\n",
    "# plt.savefig(\"visualizations/identical_payments_top_5_vendors_graph_under_$1000.png\")"
   ]
  },
  {
   "cell_type": "code",
   "execution_count": null,
   "metadata": {},
   "outputs": [],
   "source": []
  },
  {
   "cell_type": "code",
   "execution_count": null,
   "metadata": {},
   "outputs": [],
   "source": []
  },
  {
   "cell_type": "markdown",
   "metadata": {},
   "source": [
    "#### next steps\n",
    "~~exclude invoices with leading digit of 0~~\n",
    "1. which departments are most associated with duplicate payments? uniform cleaning?\n",
    "1. are certain time of the year associated with high volumes of payments to certain vendors?\n",
    "1. for vendors with more than 50 payments of the same amount on the same day . . .\n",
    "    - do the leading digits correspond to Benford's law?\n",
    "    - are thy provide similar goods/services?\n",
    "1. for vendors with a high number of negative payments . . .\n",
    "    - year over year, is the volume of negative payments about the same?\n",
    "    - negative payments as a percentage of total payments\n",
    "1. vendors with payments at specific times of the year(similar to what I did with the City of Scottsdale vendor payments).\n",
    "1. vendors with payments within a tight range(essentially a low variance in payment amount).\n",
    "1. group by dept. description and committment item name, within this combination\n",
    "which vendors make up the largest share of the spending?\n",
    "1. "
   ]
  }
 ],
 "metadata": {
  "kernelspec": {
   "display_name": "Python 3",
   "language": "python",
   "name": "python3"
  },
  "language_info": {
   "codemirror_mode": {
    "name": "ipython",
    "version": 3
   },
   "file_extension": ".py",
   "mimetype": "text/x-python",
   "name": "python",
   "nbconvert_exporter": "python",
   "pygments_lexer": "ipython3",
   "version": "3.7.1"
  }
 },
 "nbformat": 4,
 "nbformat_minor": 2
}
